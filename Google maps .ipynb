{
 "cells": [
  {
   "cell_type": "code",
   "execution_count": 1,
   "id": "a74672d1",
   "metadata": {},
   "outputs": [],
   "source": [
    "#!pip install folium\n",
    "from selenium import webdriver\n",
    "from selenium.webdriver.common.by import By\n",
    "from selenium.webdriver.support.ui import WebDriverWait\n",
    "from selenium.webdriver.support import expected_conditions as EC\n",
    "from selenium.webdriver.common.keys import Keys\n",
    "from selenium.common.exceptions import NoSuchElementException, TimeoutException, ElementNotInteractableException, ElementClickInterceptedException\n",
    "from tqdm import tqdm_notebook as tqdmn\n",
    "import pandas as pd\n",
    "import numpy as np\n",
    "import matplotlib.pyplot as plt\n",
    "import seaborn as sns\n",
    "import folium\n",
    "import time, re\n"
   ]
  },
  {
   "cell_type": "code",
   "execution_count": 2,
   "id": "1f8e223b",
   "metadata": {
    "scrolled": true
   },
   "outputs": [
    {
     "name": "stderr",
     "output_type": "stream",
     "text": [
      "C:\\Users\\psach\\AppData\\Local\\Temp/ipykernel_21652/201571316.py:2: DeprecationWarning: executable_path has been deprecated, please pass in a Service object\n",
      "  driver = webdriver.Chrome(\"C:\\\\chromedriver.exe\")\n"
     ]
    }
   ],
   "source": [
    "# Make sure to supply the path to where you put the chromedriver.exe file. Use \\\\ instead of \\ :\n",
    "driver = webdriver.Chrome(\"C:\\\\chromedriver.exe\")\n"
   ]
  },
  {
   "cell_type": "code",
   "execution_count": 3,
   "id": "00b2c9e6",
   "metadata": {},
   "outputs": [
    {
     "name": "stdout",
     "output_type": "stream",
     "text": [
      "last height: 666\n",
      "new height: 3155\n",
      "cont\n",
      "last height: 3155\n",
      "new height: 4053\n",
      "cont\n",
      "last height: 4053\n",
      "new height: 5369\n",
      "cont\n",
      "last height: 5369\n",
      "new height: 6840\n",
      "cont\n",
      "last height: 6840\n",
      "new height: 7913\n",
      "cont\n",
      "last height: 7913\n",
      "new height: 8905\n",
      "cont\n",
      "last height: 8905\n",
      "new height: 9996\n",
      "cont\n",
      "last height: 9996\n",
      "new height: 11041\n",
      "cont\n",
      "last height: 11041\n",
      "new height: 12047\n",
      "cont\n",
      "last height: 12047\n",
      "new height: 13302\n",
      "cont\n",
      "last height: 13302\n",
      "new height: 14395\n",
      "cont\n",
      "last height: 14395\n",
      "new height: 15499\n",
      "cont\n",
      "last height: 15499\n",
      "new height: 15931\n",
      "cont\n",
      "last height: 15931\n",
      "new height: 15910\n",
      "cont\n",
      "last height: 15910\n",
      "new height: 15910\n"
     ]
    }
   ],
   "source": [
    "full_name=[]\n",
    "ratings=[]\n",
    "business_category=[]\n",
    "address = []\n",
    "phone=[]\n",
    "website = []\n",
    "total_ratings = []\n",
    "starting_business = 'it company'\n",
    "city = 'pal surat'\n",
    "url = 'https://www.google.com/maps/search/' + starting_business + ' ' + city\n",
    "\n",
    "# Opening the search URL. You'll notice a chrome window opening :\n",
    "driver.get(url)\n",
    "\n",
    "SCROLL_PAUSE_TIME = 3\n",
    "\n",
    "# Get scroll height\n",
    "last_height = driver.execute_script(\"return document.body.scrollHeight\")\n",
    "\n",
    "number = 0\n",
    "\n",
    "while True:\n",
    "    number = number+1\n",
    "\n",
    "    # Scroll down to bottom\n",
    "    \n",
    "    ele = driver.find_element('xpath','//*[@id=\"QA0Szd\"]/div/div/div[1]/div[2]/div/div[1]/div/div/div[2]/div[1]')\n",
    "    driver.execute_script('arguments[0].scrollBy(0, 50000);', ele)\n",
    "\n",
    "    # Wait to load page\n",
    "\n",
    "    time.sleep(SCROLL_PAUSE_TIME)\n",
    "\n",
    "    # Calculate new scroll height and compare with last scroll height\n",
    "    print(f'last height: {last_height}')\n",
    "\n",
    "    ele = driver.find_element('xpath','//*[@id=\"QA0Szd\"]/div/div/div[1]/div[2]/div/div[1]/div/div/div[2]/div[1]')\n",
    "\n",
    "    new_height = driver.execute_script(\"return arguments[0].scrollHeight\", ele)\n",
    "\n",
    "    print(f'new height: {new_height}')\n",
    "\n",
    "    if number == 25:\n",
    "        break\n",
    "\n",
    "    if new_height == last_height:\n",
    "        break\n",
    "\n",
    "    print('cont')\n",
    "    last_height = new_height\n"
   ]
  },
  {
   "cell_type": "code",
   "execution_count": 4,
   "id": "fb058e74",
   "metadata": {},
   "outputs": [],
   "source": [
    "\n",
    "for j in range(3,115,2):  \n",
    "    name= driver.find_element('xpath','//*[@id=\"QA0Szd\"]/div/div/div[1]/div[2]/div/div[1]/div/div/div[2]/div[1]/div['+str(j)+']/div/div[2]/div[2]/div[1]/div/div/div[2]/div[1]/div[2]/span').text\n",
    "    if name=='':\n",
    "        full_name.append('null')\n",
    "    else:\n",
    "        full_name.append(name)\n",
    "    \n",
    "    rating = driver.find_element('xpath','//*[@id=\"QA0Szd\"]/div/div/div[1]/div[2]/div/div[1]/div/div/div[2]/div[1]/div['+str(j)+']/div/div[2]/div[2]/div[1]/div/div/div[2]/div[3]/div/span[2]/span[2]').text.split('(')[0]\n",
    "    if rating=='':\n",
    "        ratings.append('null')\n",
    "    else:\n",
    "        ratings.append(rating)\n",
    "    \n",
    "    bus = driver.find_element('xpath','//*[@id=\"QA0Szd\"]/div/div/div[1]/div[2]/div/div[1]/div/div/div[2]/div[1]/div['+str(j)+']/div/div[2]/div[2]/div[1]/div/div/div[2]/div[4]/div[1]/span[1]/jsl/span[2]').text\n",
    "    if bus =='':\n",
    "        business_category.append('null')\n",
    "    else:\n",
    "        business_category.append(bus)\n",
    "    try:   \n",
    "        add=driver.find_element('xpath','//*[@id=\"QA0Szd\"]/div/div/div[1]/div[2]/div/div[1]/div/div/div[2]/div[1]/div['+str(j)+']/div/div[2]/div[2]/div[1]/div/div/div[2]/div[4]/div[1]/span[2]/jsl/span[2]').text\n",
    "        address.append(add)\n",
    "    except NoSuchElementException:\n",
    "        address.append(\"null\")\n",
    "    try:\n",
    "        ph = driver.find_element('xpath','//*[@id=\"QA0Szd\"]/div/div/div[1]/div[2]/div/div[1]/div/div/div[2]/div[1]/div['+str(j)+']/div/div[2]/div[2]/div[1]/div/div/div[2]/div[4]/div[2]/span[2]/jsl/span[2]').text\n",
    "        phone.append(ph)\n",
    "    except NoSuchElementException :\n",
    "        phone.append('null')\n",
    "        \n",
    "    try:\n",
    "        web= driver.find_element('xpath','//*[@id=\"QA0Szd\"]/div/div/div[1]/div[2]/div/div[1]/div/div/div[2]/div[1]/div['+str(j)+']/div/div[2]/div[2]/div[2]/div[1]/a').get_attribute('href')\n",
    "        website.append(web)\n",
    "    except NoSuchElementException :\n",
    "        website.append('null')\n",
    "        \n",
    "    \n",
    "    t_rat = driver.find_element('xpath','//*[@id=\"QA0Szd\"]/div/div/div[1]/div[2]/div/div[1]/div/div/div[2]/div[1]/div['+str(j)+']/div/div[2]/div[2]/div[1]/div/div/div[2]/div[3]/div/span[2]/span[2]').text.split('(')[-1]\n",
    "    if t_rat=='':\n",
    "        total_ratings.append('null')\n",
    "    else:\n",
    "        total_ratings.append(t_rat) "
   ]
  },
  {
   "cell_type": "code",
   "execution_count": 5,
   "id": "74dd1769",
   "metadata": {},
   "outputs": [
    {
     "data": {
      "text/plain": [
       "56"
      ]
     },
     "execution_count": 5,
     "metadata": {},
     "output_type": "execute_result"
    }
   ],
   "source": [
    "len(full_name)"
   ]
  },
  {
   "cell_type": "code",
   "execution_count": 6,
   "id": "1006a89a",
   "metadata": {},
   "outputs": [
    {
     "data": {
      "text/plain": [
       "56"
      ]
     },
     "execution_count": 6,
     "metadata": {},
     "output_type": "execute_result"
    }
   ],
   "source": [
    "len(ratings)"
   ]
  },
  {
   "cell_type": "code",
   "execution_count": 7,
   "id": "519ae726",
   "metadata": {},
   "outputs": [
    {
     "data": {
      "text/plain": [
       "56"
      ]
     },
     "execution_count": 7,
     "metadata": {},
     "output_type": "execute_result"
    }
   ],
   "source": [
    "len(business_category)"
   ]
  },
  {
   "cell_type": "code",
   "execution_count": 8,
   "id": "63bef554",
   "metadata": {},
   "outputs": [
    {
     "data": {
      "text/plain": [
       "56"
      ]
     },
     "execution_count": 8,
     "metadata": {},
     "output_type": "execute_result"
    }
   ],
   "source": [
    "len(address)"
   ]
  },
  {
   "cell_type": "code",
   "execution_count": 9,
   "id": "00b052ab",
   "metadata": {},
   "outputs": [
    {
     "data": {
      "text/plain": [
       "56"
      ]
     },
     "execution_count": 9,
     "metadata": {},
     "output_type": "execute_result"
    }
   ],
   "source": [
    "len(phone)"
   ]
  },
  {
   "cell_type": "code",
   "execution_count": 10,
   "id": "a6abe690",
   "metadata": {},
   "outputs": [
    {
     "data": {
      "text/plain": [
       "56"
      ]
     },
     "execution_count": 10,
     "metadata": {},
     "output_type": "execute_result"
    }
   ],
   "source": [
    "len(website)"
   ]
  },
  {
   "cell_type": "code",
   "execution_count": 11,
   "id": "1ffc759d",
   "metadata": {},
   "outputs": [
    {
     "data": {
      "text/plain": [
       "56"
      ]
     },
     "execution_count": 11,
     "metadata": {},
     "output_type": "execute_result"
    }
   ],
   "source": [
    "len(total_ratings)"
   ]
  },
  {
   "cell_type": "code",
   "execution_count": 12,
   "id": "81f1d556",
   "metadata": {},
   "outputs": [
    {
     "name": "stdout",
     "output_type": "stream",
     "text": [
      "last height: 666\n",
      "new height: 3155\n",
      "cont\n",
      "last height: 3155\n",
      "new height: 4053\n",
      "cont\n",
      "last height: 4053\n",
      "new height: 5369\n",
      "cont\n",
      "last height: 5369\n",
      "new height: 6840\n",
      "cont\n",
      "last height: 6840\n",
      "new height: 7913\n",
      "cont\n",
      "last height: 7913\n",
      "new height: 8905\n",
      "cont\n",
      "last height: 8905\n",
      "new height: 9996\n",
      "cont\n",
      "last height: 9996\n",
      "new height: 11041\n",
      "cont\n",
      "last height: 11041\n",
      "new height: 12047\n",
      "cont\n",
      "last height: 12047\n",
      "new height: 13302\n",
      "cont\n",
      "last height: 13302\n",
      "new height: 14395\n",
      "cont\n",
      "last height: 14395\n",
      "new height: 15499\n",
      "cont\n",
      "last height: 15499\n",
      "new height: 15931\n",
      "cont\n",
      "last height: 15931\n",
      "new height: 15910\n",
      "cont\n",
      "last height: 15910\n",
      "new height: 15910\n"
     ]
    }
   ],
   "source": [
    "starting_business = 'it company'\n",
    "city = 'pal surat'\n",
    "url = 'https://www.google.com/maps/search/' + starting_business + ' ' + city\n",
    "\n",
    "# Opening the search URL. You'll notice a chrome window opening :\n",
    "driver.get(url)\n",
    "\n",
    "SCROLL_PAUSE_TIME = 3\n",
    "\n",
    "# Get scroll height\n",
    "last_height = driver.execute_script(\"return document.body.scrollHeight\")\n",
    "\n",
    "number = 0\n",
    "\n",
    "while True:\n",
    "    number = number+1\n",
    "\n",
    "    # Scroll down to bottom\n",
    "    \n",
    "    ele = driver.find_element('xpath','//*[@id=\"QA0Szd\"]/div/div/div[1]/div[2]/div/div[1]/div/div/div[2]/div[1]')\n",
    "    driver.execute_script('arguments[0].scrollBy(0, 50000);', ele)\n",
    "\n",
    "    # Wait to load page\n",
    "\n",
    "    time.sleep(SCROLL_PAUSE_TIME)\n",
    "\n",
    "    # Calculate new scroll height and compare with last scroll height\n",
    "    print(f'last height: {last_height}')\n",
    "\n",
    "    ele = driver.find_element('xpath','//*[@id=\"QA0Szd\"]/div/div/div[1]/div[2]/div/div[1]/div/div/div[2]/div[1]')\n",
    "\n",
    "    new_height = driver.execute_script(\"return arguments[0].scrollHeight\", ele)\n",
    "\n",
    "    print(f'new height: {new_height}')\n",
    "\n",
    "    if number == 25:\n",
    "        break\n",
    "\n",
    "    if new_height == last_height:\n",
    "        break\n",
    "\n",
    "    print('cont')\n",
    "    last_height = new_height\n",
    "    \n"
   ]
  },
  {
   "cell_type": "code",
   "execution_count": 13,
   "id": "74c23fc3",
   "metadata": {},
   "outputs": [],
   "source": [
    "for j in range(3,115,2):  \n",
    "    name= driver.find_element('xpath','//*[@id=\"QA0Szd\"]/div/div/div[1]/div[2]/div/div[1]/div/div/div[2]/div[1]/div['+str(j)+']/div/div[2]/div[2]/div[1]/div/div/div[2]/div[1]/div[2]/span').text\n",
    "    if name=='':\n",
    "        full_name.append('null')\n",
    "    else:\n",
    "        full_name.append(name)\n",
    "    \n",
    "    rating = driver.find_element('xpath','//*[@id=\"QA0Szd\"]/div/div/div[1]/div[2]/div/div[1]/div/div/div[2]/div[1]/div['+str(j)+']/div/div[2]/div[2]/div[1]/div/div/div[2]/div[3]/div/span[2]/span[2]').text.split('(')[0]\n",
    "    if rating=='':\n",
    "        ratings.append('null')\n",
    "    else:\n",
    "        ratings.append(rating)\n",
    "    \n",
    "    bus = driver.find_element('xpath','//*[@id=\"QA0Szd\"]/div/div/div[1]/div[2]/div/div[1]/div/div/div[2]/div[1]/div['+str(j)+']/div/div[2]/div[2]/div[1]/div/div/div[2]/div[4]/div[1]/span[1]/jsl/span[2]').text\n",
    "    if bus =='':\n",
    "        business_category.append('null')\n",
    "    else:\n",
    "        business_category.append(bus)\n",
    "    try:   \n",
    "        add=driver.find_element('xpath','//*[@id=\"QA0Szd\"]/div/div/div[1]/div[2]/div/div[1]/div/div/div[2]/div[1]/div['+str(j)+']/div/div[2]/div[2]/div[1]/div/div/div[2]/div[4]/div[1]/span[2]/jsl/span[2]').text\n",
    "        address.append(add)\n",
    "    except NoSuchElementException:\n",
    "        address.append(\"null\")\n",
    "    try:\n",
    "        ph = driver.find_element('xpath','//*[@id=\"QA0Szd\"]/div/div/div[1]/div[2]/div/div[1]/div/div/div[2]/div[1]/div['+str(j)+']/div/div[2]/div[2]/div[1]/div/div/div[2]/div[4]/div[2]/span[2]/jsl/span[2]').text\n",
    "        phone.append(ph)\n",
    "    except NoSuchElementException :\n",
    "        phone.append('null')\n",
    "        \n",
    "    try:\n",
    "        web= driver.find_element('xpath','//*[@id=\"QA0Szd\"]/div/div/div[1]/div[2]/div/div[1]/div/div/div[2]/div[1]/div['+str(j)+']/div/div[2]/div[2]/div[2]/div[1]/a').get_attribute('href')\n",
    "        website.append(web)\n",
    "    except NoSuchElementException :\n",
    "        website.append('null')\n",
    "        \n",
    "    \n",
    "    t_rat = driver.find_element('xpath','//*[@id=\"QA0Szd\"]/div/div/div[1]/div[2]/div/div[1]/div/div/div[2]/div[1]/div['+str(j)+']/div/div[2]/div[2]/div[1]/div/div/div[2]/div[3]/div/span[2]/span[2]').text.split('(')[-1]\n",
    "    if t_rat=='':\n",
    "        total_ratings.append('null')\n",
    "    else:\n",
    "        total_ratings.append(t_rat) "
   ]
  },
  {
   "cell_type": "code",
   "execution_count": 14,
   "id": "21e1b71b",
   "metadata": {},
   "outputs": [
    {
     "data": {
      "text/plain": [
       "112"
      ]
     },
     "execution_count": 14,
     "metadata": {},
     "output_type": "execute_result"
    }
   ],
   "source": [
    "len(full_name)"
   ]
  },
  {
   "cell_type": "code",
   "execution_count": 15,
   "id": "bcb7bc03",
   "metadata": {},
   "outputs": [
    {
     "data": {
      "text/plain": [
       "112"
      ]
     },
     "execution_count": 15,
     "metadata": {},
     "output_type": "execute_result"
    }
   ],
   "source": [
    "len(business_category)"
   ]
  },
  {
   "cell_type": "code",
   "execution_count": 16,
   "id": "524f2fc0",
   "metadata": {},
   "outputs": [
    {
     "data": {
      "text/plain": [
       "112"
      ]
     },
     "execution_count": 16,
     "metadata": {},
     "output_type": "execute_result"
    }
   ],
   "source": [
    "len(ratings)"
   ]
  },
  {
   "cell_type": "code",
   "execution_count": 17,
   "id": "1b35b71e",
   "metadata": {},
   "outputs": [
    {
     "data": {
      "text/plain": [
       "112"
      ]
     },
     "execution_count": 17,
     "metadata": {},
     "output_type": "execute_result"
    }
   ],
   "source": [
    "len(address)"
   ]
  },
  {
   "cell_type": "code",
   "execution_count": 18,
   "id": "8c2b59ee",
   "metadata": {},
   "outputs": [
    {
     "data": {
      "text/plain": [
       "112"
      ]
     },
     "execution_count": 18,
     "metadata": {},
     "output_type": "execute_result"
    }
   ],
   "source": [
    "len(phone)"
   ]
  },
  {
   "cell_type": "code",
   "execution_count": 19,
   "id": "f42c72ed",
   "metadata": {},
   "outputs": [
    {
     "data": {
      "text/plain": [
       "112"
      ]
     },
     "execution_count": 19,
     "metadata": {},
     "output_type": "execute_result"
    }
   ],
   "source": [
    "len(website)"
   ]
  },
  {
   "cell_type": "code",
   "execution_count": 20,
   "id": "636971e8",
   "metadata": {},
   "outputs": [
    {
     "data": {
      "text/plain": [
       "112"
      ]
     },
     "execution_count": 20,
     "metadata": {},
     "output_type": "execute_result"
    }
   ],
   "source": [
    "len(total_ratings)"
   ]
  },
  {
   "cell_type": "code",
   "execution_count": 21,
   "id": "697d26a9",
   "metadata": {},
   "outputs": [],
   "source": [
    "PS = pd.DataFrame(data={'full_name':full_name, 'rating':ratings, 'total_ratings':total_ratings, 'business_category':business_category, 'address':address, 'phone':phone, 'website':website})"
   ]
  },
  {
   "cell_type": "code",
   "execution_count": 23,
   "id": "772f0c40",
   "metadata": {},
   "outputs": [
    {
     "data": {
      "text/html": [
       "<div>\n",
       "<style scoped>\n",
       "    .dataframe tbody tr th:only-of-type {\n",
       "        vertical-align: middle;\n",
       "    }\n",
       "\n",
       "    .dataframe tbody tr th {\n",
       "        vertical-align: top;\n",
       "    }\n",
       "\n",
       "    .dataframe thead th {\n",
       "        text-align: right;\n",
       "    }\n",
       "</style>\n",
       "<table border=\"1\" class=\"dataframe\">\n",
       "  <thead>\n",
       "    <tr style=\"text-align: right;\">\n",
       "      <th></th>\n",
       "      <th>full_name</th>\n",
       "      <th>rating</th>\n",
       "      <th>total_ratings</th>\n",
       "      <th>business_category</th>\n",
       "      <th>address</th>\n",
       "      <th>phone</th>\n",
       "      <th>website</th>\n",
       "    </tr>\n",
       "  </thead>\n",
       "  <tbody>\n",
       "    <tr>\n",
       "      <th>0</th>\n",
       "      <td>Lane 4 Solution</td>\n",
       "      <td>5.0</td>\n",
       "      <td>28)</td>\n",
       "      <td>Software company</td>\n",
       "      <td>B-415, Monarch, Pragati Marg, near Lemon Grass...</td>\n",
       "      <td>null</td>\n",
       "      <td>http://www.lane4solution.com/</td>\n",
       "    </tr>\n",
       "    <tr>\n",
       "      <th>1</th>\n",
       "      <td>Neotech Solutions</td>\n",
       "      <td>4.9</td>\n",
       "      <td>19)</td>\n",
       "      <td>Software company</td>\n",
       "      <td>214 Raj Victoria, Opp Raj Arcade</td>\n",
       "      <td>063573 99944</td>\n",
       "      <td>http://neotechit.in/</td>\n",
       "    </tr>\n",
       "    <tr>\n",
       "      <th>2</th>\n",
       "      <td>KamalDhari Infotech - IT Company in Surat</td>\n",
       "      <td>4.5</td>\n",
       "      <td>107)</td>\n",
       "      <td>Software company</td>\n",
       "      <td>305, Western Arena, Near, Trinity Business Hub...</td>\n",
       "      <td>063528 12123</td>\n",
       "      <td>https://kamaldhari.com/</td>\n",
       "    </tr>\n",
       "    <tr>\n",
       "      <th>3</th>\n",
       "      <td>Trimantra Software Solution LLP</td>\n",
       "      <td>4.2</td>\n",
       "      <td>80)</td>\n",
       "      <td>Software company</td>\n",
       "      <td>401-402, 4th Floor, \"STAR WORLD\", Near Green C...</td>\n",
       "      <td>096247 71699</td>\n",
       "      <td>http://www.trimantra.com/</td>\n",
       "    </tr>\n",
       "    <tr>\n",
       "      <th>4</th>\n",
       "      <td>PIXML Solutions</td>\n",
       "      <td>5.0</td>\n",
       "      <td>6)</td>\n",
       "      <td>Software company</td>\n",
       "      <td>418, Raj Victoria, New Pal Lake Rd</td>\n",
       "      <td>099091 60070</td>\n",
       "      <td>https://www.pixml.in/</td>\n",
       "    </tr>\n",
       "    <tr>\n",
       "      <th>...</th>\n",
       "      <td>...</td>\n",
       "      <td>...</td>\n",
       "      <td>...</td>\n",
       "      <td>...</td>\n",
       "      <td>...</td>\n",
       "      <td>...</td>\n",
       "      <td>...</td>\n",
       "    </tr>\n",
       "    <tr>\n",
       "      <th>107</th>\n",
       "      <td>Shreepad World</td>\n",
       "      <td>null</td>\n",
       "      <td>null</td>\n",
       "      <td>Corporate office</td>\n",
       "      <td>Pal main road, Opp JK motors, Nr, Umara bridge</td>\n",
       "      <td>null</td>\n",
       "      <td>https://shreepadgroup.com/projects/shreepad-wo...</td>\n",
       "    </tr>\n",
       "    <tr>\n",
       "      <th>108</th>\n",
       "      <td>Lariox Technologies</td>\n",
       "      <td>5.0</td>\n",
       "      <td>2)</td>\n",
       "      <td>Technical service</td>\n",
       "      <td>Near, 208 , Star World Complex, Baghban Circle</td>\n",
       "      <td>099044 49894</td>\n",
       "      <td>http://www.larioxtechnologies.com/</td>\n",
       "    </tr>\n",
       "    <tr>\n",
       "      <th>109</th>\n",
       "      <td>Software Developer</td>\n",
       "      <td>5.0</td>\n",
       "      <td>1)</td>\n",
       "      <td>Computer support and services</td>\n",
       "      <td>72,prashant society</td>\n",
       "      <td>null</td>\n",
       "      <td>None</td>\n",
       "    </tr>\n",
       "    <tr>\n",
       "      <th>110</th>\n",
       "      <td>Dream Class Best BCA Tuition Classes BCA/MCA/B...</td>\n",
       "      <td>4.9</td>\n",
       "      <td>236)</td>\n",
       "      <td>Software company</td>\n",
       "      <td>413,Raj Corner,Opp Vasu Pujya Residency,Near L...</td>\n",
       "      <td>097123 85694</td>\n",
       "      <td>http://dreamclass.co.in/</td>\n",
       "    </tr>\n",
       "    <tr>\n",
       "      <th>111</th>\n",
       "      <td>Shreepad Group</td>\n",
       "      <td>4.5</td>\n",
       "      <td>4)</td>\n",
       "      <td>Real Estate Builders &amp; Construction Company</td>\n",
       "      <td>Opp.J K motors, Nr. Pal-Umara Bridge, Pal Rd</td>\n",
       "      <td>null</td>\n",
       "      <td>https://shreepadgroup.com/</td>\n",
       "    </tr>\n",
       "  </tbody>\n",
       "</table>\n",
       "<p>112 rows × 7 columns</p>\n",
       "</div>"
      ],
      "text/plain": [
       "                                             full_name rating total_ratings  \\\n",
       "0                                      Lane 4 Solution    5.0           28)   \n",
       "1                                    Neotech Solutions    4.9           19)   \n",
       "2            KamalDhari Infotech - IT Company in Surat    4.5          107)   \n",
       "3                      Trimantra Software Solution LLP    4.2           80)   \n",
       "4                                      PIXML Solutions    5.0            6)   \n",
       "..                                                 ...    ...           ...   \n",
       "107                                     Shreepad World   null          null   \n",
       "108                                Lariox Technologies    5.0            2)   \n",
       "109                                 Software Developer    5.0            1)   \n",
       "110  Dream Class Best BCA Tuition Classes BCA/MCA/B...    4.9          236)   \n",
       "111                                     Shreepad Group    4.5            4)   \n",
       "\n",
       "                               business_category  \\\n",
       "0                               Software company   \n",
       "1                               Software company   \n",
       "2                               Software company   \n",
       "3                               Software company   \n",
       "4                               Software company   \n",
       "..                                           ...   \n",
       "107                             Corporate office   \n",
       "108                            Technical service   \n",
       "109                Computer support and services   \n",
       "110                             Software company   \n",
       "111  Real Estate Builders & Construction Company   \n",
       "\n",
       "                                               address         phone  \\\n",
       "0    B-415, Monarch, Pragati Marg, near Lemon Grass...          null   \n",
       "1                     214 Raj Victoria, Opp Raj Arcade  063573 99944   \n",
       "2    305, Western Arena, Near, Trinity Business Hub...  063528 12123   \n",
       "3    401-402, 4th Floor, \"STAR WORLD\", Near Green C...  096247 71699   \n",
       "4                   418, Raj Victoria, New Pal Lake Rd  099091 60070   \n",
       "..                                                 ...           ...   \n",
       "107     Pal main road, Opp JK motors, Nr, Umara bridge          null   \n",
       "108     Near, 208 , Star World Complex, Baghban Circle  099044 49894   \n",
       "109                                72,prashant society          null   \n",
       "110  413,Raj Corner,Opp Vasu Pujya Residency,Near L...  097123 85694   \n",
       "111       Opp.J K motors, Nr. Pal-Umara Bridge, Pal Rd          null   \n",
       "\n",
       "                                               website  \n",
       "0                        http://www.lane4solution.com/  \n",
       "1                                 http://neotechit.in/  \n",
       "2                              https://kamaldhari.com/  \n",
       "3                            http://www.trimantra.com/  \n",
       "4                                https://www.pixml.in/  \n",
       "..                                                 ...  \n",
       "107  https://shreepadgroup.com/projects/shreepad-wo...  \n",
       "108                 http://www.larioxtechnologies.com/  \n",
       "109                                               None  \n",
       "110                           http://dreamclass.co.in/  \n",
       "111                         https://shreepadgroup.com/  \n",
       "\n",
       "[112 rows x 7 columns]"
      ]
     },
     "execution_count": 23,
     "metadata": {},
     "output_type": "execute_result"
    }
   ],
   "source": [
    "PS"
   ]
  },
  {
   "cell_type": "code",
   "execution_count": 24,
   "id": "5ca537df",
   "metadata": {},
   "outputs": [],
   "source": [
    "PS.to_csv('it_company_surat2.csv')"
   ]
  },
  {
   "cell_type": "code",
   "execution_count": 412,
   "id": "16ae27e1",
   "metadata": {},
   "outputs": [
    {
     "name": "stdout",
     "output_type": "stream",
     "text": [
      "last height: 666\n",
      "new height: 2731\n",
      "cont\n",
      "last height: 2731\n",
      "new height: 3797\n",
      "cont\n",
      "last height: 3797\n",
      "new height: 4965\n",
      "cont\n",
      "last height: 4965\n",
      "new height: 6140\n",
      "cont\n",
      "last height: 6140\n",
      "new height: 7161\n",
      "cont\n",
      "last height: 7161\n",
      "new height: 8577\n",
      "cont\n",
      "last height: 8577\n",
      "new height: 9744\n",
      "cont\n",
      "last height: 9744\n",
      "new height: 10751\n",
      "cont\n",
      "last height: 10751\n",
      "new height: 11921\n",
      "cont\n",
      "last height: 11921\n",
      "new height: 13088\n",
      "cont\n",
      "last height: 13088\n",
      "new height: 14221\n",
      "cont\n",
      "last height: 14221\n",
      "new height: 15343\n",
      "cont\n",
      "last height: 15343\n",
      "new height: 16518\n",
      "cont\n",
      "last height: 16518\n",
      "new height: 17603\n",
      "cont\n",
      "last height: 17603\n",
      "new height: 18663\n",
      "cont\n",
      "last height: 18663\n",
      "new height: 19670\n",
      "cont\n",
      "last height: 19670\n",
      "new height: 20920\n",
      "cont\n",
      "last height: 20920\n",
      "new height: 20802\n",
      "cont\n",
      "last height: 20802\n",
      "new height: 20802\n"
     ]
    }
   ],
   "source": [
    "starting_business = 'it company'\n",
    "city = 'udhana surat'\n",
    "url = 'https://www.google.com/maps/search/' + starting_business + ' ' + city\n",
    "\n",
    "# Opening the search URL. You'll notice a chrome window opening :\n",
    "driver.get(url)\n",
    "\n",
    "SCROLL_PAUSE_TIME = 3\n",
    "\n",
    "# Get scroll height\n",
    "last_height = driver.execute_script(\"return document.body.scrollHeight\")\n",
    "\n",
    "number = 0\n",
    "\n",
    "while True:\n",
    "    number = number+1\n",
    "\n",
    "    # Scroll down to bottom\n",
    "    \n",
    "    ele = driver.find_element('xpath','//*[@id=\"QA0Szd\"]/div/div/div[1]/div[2]/div/div[1]/div/div/div[2]/div[1]')\n",
    "    driver.execute_script('arguments[0].scrollBy(0, 50000);', ele)\n",
    "\n",
    "    # Wait to load page\n",
    "\n",
    "    time.sleep(SCROLL_PAUSE_TIME)\n",
    "\n",
    "    # Calculate new scroll height and compare with last scroll height\n",
    "    print(f'last height: {last_height}')\n",
    "\n",
    "    ele = driver.find_element('xpath','//*[@id=\"QA0Szd\"]/div/div/div[1]/div[2]/div/div[1]/div/div/div[2]/div[1]')\n",
    "\n",
    "    new_height = driver.execute_script(\"return arguments[0].scrollHeight\", ele)\n",
    "\n",
    "    print(f'new height: {new_height}')\n",
    "\n",
    "    if number == 25:\n",
    "        break\n",
    "\n",
    "    if new_height == last_height:\n",
    "        break\n",
    "\n",
    "    print('cont')\n",
    "    last_height = new_height\n",
    "    \n"
   ]
  },
  {
   "cell_type": "code",
   "execution_count": 413,
   "id": "b5f2ac74",
   "metadata": {},
   "outputs": [],
   "source": [
    "for j in range(3,115,2):  \n",
    "    name= driver.find_element('xpath','//*[@id=\"QA0Szd\"]/div/div/div[1]/div[2]/div/div[1]/div/div/div[2]/div[1]/div['+str(j)+']/div/div[2]/div[2]/div[1]/div/div/div[2]/div[1]/div[2]/span').text\n",
    "    if name=='':\n",
    "        full_name.append('null')\n",
    "    else:\n",
    "        full_name.append(name)\n",
    "    \n",
    "    rating = driver.find_element('xpath','//*[@id=\"QA0Szd\"]/div/div/div[1]/div[2]/div/div[1]/div/div/div[2]/div[1]/div['+str(j)+']/div/div[2]/div[2]/div[1]/div/div/div[2]/div[3]/div/span[2]/span[2]').text.split('(')[0]\n",
    "    if rating=='':\n",
    "        ratings.append('null')\n",
    "    else:\n",
    "        ratings.append(rating)\n",
    "    \n",
    "    bus = driver.find_element('xpath','//*[@id=\"QA0Szd\"]/div/div/div[1]/div[2]/div/div[1]/div/div/div[2]/div[1]/div['+str(j)+']/div/div[2]/div[2]/div[1]/div/div/div[2]/div[4]/div[1]/span[1]/jsl/span[2]').text\n",
    "    if bus =='':\n",
    "        business_category.append('null')\n",
    "    else:\n",
    "        business_category.append(bus)\n",
    "    try:   \n",
    "        add=driver.find_element('xpath','//*[@id=\"QA0Szd\"]/div/div/div[1]/div[2]/div/div[1]/div/div/div[2]/div[1]/div['+str(j)+']/div/div[2]/div[2]/div[1]/div/div/div[2]/div[4]/div[1]/span[2]/jsl/span[2]').text\n",
    "        address.append(add)\n",
    "    except NoSuchElementException:\n",
    "        address.append(\"null\")\n",
    "    try:\n",
    "        ph = driver.find_element('xpath','//*[@id=\"QA0Szd\"]/div/div/div[1]/div[2]/div/div[1]/div/div/div[2]/div[1]/div['+str(j)+']/div/div[2]/div[2]/div[1]/div/div/div[2]/div[4]/div[2]/span[2]/jsl/span[2]').text\n",
    "        phone.append(ph)\n",
    "    except NoSuchElementException :\n",
    "        phone.append('null')\n",
    "        \n",
    "    try:\n",
    "        web= driver.find_element('xpath','//*[@id=\"QA0Szd\"]/div/div/div[1]/div[2]/div/div[1]/div/div/div[2]/div[1]/div['+str(j)+']/div/div[2]/div[2]/div[2]/div[1]/a').get_attribute('href')\n",
    "        website.append(web)\n",
    "    except NoSuchElementException :\n",
    "        website.append('null')\n",
    "        \n",
    "    \n",
    "    t_rat = driver.find_element('xpath','//*[@id=\"QA0Szd\"]/div/div/div[1]/div[2]/div/div[1]/div/div/div[2]/div[1]/div['+str(j)+']/div/div[2]/div[2]/div[1]/div/div/div[2]/div[3]/div/span[2]/span[2]').text.split('(')[-1]\n",
    "    if t_rat=='':\n",
    "        total_ratings.append('null')\n",
    "    else:\n",
    "        total_ratings.append(t_rat) "
   ]
  },
  {
   "cell_type": "code",
   "execution_count": 414,
   "id": "ee26e298",
   "metadata": {},
   "outputs": [
    {
     "data": {
      "text/plain": [
       "168"
      ]
     },
     "execution_count": 414,
     "metadata": {},
     "output_type": "execute_result"
    }
   ],
   "source": [
    "len(full_name)"
   ]
  },
  {
   "cell_type": "code",
   "execution_count": 415,
   "id": "88f16b52",
   "metadata": {},
   "outputs": [
    {
     "data": {
      "text/plain": [
       "168"
      ]
     },
     "execution_count": 415,
     "metadata": {},
     "output_type": "execute_result"
    }
   ],
   "source": [
    "len(business_category)"
   ]
  },
  {
   "cell_type": "code",
   "execution_count": 416,
   "id": "270fa1d1",
   "metadata": {},
   "outputs": [
    {
     "data": {
      "text/plain": [
       "168"
      ]
     },
     "execution_count": 416,
     "metadata": {},
     "output_type": "execute_result"
    }
   ],
   "source": [
    "len(ratings)"
   ]
  },
  {
   "cell_type": "code",
   "execution_count": 417,
   "id": "519b2320",
   "metadata": {},
   "outputs": [
    {
     "data": {
      "text/plain": [
       "168"
      ]
     },
     "execution_count": 417,
     "metadata": {},
     "output_type": "execute_result"
    }
   ],
   "source": [
    "len(address)"
   ]
  },
  {
   "cell_type": "code",
   "execution_count": 418,
   "id": "5b9a6855",
   "metadata": {},
   "outputs": [
    {
     "data": {
      "text/plain": [
       "168"
      ]
     },
     "execution_count": 418,
     "metadata": {},
     "output_type": "execute_result"
    }
   ],
   "source": [
    "len(phone)"
   ]
  },
  {
   "cell_type": "code",
   "execution_count": 419,
   "id": "625d6857",
   "metadata": {},
   "outputs": [
    {
     "data": {
      "text/plain": [
       "168"
      ]
     },
     "execution_count": 419,
     "metadata": {},
     "output_type": "execute_result"
    }
   ],
   "source": [
    "len(website)"
   ]
  },
  {
   "cell_type": "code",
   "execution_count": 420,
   "id": "a381752c",
   "metadata": {},
   "outputs": [
    {
     "data": {
      "text/plain": [
       "168"
      ]
     },
     "execution_count": 420,
     "metadata": {},
     "output_type": "execute_result"
    }
   ],
   "source": [
    "len(total_ratings)"
   ]
  },
  {
   "cell_type": "code",
   "execution_count": 421,
   "id": "4c8108b8",
   "metadata": {},
   "outputs": [
    {
     "name": "stdout",
     "output_type": "stream",
     "text": [
      "last height: 666\n",
      "new height: 3119\n",
      "cont\n",
      "last height: 3119\n",
      "new height: 4085\n",
      "cont\n",
      "last height: 4085\n",
      "new height: 5429\n",
      "cont\n",
      "last height: 5429\n",
      "new height: 6596\n",
      "cont\n",
      "last height: 6596\n",
      "new height: 7765\n",
      "cont\n",
      "last height: 7765\n",
      "new height: 8817\n",
      "cont\n",
      "last height: 8817\n",
      "new height: 10024\n",
      "cont\n",
      "last height: 10024\n",
      "new height: 11113\n",
      "cont\n",
      "last height: 11113\n",
      "new height: 12373\n",
      "cont\n",
      "last height: 12373\n",
      "new height: 13764\n",
      "cont\n",
      "last height: 13764\n",
      "new height: 14841\n",
      "cont\n",
      "last height: 14841\n",
      "new height: 15981\n",
      "cont\n",
      "last height: 15981\n",
      "new height: 17220\n",
      "cont\n",
      "last height: 17220\n",
      "new height: 18193\n",
      "cont\n",
      "last height: 18193\n",
      "new height: 19617\n",
      "cont\n",
      "last height: 19617\n",
      "new height: 20960\n",
      "cont\n",
      "last height: 20960\n",
      "new height: 21944\n",
      "cont\n",
      "last height: 21944\n",
      "new height: 21944\n"
     ]
    }
   ],
   "source": [
    "starting_business = 'it company'\n",
    "city = 'adajan surat'\n",
    "url = 'https://www.google.com/maps/search/' + starting_business + ' ' + city\n",
    "\n",
    "# Opening the search URL. You'll notice a chrome window opening :\n",
    "driver.get(url)\n",
    "\n",
    "SCROLL_PAUSE_TIME = 3\n",
    "\n",
    "# Get scroll height\n",
    "last_height = driver.execute_script(\"return document.body.scrollHeight\")\n",
    "\n",
    "number = 0\n",
    "\n",
    "while True:\n",
    "    number = number+1\n",
    "\n",
    "    # Scroll down to bottom\n",
    "    \n",
    "    ele = driver.find_element('xpath','//*[@id=\"QA0Szd\"]/div/div/div[1]/div[2]/div/div[1]/div/div/div[2]/div[1]')\n",
    "    driver.execute_script('arguments[0].scrollBy(0, 50000);', ele)\n",
    "\n",
    "    # Wait to load page\n",
    "\n",
    "    time.sleep(SCROLL_PAUSE_TIME)\n",
    "\n",
    "    # Calculate new scroll height and compare with last scroll height\n",
    "    print(f'last height: {last_height}')\n",
    "\n",
    "    ele = driver.find_element('xpath','//*[@id=\"QA0Szd\"]/div/div/div[1]/div[2]/div/div[1]/div/div/div[2]/div[1]')\n",
    "\n",
    "    new_height = driver.execute_script(\"return arguments[0].scrollHeight\", ele)\n",
    "\n",
    "    print(f'new height: {new_height}')\n",
    "\n",
    "    if number == 25:\n",
    "        break\n",
    "\n",
    "    if new_height == last_height:\n",
    "        break\n",
    "\n",
    "    print('cont')\n",
    "    last_height = new_height"
   ]
  },
  {
   "cell_type": "code",
   "execution_count": 422,
   "id": "72bf658b",
   "metadata": {},
   "outputs": [],
   "source": [
    "for j in range(3,115,2):  \n",
    "    name= driver.find_element('xpath','//*[@id=\"QA0Szd\"]/div/div/div[1]/div[2]/div/div[1]/div/div/div[2]/div[1]/div['+str(j)+']/div/div[2]/div[2]/div[1]/div/div/div[2]/div[1]/div[2]/span').text\n",
    "    if name=='':\n",
    "        full_name.append('null')\n",
    "    else:\n",
    "        full_name.append(name)\n",
    "    \n",
    "    rating = driver.find_element('xpath','//*[@id=\"QA0Szd\"]/div/div/div[1]/div[2]/div/div[1]/div/div/div[2]/div[1]/div['+str(j)+']/div/div[2]/div[2]/div[1]/div/div/div[2]/div[3]/div/span[2]/span[2]').text.split('(')[0]\n",
    "    if rating=='':\n",
    "        ratings.append('null')\n",
    "    else:\n",
    "        ratings.append(rating)\n",
    "    \n",
    "    bus = driver.find_element('xpath','//*[@id=\"QA0Szd\"]/div/div/div[1]/div[2]/div/div[1]/div/div/div[2]/div[1]/div['+str(j)+']/div/div[2]/div[2]/div[1]/div/div/div[2]/div[4]/div[1]/span[1]/jsl/span[2]').text\n",
    "    if bus =='':\n",
    "        business_category.append('null')\n",
    "    else:\n",
    "        business_category.append(bus)\n",
    "    try:   \n",
    "        add=driver.find_element('xpath','//*[@id=\"QA0Szd\"]/div/div/div[1]/div[2]/div/div[1]/div/div/div[2]/div[1]/div['+str(j)+']/div/div[2]/div[2]/div[1]/div/div/div[2]/div[4]/div[1]/span[2]/jsl/span[2]').text\n",
    "        address.append(add)\n",
    "    except NoSuchElementException:\n",
    "        address.append(\"null\")\n",
    "    try:\n",
    "        ph = driver.find_element('xpath','//*[@id=\"QA0Szd\"]/div/div/div[1]/div[2]/div/div[1]/div/div/div[2]/div[1]/div['+str(j)+']/div/div[2]/div[2]/div[1]/div/div/div[2]/div[4]/div[2]/span[2]/jsl/span[2]').text\n",
    "        phone.append(ph)\n",
    "    except NoSuchElementException :\n",
    "        phone.append('null')\n",
    "        \n",
    "    try:\n",
    "        web= driver.find_element('xpath','//*[@id=\"QA0Szd\"]/div/div/div[1]/div[2]/div/div[1]/div/div/div[2]/div[1]/div['+str(j)+']/div/div[2]/div[2]/div[2]/div[1]/a').get_attribute('href')\n",
    "        website.append(web)\n",
    "    except NoSuchElementException :\n",
    "        website.append('null')\n",
    "        \n",
    "    \n",
    "    t_rat = driver.find_element('xpath','//*[@id=\"QA0Szd\"]/div/div/div[1]/div[2]/div/div[1]/div/div/div[2]/div[1]/div['+str(j)+']/div/div[2]/div[2]/div[1]/div/div/div[2]/div[3]/div/span[2]/span[2]').text.split('(')[-1]\n",
    "    if t_rat=='':\n",
    "        total_ratings.append('null')\n",
    "    else:\n",
    "        total_ratings.append(t_rat) "
   ]
  },
  {
   "cell_type": "code",
   "execution_count": 423,
   "id": "d2ba55f7",
   "metadata": {},
   "outputs": [
    {
     "data": {
      "text/plain": [
       "224"
      ]
     },
     "execution_count": 423,
     "metadata": {},
     "output_type": "execute_result"
    }
   ],
   "source": [
    "len(full_name)"
   ]
  },
  {
   "cell_type": "code",
   "execution_count": 424,
   "id": "43040395",
   "metadata": {},
   "outputs": [
    {
     "data": {
      "text/plain": [
       "224"
      ]
     },
     "execution_count": 424,
     "metadata": {},
     "output_type": "execute_result"
    }
   ],
   "source": [
    "len(ratings)"
   ]
  },
  {
   "cell_type": "code",
   "execution_count": 425,
   "id": "e0ac2020",
   "metadata": {},
   "outputs": [
    {
     "data": {
      "text/plain": [
       "224"
      ]
     },
     "execution_count": 425,
     "metadata": {},
     "output_type": "execute_result"
    }
   ],
   "source": [
    "len(address)"
   ]
  },
  {
   "cell_type": "code",
   "execution_count": 426,
   "id": "c1931db5",
   "metadata": {},
   "outputs": [
    {
     "data": {
      "text/plain": [
       "224"
      ]
     },
     "execution_count": 426,
     "metadata": {},
     "output_type": "execute_result"
    }
   ],
   "source": [
    "len(phone)"
   ]
  },
  {
   "cell_type": "code",
   "execution_count": 427,
   "id": "4aa895ff",
   "metadata": {},
   "outputs": [
    {
     "data": {
      "text/plain": [
       "224"
      ]
     },
     "execution_count": 427,
     "metadata": {},
     "output_type": "execute_result"
    }
   ],
   "source": [
    "len(website)"
   ]
  },
  {
   "cell_type": "code",
   "execution_count": 428,
   "id": "607735ad",
   "metadata": {},
   "outputs": [
    {
     "data": {
      "text/plain": [
       "224"
      ]
     },
     "execution_count": 428,
     "metadata": {},
     "output_type": "execute_result"
    }
   ],
   "source": [
    "len(total_ratings)"
   ]
  },
  {
   "cell_type": "code",
   "execution_count": 429,
   "id": "ed68fa0c",
   "metadata": {},
   "outputs": [
    {
     "data": {
      "text/plain": [
       "224"
      ]
     },
     "execution_count": 429,
     "metadata": {},
     "output_type": "execute_result"
    }
   ],
   "source": [
    "len(business_category)"
   ]
  },
  {
   "cell_type": "code",
   "execution_count": 430,
   "id": "232d2e0c",
   "metadata": {},
   "outputs": [
    {
     "name": "stdout",
     "output_type": "stream",
     "text": [
      "last height: 666\n",
      "new height: 2783\n",
      "cont\n",
      "last height: 2783\n",
      "new height: 3661\n",
      "cont\n",
      "last height: 3661\n",
      "new height: 4789\n",
      "cont\n",
      "last height: 4789\n",
      "new height: 6112\n",
      "cont\n",
      "last height: 6112\n",
      "new height: 7097\n",
      "cont\n",
      "last height: 7097\n",
      "new height: 8281\n",
      "cont\n",
      "last height: 8281\n",
      "new height: 9404\n",
      "cont\n",
      "last height: 9404\n",
      "new height: 10417\n",
      "cont\n",
      "last height: 10417\n",
      "new height: 11789\n",
      "cont\n",
      "last height: 11789\n",
      "new height: 12944\n",
      "cont\n",
      "last height: 12944\n",
      "new height: 13993\n",
      "cont\n",
      "last height: 13993\n",
      "new height: 15139\n",
      "cont\n",
      "last height: 15139\n",
      "new height: 16362\n",
      "cont\n",
      "last height: 16362\n",
      "new height: 17483\n",
      "cont\n",
      "last height: 17483\n",
      "new height: 18543\n",
      "cont\n",
      "last height: 18543\n",
      "new height: 19738\n",
      "cont\n",
      "last height: 19738\n",
      "new height: 20602\n",
      "cont\n",
      "last height: 20602\n",
      "new height: 20602\n"
     ]
    }
   ],
   "source": [
    "starting_business = 'it company'\n",
    "city = 'Mota varachha surat'\n",
    "url = 'https://www.google.com/maps/search/' + starting_business + ' ' + city\n",
    "\n",
    "# Opening the search URL. You'll notice a chrome window opening :\n",
    "driver.get(url)\n",
    "\n",
    "SCROLL_PAUSE_TIME = 3\n",
    "\n",
    "# Get scroll height\n",
    "last_height = driver.execute_script(\"return document.body.scrollHeight\")\n",
    "\n",
    "number = 0\n",
    "\n",
    "while True:\n",
    "    number = number+1\n",
    "\n",
    "    # Scroll down to bottom\n",
    "    \n",
    "    ele = driver.find_element('xpath','//*[@id=\"QA0Szd\"]/div/div/div[1]/div[2]/div/div[1]/div/div/div[2]/div[1]')\n",
    "    driver.execute_script('arguments[0].scrollBy(0, 50000);', ele)\n",
    "\n",
    "    # Wait to load page\n",
    "\n",
    "    time.sleep(SCROLL_PAUSE_TIME)\n",
    "\n",
    "    # Calculate new scroll height and compare with last scroll height\n",
    "    print(f'last height: {last_height}')\n",
    "\n",
    "    ele = driver.find_element('xpath','//*[@id=\"QA0Szd\"]/div/div/div[1]/div[2]/div/div[1]/div/div/div[2]/div[1]')\n",
    "\n",
    "    new_height = driver.execute_script(\"return arguments[0].scrollHeight\", ele)\n",
    "\n",
    "    print(f'new height: {new_height}')\n",
    "\n",
    "    if number == 25:\n",
    "        break\n",
    "\n",
    "    if new_height == last_height:\n",
    "        break\n",
    "\n",
    "    print('cont')\n",
    "    last_height = new_height\n",
    "    \n"
   ]
  },
  {
   "cell_type": "code",
   "execution_count": 431,
   "id": "388e0fc9",
   "metadata": {},
   "outputs": [],
   "source": [
    "for j in range(3,115,2):\n",
    "    try:                              \n",
    "        name= driver.find_element('xpath','//*[@id=\"QA0Szd\"]/div/div/div[1]/div[2]/div/div[1]/div/div/div[2]/div[1]/div['+str(j)+']/div/div[2]/div[2]/div[1]/div/div/div[2]/div[1]/div[2]/span').text\n",
    "        full_name.append(name)\n",
    "    except NoSuchElementException:\n",
    "        full_name.append('null')\n",
    "    try:\n",
    "        rating = driver.find_element('xpath','//*[@id=\"QA0Szd\"]/div/div/div[1]/div[2]/div/div[1]/div/div/div[2]/div[1]/div['+str(j)+']/div/div[2]/div[2]/div[1]/div/div/div[2]/div[3]/div/span[2]/span[2]').text.split('(')[0]\n",
    "        ratings.append(rating)\n",
    "    except NoSuchElementException:\n",
    "        ratings.append(\"null\")\n",
    "    try:\n",
    "        bus = driver.find_element('xpath','//*[@id=\"QA0Szd\"]/div/div/div[1]/div[2]/div/div[1]/div/div/div[2]/div[1]/div['+str(j)+']/div/div[2]/div[2]/div[1]/div/div/div[2]/div[4]/div[1]/span[1]/jsl/span[2]').text\n",
    "        business_category.append(bus)\n",
    "    except NoSuchElementException:\n",
    "        business_category.append(\"null\")\n",
    "    try:   \n",
    "        add=driver.find_element('xpath','//*[@id=\"QA0Szd\"]/div/div/div[1]/div[2]/div/div[1]/div/div/div[2]/div[1]/div['+str(j)+']/div/div[2]/div[2]/div[1]/div/div/div[2]/div[4]/div[1]/span[2]/jsl/span[2]').text\n",
    "        address.append(add)\n",
    "    except NoSuchElementException:\n",
    "        address.append(\"null\")\n",
    "    try:\n",
    "        ph = driver.find_element('xpath','//*[@id=\"QA0Szd\"]/div/div/div[1]/div[2]/div/div[1]/div/div/div[2]/div[1]/div['+str(j)+']/div/div[2]/div[2]/div[1]/div/div/div[2]/div[4]/div[2]/span[2]/jsl/span[2]').text\n",
    "        phone.append(ph)\n",
    "    except NoSuchElementException :\n",
    "        phone.append('null')\n",
    "        \n",
    "    try:\n",
    "        web= driver.find_element('xpath','//*[@id=\"QA0Szd\"]/div/div/div[1]/div[2]/div/div[1]/div/div/div[2]/div[1]/div['+str(j)+']/div/div[2]/div[2]/div[2]/div[1]/a').get_attribute('href')\n",
    "        website.append(web)\n",
    "    except NoSuchElementException :\n",
    "        website.append('null')\n",
    "        \n",
    "    try:\n",
    "        t_rat = driver.find_element('xpath','//*[@id=\"QA0Szd\"]/div/div/div[1]/div[2]/div/div[1]/div/div/div[2]/div[1]/div['+str(j)+']/div/div[2]/div[2]/div[1]/div/div/div[2]/div[3]/div/span[2]/span[2]').text.split('(')[-1]\n",
    "        total_ratings.append(t_rat)\n",
    "    except NoSuchElementException :\n",
    "        total_ratings.append(\"null\") "
   ]
  },
  {
   "cell_type": "code",
   "execution_count": 432,
   "id": "0c7470ce",
   "metadata": {},
   "outputs": [
    {
     "data": {
      "text/plain": [
       "280"
      ]
     },
     "execution_count": 432,
     "metadata": {},
     "output_type": "execute_result"
    }
   ],
   "source": [
    "len(full_name)"
   ]
  },
  {
   "cell_type": "code",
   "execution_count": 433,
   "id": "756438fd",
   "metadata": {},
   "outputs": [
    {
     "data": {
      "text/plain": [
       "280"
      ]
     },
     "execution_count": 433,
     "metadata": {},
     "output_type": "execute_result"
    }
   ],
   "source": [
    "len(website)"
   ]
  },
  {
   "cell_type": "code",
   "execution_count": 434,
   "id": "5708eabe",
   "metadata": {},
   "outputs": [
    {
     "data": {
      "text/plain": [
       "280"
      ]
     },
     "execution_count": 434,
     "metadata": {},
     "output_type": "execute_result"
    }
   ],
   "source": [
    "len(phone)"
   ]
  },
  {
   "cell_type": "code",
   "execution_count": 435,
   "id": "3f87a898",
   "metadata": {},
   "outputs": [
    {
     "data": {
      "text/plain": [
       "280"
      ]
     },
     "execution_count": 435,
     "metadata": {},
     "output_type": "execute_result"
    }
   ],
   "source": [
    "len(address)"
   ]
  },
  {
   "cell_type": "code",
   "execution_count": 436,
   "id": "50a013e2",
   "metadata": {},
   "outputs": [
    {
     "data": {
      "text/plain": [
       "280"
      ]
     },
     "execution_count": 436,
     "metadata": {},
     "output_type": "execute_result"
    }
   ],
   "source": [
    "len(business_category)"
   ]
  },
  {
   "cell_type": "code",
   "execution_count": 437,
   "id": "059c7132",
   "metadata": {},
   "outputs": [
    {
     "data": {
      "text/plain": [
       "280"
      ]
     },
     "execution_count": 437,
     "metadata": {},
     "output_type": "execute_result"
    }
   ],
   "source": [
    "len(ratings)"
   ]
  },
  {
   "cell_type": "code",
   "execution_count": 438,
   "id": "b5f9ec09",
   "metadata": {},
   "outputs": [
    {
     "data": {
      "text/plain": [
       "280"
      ]
     },
     "execution_count": 438,
     "metadata": {},
     "output_type": "execute_result"
    }
   ],
   "source": [
    "len(total_ratings)"
   ]
  },
  {
   "cell_type": "code",
   "execution_count": 439,
   "id": "124f1845",
   "metadata": {},
   "outputs": [
    {
     "name": "stdout",
     "output_type": "stream",
     "text": [
      "last height: 666\n",
      "new height: 2891\n",
      "cont\n",
      "last height: 2891\n",
      "new height: 3761\n",
      "cont\n",
      "last height: 3761\n",
      "new height: 5077\n",
      "cont\n",
      "last height: 5077\n",
      "new height: 6380\n",
      "cont\n",
      "last height: 6380\n",
      "new height: 7385\n",
      "cont\n",
      "last height: 7385\n",
      "new height: 8701\n",
      "cont\n",
      "last height: 8701\n",
      "new height: 9916\n",
      "cont\n",
      "last height: 9916\n",
      "new height: 11093\n",
      "cont\n",
      "last height: 11093\n",
      "new height: 12183\n",
      "cont\n",
      "last height: 12183\n",
      "new height: 13358\n",
      "cont\n",
      "last height: 13358\n",
      "new height: 14515\n",
      "cont\n",
      "last height: 14515\n",
      "new height: 15731\n",
      "cont\n",
      "last height: 15731\n",
      "new height: 16966\n",
      "cont\n",
      "last height: 16966\n",
      "new height: 18015\n",
      "cont\n",
      "last height: 18015\n",
      "new height: 19115\n",
      "cont\n",
      "last height: 19115\n",
      "new height: 20466\n",
      "cont\n",
      "last height: 20466\n",
      "new height: 21490\n",
      "cont\n",
      "last height: 21490\n",
      "new height: 21490\n"
     ]
    }
   ],
   "source": [
    "starting_business = 'it company'\n",
    "city = 'nanpura surat'\n",
    "url = 'https://www.google.com/maps/search/' + starting_business + ' ' + city\n",
    "\n",
    "# Opening the search URL. You'll notice a chrome window opening :\n",
    "driver.get(url)\n",
    "\n",
    "SCROLL_PAUSE_TIME = 3\n",
    "\n",
    "# Get scroll height\n",
    "last_height = driver.execute_script(\"return document.body.scrollHeight\")\n",
    "\n",
    "number = 0\n",
    "\n",
    "while True:\n",
    "    number = number+1\n",
    "\n",
    "    # Scroll down to bottom\n",
    "    \n",
    "    ele = driver.find_element('xpath','//*[@id=\"QA0Szd\"]/div/div/div[1]/div[2]/div/div[1]/div/div/div[2]/div[1]')\n",
    "    driver.execute_script('arguments[0].scrollBy(0, 50000);', ele)\n",
    "\n",
    "    # Wait to load page\n",
    "\n",
    "    time.sleep(SCROLL_PAUSE_TIME)\n",
    "\n",
    "    # Calculate new scroll height and compare with last scroll height\n",
    "    print(f'last height: {last_height}')\n",
    "\n",
    "    ele = driver.find_element('xpath','//*[@id=\"QA0Szd\"]/div/div/div[1]/div[2]/div/div[1]/div/div/div[2]/div[1]')\n",
    "\n",
    "    new_height = driver.execute_script(\"return arguments[0].scrollHeight\", ele)\n",
    "\n",
    "    print(f'new height: {new_height}')\n",
    "\n",
    "    if number == 25:\n",
    "        break\n",
    "\n",
    "    if new_height == last_height:\n",
    "        break\n",
    "\n",
    "    print('cont')\n",
    "    last_height = new_height"
   ]
  },
  {
   "cell_type": "code",
   "execution_count": 440,
   "id": "84a9b9f8",
   "metadata": {},
   "outputs": [],
   "source": [
    "for j in range(3,115,2):\n",
    "    try:                              \n",
    "        name= driver.find_element('xpath','//*[@id=\"QA0Szd\"]/div/div/div[1]/div[2]/div/div[1]/div/div/div[2]/div[1]/div['+str(j)+']/div/div[2]/div[2]/div[1]/div/div/div[2]/div[1]/div[2]/span').text\n",
    "        full_name.append(name)\n",
    "    except NoSuchElementException:\n",
    "        full_name.append('null')\n",
    "    try:\n",
    "        rating = driver.find_element('xpath','//*[@id=\"QA0Szd\"]/div/div/div[1]/div[2]/div/div[1]/div/div/div[2]/div[1]/div['+str(j)+']/div/div[2]/div[2]/div[1]/div/div/div[2]/div[3]/div/span[2]/span[2]').text.split('(')[0]\n",
    "        ratings.append(rating)\n",
    "    except NoSuchElementException:\n",
    "        ratings.append(\"null\")\n",
    "    try:\n",
    "        bus = driver.find_element('xpath','//*[@id=\"QA0Szd\"]/div/div/div[1]/div[2]/div/div[1]/div/div/div[2]/div[1]/div['+str(j)+']/div/div[2]/div[2]/div[1]/div/div/div[2]/div[4]/div[1]/span[1]/jsl/span[2]').text\n",
    "        business_category.append(bus)\n",
    "    except NoSuchElementException:\n",
    "        business_category.append(\"null\")\n",
    "    try:   \n",
    "        add=driver.find_element('xpath','//*[@id=\"QA0Szd\"]/div/div/div[1]/div[2]/div/div[1]/div/div/div[2]/div[1]/div['+str(j)+']/div/div[2]/div[2]/div[1]/div/div/div[2]/div[4]/div[1]/span[2]/jsl/span[2]').text\n",
    "        address.append(add)\n",
    "    except NoSuchElementException:\n",
    "        address.append(\"null\")\n",
    "    try:\n",
    "        ph = driver.find_element('xpath','//*[@id=\"QA0Szd\"]/div/div/div[1]/div[2]/div/div[1]/div/div/div[2]/div[1]/div['+str(j)+']/div/div[2]/div[2]/div[1]/div/div/div[2]/div[4]/div[2]/span[2]/jsl/span[2]').text\n",
    "        phone.append(ph)\n",
    "    except NoSuchElementException :\n",
    "        phone.append('null')\n",
    "        \n",
    "    try:\n",
    "        web= driver.find_element('xpath','//*[@id=\"QA0Szd\"]/div/div/div[1]/div[2]/div/div[1]/div/div/div[2]/div[1]/div['+str(j)+']/div/div[2]/div[2]/div[2]/div[1]/a').get_attribute('href')\n",
    "        website.append(web)\n",
    "    except NoSuchElementException :\n",
    "        website.append('null')\n",
    "        \n",
    "    try:\n",
    "        t_rat = driver.find_element('xpath','//*[@id=\"QA0Szd\"]/div/div/div[1]/div[2]/div/div[1]/div/div/div[2]/div[1]/div['+str(j)+']/div/div[2]/div[2]/div[1]/div/div/div[2]/div[3]/div/span[2]/span[2]').text.split('(')[-1]\n",
    "        total_ratings.append(t_rat)\n",
    "    except NoSuchElementException :\n",
    "        total_ratings.append(\"null\") "
   ]
  },
  {
   "cell_type": "code",
   "execution_count": 441,
   "id": "f39e85e6",
   "metadata": {},
   "outputs": [
    {
     "data": {
      "text/plain": [
       "336"
      ]
     },
     "execution_count": 441,
     "metadata": {},
     "output_type": "execute_result"
    }
   ],
   "source": [
    "len(full_name)"
   ]
  },
  {
   "cell_type": "code",
   "execution_count": 442,
   "id": "45470426",
   "metadata": {},
   "outputs": [
    {
     "data": {
      "text/plain": [
       "336"
      ]
     },
     "execution_count": 442,
     "metadata": {},
     "output_type": "execute_result"
    }
   ],
   "source": [
    "len(website)"
   ]
  },
  {
   "cell_type": "code",
   "execution_count": 443,
   "id": "80b82a0d",
   "metadata": {},
   "outputs": [
    {
     "data": {
      "text/plain": [
       "336"
      ]
     },
     "execution_count": 443,
     "metadata": {},
     "output_type": "execute_result"
    }
   ],
   "source": [
    "len(phone)"
   ]
  },
  {
   "cell_type": "code",
   "execution_count": 444,
   "id": "09e44180",
   "metadata": {},
   "outputs": [
    {
     "data": {
      "text/plain": [
       "336"
      ]
     },
     "execution_count": 444,
     "metadata": {},
     "output_type": "execute_result"
    }
   ],
   "source": [
    "len(address)"
   ]
  },
  {
   "cell_type": "code",
   "execution_count": 445,
   "id": "38c078bb",
   "metadata": {},
   "outputs": [
    {
     "data": {
      "text/plain": [
       "336"
      ]
     },
     "execution_count": 445,
     "metadata": {},
     "output_type": "execute_result"
    }
   ],
   "source": [
    "len(business_category)"
   ]
  },
  {
   "cell_type": "code",
   "execution_count": 446,
   "id": "8e62f40c",
   "metadata": {},
   "outputs": [
    {
     "data": {
      "text/plain": [
       "336"
      ]
     },
     "execution_count": 446,
     "metadata": {},
     "output_type": "execute_result"
    }
   ],
   "source": [
    "len(ratings)"
   ]
  },
  {
   "cell_type": "code",
   "execution_count": 447,
   "id": "5755feac",
   "metadata": {},
   "outputs": [
    {
     "data": {
      "text/plain": [
       "336"
      ]
     },
     "execution_count": 447,
     "metadata": {},
     "output_type": "execute_result"
    }
   ],
   "source": [
    "len(total_ratings)"
   ]
  },
  {
   "cell_type": "code",
   "execution_count": 448,
   "id": "ba1a416b",
   "metadata": {},
   "outputs": [
    {
     "data": {
      "text/plain": [
       "['http://www.lane4solution.com/',\n",
       " 'http://neotechit.in/',\n",
       " 'https://kamaldhari.com/',\n",
       " 'http://www.trimantra.com/',\n",
       " 'https://www.pixml.in/',\n",
       " 'http://onusinfotech.com/',\n",
       " None,\n",
       " 'https://uniqualitech.com/',\n",
       " 'https://www.tretainfotech.com/',\n",
       " 'https://netsofters.in/',\n",
       " None,\n",
       " 'https://techstaunch.com/',\n",
       " 'https://natrixsoftware.com/',\n",
       " 'http://vsiinfotech.com/',\n",
       " 'http://daydreamsoft.com/',\n",
       " 'https://www.jemistry.com/',\n",
       " 'http://alitainfotech.com/',\n",
       " 'http://i3corporation.in/',\n",
       " 'https://www.triveniglobalsoft.com/',\n",
       " None,\n",
       " None,\n",
       " 'https://shiv-technology.netlify.app/',\n",
       " 'http://www.broaderai.com/',\n",
       " 'http://www.potenzaglobalsolutions.com/',\n",
       " 'http://nxsinfotech.com/',\n",
       " 'http://falconsolutions.co/',\n",
       " 'http://techdevelopersweb.com/',\n",
       " 'https://omtecweb.com/',\n",
       " 'https://www.trivia.co.in/',\n",
       " 'https://www.pistalix.in/',\n",
       " 'https://codewryters.com/',\n",
       " 'https://www.goodoldgeek.com/',\n",
       " None,\n",
       " None,\n",
       " None,\n",
       " 'http://princhetinfotech.in/',\n",
       " 'https://www.weingenious.com/',\n",
       " 'https://www.quixom.com/',\n",
       " 'https://premware.services/',\n",
       " None,\n",
       " 'http://www.vlinksolutions.in/',\n",
       " 'https://www.facebook.com/Trinity-software-161382307995419/',\n",
       " 'https://websitedesigncompanyinsurat.business.site/?utm_source=gmb&utm_medium=referral',\n",
       " 'http://www.palsoft.co.in/',\n",
       " 'https://www.codemaxmedia.com/',\n",
       " 'https://jyotitechnosoft.com/',\n",
       " None,\n",
       " 'https://www.pixaloopsolution.com/',\n",
       " 'http://kinetsolutions.co/',\n",
       " 'https://thecodingstudio.in/',\n",
       " None,\n",
       " 'http://www.aicsm.com/',\n",
       " 'https://shreepadgroup.com/projects/shreepad-world/',\n",
       " 'https://techmines.in/',\n",
       " 'http://www.larioxtechnologies.com/',\n",
       " None,\n",
       " 'http://www.coderbabu.com/',\n",
       " 'https://hgitcompany.com/',\n",
       " None,\n",
       " None,\n",
       " 'https://codeinfluencer.com/',\n",
       " None,\n",
       " 'https://vasundhara.io/',\n",
       " 'https://www.planetx.in/',\n",
       " 'https://www.elaunchinfotech.com/',\n",
       " 'https://tecksky.com/',\n",
       " 'http://www.leadinfosoft.com/',\n",
       " 'http://optimumbrew.com/',\n",
       " 'http://synodica.com/',\n",
       " 'https://www.drcinfotech.com/',\n",
       " None,\n",
       " 'http://www.serialcominfotech.com/',\n",
       " None,\n",
       " 'https://weenggs.com/',\n",
       " 'http://www.susampinfotech.com/',\n",
       " 'https://codersinc.in/',\n",
       " 'https://www.rightwayinfotech.com/',\n",
       " None,\n",
       " 'https://crawlapps.com/',\n",
       " 'http://www.ecreateinfotech.com/',\n",
       " 'https://inficial.com/',\n",
       " 'https://technozer.com/',\n",
       " 'http://www.netratechnosys.com/',\n",
       " 'https://aerocube.tech/',\n",
       " None,\n",
       " 'https://canopas.com/',\n",
       " 'http://www.pixasoftinfotech.com/',\n",
       " 'http://www.techlogicsoft.com/',\n",
       " 'http://www.devkrushna.com/',\n",
       " 'http://www.brainwaves.co.in/',\n",
       " None,\n",
       " None,\n",
       " 'https://www.orange-infotech.com/',\n",
       " 'https://www.kriit.com/',\n",
       " 'https://www.sysworld.in/',\n",
       " 'http://www.etechlab.in/',\n",
       " None,\n",
       " 'https://zeonlabs.co/',\n",
       " 'https://www.itabtechinfosys.com/',\n",
       " 'http://www.actosoft.in/',\n",
       " 'https://upholdsolution.com/',\n",
       " 'http://omreestechnologies.com/contact.html',\n",
       " 'http://www.corepixel.in/',\n",
       " 'https://hexotix.com/',\n",
       " 'http://samptechnologies.com/',\n",
       " 'https://www.athh.co/',\n",
       " 'https://www.webbycrown.com/',\n",
       " 'https://www.cirklestudio.co/',\n",
       " 'https://www.asthatechnology.com/',\n",
       " 'https://www.nhinfosoft.in/',\n",
       " 'https://logicgoinfotech.com/',\n",
       " 'https://identixweb.com/?utm_source=google&utm_medium=profile',\n",
       " 'http://infrowsertechnologies.com/',\n",
       " 'http://amrelitech.com/',\n",
       " None,\n",
       " 'http://sancitysofttouch.com/',\n",
       " 'https://www.technonic.in/',\n",
       " 'http://www.spectrumsolutions.in/',\n",
       " None,\n",
       " 'https://jipsaansolution.business.site/',\n",
       " 'http://www.weclocks.com/',\n",
       " 'http://galaxyerp.in/',\n",
       " 'http://www.radiiant.in/',\n",
       " 'http://www.gapsoft.in/',\n",
       " 'https://www.tekblink.com/',\n",
       " 'http://visionore.com/',\n",
       " 'http://www.tripta.in/',\n",
       " 'https://www.sassyinfotech.com/',\n",
       " 'http://www.njtechnologies.in/',\n",
       " 'http://vaitalinfotech.business.site/',\n",
       " 'http://www.lansar.in/',\n",
       " 'https://infolab-solution.business.site/',\n",
       " None,\n",
       " None,\n",
       " 'https://shushraj.com/',\n",
       " 'http://www.solversolutions.in/',\n",
       " 'https://www.logitech.com/en-in/mice-pointers/mice',\n",
       " 'http://www.x3technologies.com/',\n",
       " 'http://www.votiko.com/',\n",
       " 'http://www.s9itsolutions.com/',\n",
       " 'http://njfpnest.com/',\n",
       " None,\n",
       " 'http://www.visualmultimedia.in/',\n",
       " None,\n",
       " 'http://www.dsaasurat.com/',\n",
       " 'http://www.loansinsurat.in/',\n",
       " 'http://www.inoweave.com/',\n",
       " 'http://www.slsresearch.com/',\n",
       " 'http://www.njgroup.in/',\n",
       " None,\n",
       " 'https://sites.google.com/view/viishnulohartd',\n",
       " None,\n",
       " 'https://cosmic-energy.business.site/?utm_source=gmb&utm_medium=referral',\n",
       " 'https://www.badabusiness.com/dd/BIDS009685/',\n",
       " 'http://www.perfectnaukari.com/',\n",
       " 'https://www.spengineering.co.in/',\n",
       " 'https://www.envirochems.com/',\n",
       " 'http://www.alertsecurity.in/',\n",
       " 'http://divinespring.in/',\n",
       " 'http://suratiilab.org/',\n",
       " 'http://www.weavetech.com/',\n",
       " None,\n",
       " 'http://www.oceanelevators.com/',\n",
       " None,\n",
       " 'http://akshar-automobile.business.site/',\n",
       " 'https://startingstarsolutions.godaddysites.com/',\n",
       " None,\n",
       " 'https://www.surat-training.com/',\n",
       " 'https://kamaldhari.com/',\n",
       " 'https://www.vpninfotech.com/',\n",
       " 'https://www.narolainfotech.com/',\n",
       " 'http://www.snkitsolutions.com/',\n",
       " None,\n",
       " 'https://iroidsolutions.com/',\n",
       " 'https://uniqualitech.com/',\n",
       " 'http://unitytechnology.in/',\n",
       " 'https://www.solwininfotech.com/',\n",
       " 'https://www.casepoint.com/',\n",
       " 'https://www.crestinfosystems.com/',\n",
       " 'https://narayaninfotech.in/',\n",
       " 'https://www.forefrontinfotech.com/',\n",
       " 'https://www.netizenstechnologies.com/',\n",
       " 'https://www.sarvadhi.com/',\n",
       " None,\n",
       " 'https://www.eoontech.com/',\n",
       " 'http://www.ebizzinfotech.com/',\n",
       " 'http://www.tecocraft.com/',\n",
       " None,\n",
       " 'https://www.eoontech.com/',\n",
       " 'https://decodeup.com/',\n",
       " None,\n",
       " 'https://website--460093062271847012134-softwarecompany.business.site/?utm_source=gmb&utm_medium=referral',\n",
       " 'https://www.trootech.com/',\n",
       " 'https://www.pistalix.in/',\n",
       " 'http://macymind.com/',\n",
       " 'http://www.ebizzinfotech.com/',\n",
       " 'https://differenzsystem.com/',\n",
       " 'http://jaiminisoftware.com/',\n",
       " None,\n",
       " None,\n",
       " 'https://www.logixbuilt.com/',\n",
       " 'https://www.quixom.com/',\n",
       " 'https://cloudpixelinfotech.com/',\n",
       " 'https://www.vbinfotech.co.in/',\n",
       " 'http://vividwebsolutions.in/',\n",
       " 'https://omtecweb.com/',\n",
       " None,\n",
       " None,\n",
       " 'https://www.zluck.com/',\n",
       " None,\n",
       " 'http://loopbots.com/',\n",
       " 'https://www.facebook.com/Trinity-software-161382307995419/',\n",
       " 'https://softechmarketing.in/',\n",
       " 'http://leocan.co/',\n",
       " None,\n",
       " 'http://catch-craft.in/',\n",
       " None,\n",
       " 'https://www.varshaaweblabs.com/',\n",
       " 'https://www.codewinz.com/',\n",
       " 'https://websitedesigncompanyinsurat.business.site/?utm_source=gmb&utm_medium=referral',\n",
       " None,\n",
       " 'https://www.smegenys.com/',\n",
       " None,\n",
       " 'https://xsquads.com/',\n",
       " None,\n",
       " 'https://www.itquicksolution.com/',\n",
       " 'https://www.websarjan.com/',\n",
       " 'https://dotmagicinfotech.com/',\n",
       " None,\n",
       " None,\n",
       " 'https://www.riseontechnologies.com/',\n",
       " None,\n",
       " 'https://www.primetechnosoft.in/',\n",
       " 'https://webitoinfotech.com/',\n",
       " 'http://www.letsappbuilder.com/',\n",
       " 'http://exomooninfotech.in/',\n",
       " None,\n",
       " 'http://www.dnktechnologies.com/',\n",
       " 'http://www.buildupinfotech.com/',\n",
       " 'https://xitijinfotech.com/',\n",
       " 'https://mahadev.net/',\n",
       " 'https://sahajanandinfotech.com/',\n",
       " 'https://www.mahardhi.com/',\n",
       " 'http://www.shreedama.com/',\n",
       " 'http://www.zenexsolutions.in/',\n",
       " None,\n",
       " 'https://sarvadhi.com/',\n",
       " 'https://opulasoft.com/',\n",
       " 'http://exomooninfotech.in/',\n",
       " 'http://cuotainfotech.com/',\n",
       " 'https://hiolty-infotech.business.site/?utm_source=gmb&utm_medium=referral',\n",
       " None,\n",
       " 'https://mahadev.net/',\n",
       " None,\n",
       " 'https://www.bytefum.com/',\n",
       " 'https://webunityinfotech.com/',\n",
       " 'http://www.shreedama.com/',\n",
       " 'https://tagadiyainfotech.com/',\n",
       " None,\n",
       " 'https://brainbinaryinfotech.com/',\n",
       " None,\n",
       " 'https://www.raininfotech.in/',\n",
       " 'https://webmigrates.com/',\n",
       " 'https://skyllect.com/',\n",
       " 'https://www.omeecron.com/',\n",
       " 'https://keylogicinfotech.com/',\n",
       " 'http://www.aarvitechnology.com/',\n",
       " None,\n",
       " None,\n",
       " 'https://softices.com/',\n",
       " 'https://revontainfotech.com/',\n",
       " 'https://hmrtechnologies.com/',\n",
       " None,\n",
       " 'http://www.cipherhex.com/',\n",
       " 'https://d2webtech.com/',\n",
       " 'http://ethnicinfotech.com/',\n",
       " None,\n",
       " None,\n",
       " 'http://www.oozeetech.com/',\n",
       " 'https://wearscode.com/',\n",
       " None,\n",
       " 'http://www.smartnenotech.com/',\n",
       " 'http://globalshakti.in/',\n",
       " 'https://gatisofttech.com/',\n",
       " 'http://www.mitsolutions.in/',\n",
       " None,\n",
       " 'https://fenil-it-solutions.ueniweb.com/?utm_campaign=gmb',\n",
       " 'http://www.janvajevu.com/contact-us.php',\n",
       " 'https://www.siliconleaf.com/',\n",
       " 'https://www.coralinfosystems.com/',\n",
       " 'https://www.pulsesolutions.com/',\n",
       " 'https://coderkube.com/',\n",
       " 'http://www.parghiinfotech.com/',\n",
       " 'http://mtzinfotech.com/',\n",
       " 'http://digitattva.in/',\n",
       " None,\n",
       " 'http://www.erpbaby.com/',\n",
       " 'https://theoceanstudios.in/',\n",
       " None,\n",
       " 'http://www.eliteinfoway.com/',\n",
       " 'https://www.i2te.co.in/Academic.aspx',\n",
       " 'http://www.elitetechnocrats.com/',\n",
       " 'http://www.vareeinfotech.com/',\n",
       " None,\n",
       " 'http://www.valuesoftware.in/',\n",
       " 'https://yewtec.com/',\n",
       " 'https://www.adaptable.pro/',\n",
       " 'http://www.softwebpos.com/',\n",
       " 'https://www.mascottechnologysolutions.com/',\n",
       " 'http://www.suntechsurat.com/',\n",
       " 'http://www.nemji.com/',\n",
       " None,\n",
       " 'https://www.icedinfotech.com/',\n",
       " 'http://surl.li/dzezr',\n",
       " 'https://foreachnext.com/',\n",
       " 'https://www.codexlancers.com/',\n",
       " None,\n",
       " 'http://fraxinusit.in/',\n",
       " 'https://www.rigelnetworks.com/',\n",
       " 'https://www.prismitsystems.com/',\n",
       " 'https://www.shreeinfosys.in/',\n",
       " 'http://quantum-corporation.business.site/',\n",
       " 'http://www.innovative.co.in/',\n",
       " 'https://www.amityinfosoft.com/',\n",
       " 'https://www.facebook.com/shreejicomputerconsultancy/',\n",
       " 'http://www.bluechiptechie.in/',\n",
       " 'https://labdhi-infocom.business.site/',\n",
       " 'https://kamaldhari.com/',\n",
       " 'http://bit.ly/MIPSINFOSYS',\n",
       " 'http://www.computronixindia.com/',\n",
       " 'https://hashtaginfosystem.com/',\n",
       " None,\n",
       " 'http://trionitsolutions.com/',\n",
       " None,\n",
       " None,\n",
       " None]"
      ]
     },
     "execution_count": 448,
     "metadata": {},
     "output_type": "execute_result"
    }
   ],
   "source": [
    "website"
   ]
  },
  {
   "cell_type": "code",
   "execution_count": 449,
   "id": "2c9e975e",
   "metadata": {},
   "outputs": [
    {
     "name": "stdout",
     "output_type": "stream",
     "text": [
      "last height: 666\n",
      "new height: 2943\n",
      "cont\n",
      "last height: 2943\n",
      "new height: 3841\n",
      "cont\n",
      "last height: 3841\n",
      "new height: 5125\n",
      "cont\n",
      "last height: 5125\n",
      "new height: 6176\n",
      "cont\n",
      "last height: 6176\n",
      "new height: 7149\n",
      "cont\n",
      "last height: 7149\n",
      "new height: 8473\n",
      "cont\n",
      "last height: 8473\n",
      "new height: 9776\n",
      "cont\n",
      "last height: 9776\n",
      "new height: 10681\n",
      "cont\n",
      "last height: 10681\n",
      "new height: 11849\n",
      "cont\n",
      "last height: 11849\n",
      "new height: 13252\n",
      "cont\n",
      "last height: 13252\n",
      "new height: 14337\n",
      "cont\n",
      "last height: 14337\n",
      "new height: 15545\n",
      "cont\n",
      "last height: 15545\n",
      "new height: 16712\n",
      "cont\n",
      "last height: 16712\n",
      "new height: 17797\n",
      "cont\n",
      "last height: 17797\n",
      "new height: 19073\n",
      "cont\n",
      "last height: 19073\n",
      "new height: 20224\n",
      "cont\n",
      "last height: 20224\n",
      "new height: 21080\n",
      "cont\n",
      "last height: 21080\n",
      "new height: 21080\n"
     ]
    }
   ],
   "source": [
    "starting_business = 'it company'\n",
    "city = 'vesu surat'\n",
    "url = 'https://www.google.com/maps/search/' + starting_business + ' ' + city\n",
    "\n",
    "# Opening the search URL. You'll notice a chrome window opening :\n",
    "driver.get(url)\n",
    "\n",
    "SCROLL_PAUSE_TIME = 3\n",
    "\n",
    "# Get scroll height\n",
    "last_height = driver.execute_script(\"return document.body.scrollHeight\")\n",
    "\n",
    "number = 0\n",
    "\n",
    "while True:\n",
    "    number = number+1\n",
    "\n",
    "    # Scroll down to bottom\n",
    "    \n",
    "    ele = driver.find_element('xpath','//*[@id=\"QA0Szd\"]/div/div/div[1]/div[2]/div/div[1]/div/div/div[2]/div[1]')\n",
    "    driver.execute_script('arguments[0].scrollBy(0, 50000);', ele)\n",
    "\n",
    "    # Wait to load page\n",
    "\n",
    "    time.sleep(SCROLL_PAUSE_TIME)\n",
    "\n",
    "    # Calculate new scroll height and compare with last scroll height\n",
    "    print(f'last height: {last_height}')\n",
    "\n",
    "    ele = driver.find_element('xpath','//*[@id=\"QA0Szd\"]/div/div/div[1]/div[2]/div/div[1]/div/div/div[2]/div[1]')\n",
    "\n",
    "    new_height = driver.execute_script(\"return arguments[0].scrollHeight\", ele)\n",
    "\n",
    "    print(f'new height: {new_height}')\n",
    "\n",
    "    if number == 25:\n",
    "        break\n",
    "\n",
    "    if new_height == last_height:\n",
    "        break\n",
    "\n",
    "    print('cont')\n",
    "    last_height = new_height"
   ]
  },
  {
   "cell_type": "code",
   "execution_count": 450,
   "id": "0c202097",
   "metadata": {},
   "outputs": [],
   "source": [
    "for j in range(3,115,2):\n",
    "    try:                              \n",
    "        name= driver.find_element('xpath','//*[@id=\"QA0Szd\"]/div/div/div[1]/div[2]/div/div[1]/div/div/div[2]/div[1]/div['+str(j)+']/div/div[2]/div[2]/div[1]/div/div/div[2]/div[1]/div[2]/span').text\n",
    "        full_name.append(name)\n",
    "    except NoSuchElementException:\n",
    "        full_name.append('null')\n",
    "    try:\n",
    "        rating = driver.find_element('xpath','//*[@id=\"QA0Szd\"]/div/div/div[1]/div[2]/div/div[1]/div/div/div[2]/div[1]/div['+str(j)+']/div/div[2]/div[2]/div[1]/div/div/div[2]/div[3]/div/span[2]/span[2]').text.split('(')[0]\n",
    "        ratings.append(rating)\n",
    "    except NoSuchElementException:\n",
    "        ratings.append(\"null\")\n",
    "    try:\n",
    "        bus = driver.find_element('xpath','//*[@id=\"QA0Szd\"]/div/div/div[1]/div[2]/div/div[1]/div/div/div[2]/div[1]/div['+str(j)+']/div/div[2]/div[2]/div[1]/div/div/div[2]/div[4]/div[1]/span[1]/jsl/span[2]').text\n",
    "        business_category.append(bus)\n",
    "    except NoSuchElementException:\n",
    "        business_category.append(\"null\")\n",
    "    try:   \n",
    "        add=driver.find_element('xpath','//*[@id=\"QA0Szd\"]/div/div/div[1]/div[2]/div/div[1]/div/div/div[2]/div[1]/div['+str(j)+']/div/div[2]/div[2]/div[1]/div/div/div[2]/div[4]/div[1]/span[2]/jsl/span[2]').text\n",
    "        address.append(add)\n",
    "    except NoSuchElementException:\n",
    "        address.append(\"null\")\n",
    "    try:\n",
    "        ph = driver.find_element('xpath','//*[@id=\"QA0Szd\"]/div/div/div[1]/div[2]/div/div[1]/div/div/div[2]/div[1]/div['+str(j)+']/div/div[2]/div[2]/div[1]/div/div/div[2]/div[4]/div[2]/span[2]/jsl/span[2]').text\n",
    "        phone.append(ph)\n",
    "    except NoSuchElementException :\n",
    "        phone.append('null')\n",
    "        \n",
    "    try:\n",
    "        web= driver.find_element('xpath','//*[@id=\"QA0Szd\"]/div/div/div[1]/div[2]/div/div[1]/div/div/div[2]/div[1]/div['+str(j)+']/div/div[2]/div[2]/div[2]/div[1]/a').get_attribute('href')\n",
    "        website.append(web)\n",
    "    except NoSuchElementException :\n",
    "        website.append('null')\n",
    "        \n",
    "    try:\n",
    "        t_rat = driver.find_element('xpath','//*[@id=\"QA0Szd\"]/div/div/div[1]/div[2]/div/div[1]/div/div/div[2]/div[1]/div['+str(j)+']/div/div[2]/div[2]/div[1]/div/div/div[2]/div[3]/div/span[2]/span[2]').text.split('(')[-1]\n",
    "        total_ratings.append(t_rat)\n",
    "    except NoSuchElementException :\n",
    "        total_ratings.append(\"null\") "
   ]
  },
  {
   "cell_type": "code",
   "execution_count": 451,
   "id": "cc91cb17",
   "metadata": {},
   "outputs": [
    {
     "data": {
      "text/plain": [
       "392"
      ]
     },
     "execution_count": 451,
     "metadata": {},
     "output_type": "execute_result"
    }
   ],
   "source": [
    "len(full_name)"
   ]
  },
  {
   "cell_type": "code",
   "execution_count": 452,
   "id": "655a2270",
   "metadata": {},
   "outputs": [
    {
     "data": {
      "text/plain": [
       "392"
      ]
     },
     "execution_count": 452,
     "metadata": {},
     "output_type": "execute_result"
    }
   ],
   "source": [
    "len(website)"
   ]
  },
  {
   "cell_type": "code",
   "execution_count": 453,
   "id": "a2880fae",
   "metadata": {},
   "outputs": [
    {
     "data": {
      "text/plain": [
       "392"
      ]
     },
     "execution_count": 453,
     "metadata": {},
     "output_type": "execute_result"
    }
   ],
   "source": [
    "len(phone)"
   ]
  },
  {
   "cell_type": "code",
   "execution_count": 454,
   "id": "07a5bd03",
   "metadata": {},
   "outputs": [
    {
     "data": {
      "text/plain": [
       "392"
      ]
     },
     "execution_count": 454,
     "metadata": {},
     "output_type": "execute_result"
    }
   ],
   "source": [
    "len(address)"
   ]
  },
  {
   "cell_type": "code",
   "execution_count": 455,
   "id": "525e2e13",
   "metadata": {},
   "outputs": [
    {
     "data": {
      "text/plain": [
       "392"
      ]
     },
     "execution_count": 455,
     "metadata": {},
     "output_type": "execute_result"
    }
   ],
   "source": [
    "len(business_category)"
   ]
  },
  {
   "cell_type": "code",
   "execution_count": 456,
   "id": "cf061fe6",
   "metadata": {},
   "outputs": [
    {
     "data": {
      "text/plain": [
       "392"
      ]
     },
     "execution_count": 456,
     "metadata": {},
     "output_type": "execute_result"
    }
   ],
   "source": [
    "len(ratings)"
   ]
  },
  {
   "cell_type": "code",
   "execution_count": 457,
   "id": "0f2133ff",
   "metadata": {},
   "outputs": [
    {
     "data": {
      "text/plain": [
       "392"
      ]
     },
     "execution_count": 457,
     "metadata": {},
     "output_type": "execute_result"
    }
   ],
   "source": [
    "len(total_ratings)"
   ]
  },
  {
   "cell_type": "code",
   "execution_count": 458,
   "id": "6f5caecd",
   "metadata": {},
   "outputs": [
    {
     "name": "stdout",
     "output_type": "stream",
     "text": [
      "last height: 666\n",
      "new height: 2559\n",
      "cont\n",
      "last height: 2559\n",
      "new height: 3425\n",
      "cont\n",
      "last height: 3425\n",
      "new height: 4669\n",
      "cont\n",
      "last height: 4669\n",
      "new height: 5884\n",
      "cont\n",
      "last height: 5884\n",
      "new height: 6933\n",
      "cont\n",
      "last height: 6933\n",
      "new height: 8137\n",
      "cont\n",
      "last height: 8137\n",
      "new height: 9440\n",
      "cont\n",
      "last height: 9440\n",
      "new height: 10433\n",
      "cont\n",
      "last height: 10433\n",
      "new height: 11637\n",
      "cont\n",
      "last height: 11637\n",
      "new height: 12812\n",
      "cont\n",
      "last height: 12812\n",
      "new height: 14109\n",
      "cont\n",
      "last height: 14109\n",
      "new height: 15267\n",
      "cont\n",
      "last height: 15267\n",
      "new height: 16354\n",
      "cont\n",
      "last height: 16354\n",
      "new height: 17523\n",
      "cont\n",
      "last height: 17523\n",
      "new height: 18533\n",
      "cont\n",
      "last height: 18533\n",
      "new height: 19680\n",
      "cont\n",
      "last height: 19680\n",
      "new height: 20624\n",
      "cont\n",
      "last height: 20624\n",
      "new height: 20624\n"
     ]
    }
   ],
   "source": [
    "starting_business = 'it company'\n",
    "city = 'nana varachha surat'\n",
    "url = 'https://www.google.com/maps/search/' + starting_business + ' ' + city\n",
    "\n",
    "# Opening the search URL. You'll notice a chrome window opening :\n",
    "driver.get(url)\n",
    "\n",
    "SCROLL_PAUSE_TIME = 3\n",
    "\n",
    "# Get scroll height\n",
    "last_height = driver.execute_script(\"return document.body.scrollHeight\")\n",
    "\n",
    "number = 0\n",
    "\n",
    "while True:\n",
    "    number = number+1\n",
    "\n",
    "    # Scroll down to bottom\n",
    "    \n",
    "    ele = driver.find_element('xpath','//*[@id=\"QA0Szd\"]/div/div/div[1]/div[2]/div/div[1]/div/div/div[2]/div[1]')\n",
    "    driver.execute_script('arguments[0].scrollBy(0, 50000);', ele)\n",
    "\n",
    "    # Wait to load page\n",
    "\n",
    "    time.sleep(SCROLL_PAUSE_TIME)\n",
    "\n",
    "    # Calculate new scroll height and compare with last scroll height\n",
    "    print(f'last height: {last_height}')\n",
    "\n",
    "    ele = driver.find_element('xpath','//*[@id=\"QA0Szd\"]/div/div/div[1]/div[2]/div/div[1]/div/div/div[2]/div[1]')\n",
    "\n",
    "    new_height = driver.execute_script(\"return arguments[0].scrollHeight\", ele)\n",
    "\n",
    "    print(f'new height: {new_height}')\n",
    "\n",
    "    if number == 25:\n",
    "        break\n",
    "\n",
    "    if new_height == last_height:\n",
    "        break\n",
    "\n",
    "    print('cont')\n",
    "    last_height = new_height"
   ]
  },
  {
   "cell_type": "code",
   "execution_count": 459,
   "id": "b4d7126f",
   "metadata": {},
   "outputs": [],
   "source": [
    "for j in range(3,115,2):\n",
    "    try:                              \n",
    "        name= driver.find_element('xpath','//*[@id=\"QA0Szd\"]/div/div/div[1]/div[2]/div/div[1]/div/div/div[2]/div[1]/div['+str(j)+']/div/div[2]/div[2]/div[1]/div/div/div[2]/div[1]/div[2]/span').text\n",
    "        full_name.append(name)\n",
    "    except NoSuchElementException:\n",
    "        full_name.append('null')\n",
    "    try:\n",
    "        rating = driver.find_element('xpath','//*[@id=\"QA0Szd\"]/div/div/div[1]/div[2]/div/div[1]/div/div/div[2]/div[1]/div['+str(j)+']/div/div[2]/div[2]/div[1]/div/div/div[2]/div[3]/div/span[2]/span[2]').text.split('(')[0]\n",
    "        ratings.append(rating)\n",
    "    except NoSuchElementException:\n",
    "        ratings.append(\"null\")\n",
    "    try:\n",
    "        bus = driver.find_element('xpath','//*[@id=\"QA0Szd\"]/div/div/div[1]/div[2]/div/div[1]/div/div/div[2]/div[1]/div['+str(j)+']/div/div[2]/div[2]/div[1]/div/div/div[2]/div[4]/div[1]/span[1]/jsl/span[2]').text\n",
    "        business_category.append(bus)\n",
    "    except NoSuchElementException:\n",
    "        business_category.append(\"null\")\n",
    "    try:   \n",
    "        add=driver.find_element('xpath','//*[@id=\"QA0Szd\"]/div/div/div[1]/div[2]/div/div[1]/div/div/div[2]/div[1]/div['+str(j)+']/div/div[2]/div[2]/div[1]/div/div/div[2]/div[4]/div[1]/span[2]/jsl/span[2]').text\n",
    "        address.append(add)\n",
    "    except NoSuchElementException:\n",
    "        address.append(\"null\")\n",
    "    try:\n",
    "        ph = driver.find_element('xpath','//*[@id=\"QA0Szd\"]/div/div/div[1]/div[2]/div/div[1]/div/div/div[2]/div[1]/div['+str(j)+']/div/div[2]/div[2]/div[1]/div/div/div[2]/div[4]/div[2]/span[2]/jsl/span[2]').text\n",
    "        phone.append(ph)\n",
    "    except NoSuchElementException :\n",
    "        phone.append('null')\n",
    "        \n",
    "    try:\n",
    "        web= driver.find_element('xpath','//*[@id=\"QA0Szd\"]/div/div/div[1]/div[2]/div/div[1]/div/div/div[2]/div[1]/div['+str(j)+']/div/div[2]/div[2]/div[2]/div[1]/a').get_attribute('href')\n",
    "        website.append(web)\n",
    "    except NoSuchElementException :\n",
    "        website.append('null')\n",
    "        \n",
    "    try:\n",
    "        t_rat = driver.find_element('xpath','//*[@id=\"QA0Szd\"]/div/div/div[1]/div[2]/div/div[1]/div/div/div[2]/div[1]/div['+str(j)+']/div/div[2]/div[2]/div[1]/div/div/div[2]/div[3]/div/span[2]/span[2]').text.split('(')[-1]\n",
    "        total_ratings.append(t_rat)\n",
    "    except NoSuchElementException :\n",
    "        total_ratings.append(\"null\") "
   ]
  },
  {
   "cell_type": "code",
   "execution_count": 460,
   "id": "f69d4af5",
   "metadata": {},
   "outputs": [
    {
     "data": {
      "text/plain": [
       "448"
      ]
     },
     "execution_count": 460,
     "metadata": {},
     "output_type": "execute_result"
    }
   ],
   "source": [
    "len(full_name)"
   ]
  },
  {
   "cell_type": "code",
   "execution_count": 461,
   "id": "1dee9fc7",
   "metadata": {},
   "outputs": [
    {
     "data": {
      "text/plain": [
       "448"
      ]
     },
     "execution_count": 461,
     "metadata": {},
     "output_type": "execute_result"
    }
   ],
   "source": [
    "len(website)"
   ]
  },
  {
   "cell_type": "code",
   "execution_count": 462,
   "id": "5cae6f09",
   "metadata": {},
   "outputs": [
    {
     "data": {
      "text/plain": [
       "448"
      ]
     },
     "execution_count": 462,
     "metadata": {},
     "output_type": "execute_result"
    }
   ],
   "source": [
    "len(phone)"
   ]
  },
  {
   "cell_type": "code",
   "execution_count": 463,
   "id": "1a977cf8",
   "metadata": {},
   "outputs": [
    {
     "data": {
      "text/plain": [
       "448"
      ]
     },
     "execution_count": 463,
     "metadata": {},
     "output_type": "execute_result"
    }
   ],
   "source": [
    "len(address)"
   ]
  },
  {
   "cell_type": "code",
   "execution_count": 464,
   "id": "48f4d9b8",
   "metadata": {},
   "outputs": [
    {
     "data": {
      "text/plain": [
       "448"
      ]
     },
     "execution_count": 464,
     "metadata": {},
     "output_type": "execute_result"
    }
   ],
   "source": [
    "len(business_category)"
   ]
  },
  {
   "cell_type": "code",
   "execution_count": 465,
   "id": "9797b291",
   "metadata": {},
   "outputs": [
    {
     "data": {
      "text/plain": [
       "448"
      ]
     },
     "execution_count": 465,
     "metadata": {},
     "output_type": "execute_result"
    }
   ],
   "source": [
    "len(ratings)"
   ]
  },
  {
   "cell_type": "code",
   "execution_count": 466,
   "id": "93dbdfc9",
   "metadata": {},
   "outputs": [
    {
     "data": {
      "text/plain": [
       "448"
      ]
     },
     "execution_count": 466,
     "metadata": {},
     "output_type": "execute_result"
    }
   ],
   "source": [
    "len(total_ratings)"
   ]
  },
  {
   "cell_type": "code",
   "execution_count": 467,
   "id": "8fa425c7",
   "metadata": {},
   "outputs": [
    {
     "name": "stdout",
     "output_type": "stream",
     "text": [
      "last height: 666\n",
      "new height: 2651\n",
      "cont\n",
      "last height: 2651\n",
      "new height: 3489\n",
      "cont\n",
      "last height: 3489\n",
      "new height: 4653\n",
      "cont\n",
      "last height: 4653\n",
      "new height: 5808\n",
      "cont\n",
      "last height: 5808\n",
      "new height: 6751\n",
      "cont\n",
      "last height: 6751\n",
      "new height: 7963\n",
      "cont\n",
      "last height: 7963\n",
      "new height: 9078\n",
      "cont\n",
      "last height: 9078\n",
      "new height: 10167\n",
      "cont\n",
      "last height: 10167\n",
      "new height: 11391\n",
      "cont\n",
      "last height: 11391\n",
      "new height: 12458\n",
      "cont\n",
      "last height: 12458\n",
      "new height: 13431\n",
      "cont\n",
      "last height: 13431\n",
      "new height: 14627\n",
      "cont\n",
      "last height: 14627\n",
      "new height: 15684\n",
      "cont\n",
      "last height: 15684\n",
      "new height: 16713\n",
      "cont\n",
      "last height: 16713\n",
      "new height: 17941\n",
      "cont\n",
      "last height: 17941\n",
      "new height: 19080\n",
      "cont\n",
      "last height: 19080\n",
      "new height: 20168\n",
      "cont\n",
      "last height: 20168\n",
      "new height: 20168\n"
     ]
    }
   ],
   "source": [
    "starting_business = 'it company'\n",
    "city = 'yogi chock surat'\n",
    "url = 'https://www.google.com/maps/search/' + starting_business + ' ' + city\n",
    "\n",
    "# Opening the search URL. You'll notice a chrome window opening :\n",
    "driver.get(url)\n",
    "\n",
    "SCROLL_PAUSE_TIME = 3\n",
    "\n",
    "# Get scroll height\n",
    "last_height = driver.execute_script(\"return document.body.scrollHeight\")\n",
    "\n",
    "number = 0\n",
    "\n",
    "while True:\n",
    "    number = number+1\n",
    "\n",
    "    # Scroll down to bottom\n",
    "    \n",
    "    ele = driver.find_element('xpath','//*[@id=\"QA0Szd\"]/div/div/div[1]/div[2]/div/div[1]/div/div/div[2]/div[1]')\n",
    "    driver.execute_script('arguments[0].scrollBy(0, 50000);', ele)\n",
    "\n",
    "    # Wait to load page\n",
    "\n",
    "    time.sleep(SCROLL_PAUSE_TIME)\n",
    "\n",
    "    # Calculate new scroll height and compare with last scroll height\n",
    "    print(f'last height: {last_height}')\n",
    "\n",
    "    ele = driver.find_element('xpath','//*[@id=\"QA0Szd\"]/div/div/div[1]/div[2]/div/div[1]/div/div/div[2]/div[1]')\n",
    "\n",
    "    new_height = driver.execute_script(\"return arguments[0].scrollHeight\", ele)\n",
    "\n",
    "    print(f'new height: {new_height}')\n",
    "\n",
    "    if number == 25:\n",
    "        break\n",
    "\n",
    "    if new_height == last_height:\n",
    "        break\n",
    "\n",
    "    print('cont')\n",
    "    last_height = new_height"
   ]
  },
  {
   "cell_type": "code",
   "execution_count": 468,
   "id": "a4d8d85c",
   "metadata": {},
   "outputs": [],
   "source": [
    "for j in range(3,115,2):\n",
    "    try:                              \n",
    "        name= driver.find_element('xpath','//*[@id=\"QA0Szd\"]/div/div/div[1]/div[2]/div/div[1]/div/div/div[2]/div[1]/div['+str(j)+']/div/div[2]/div[2]/div[1]/div/div/div[2]/div[1]/div[2]/span').text\n",
    "        full_name.append(name)\n",
    "    except NoSuchElementException:\n",
    "        full_name.append('null')\n",
    "    try:\n",
    "        rating = driver.find_element('xpath','//*[@id=\"QA0Szd\"]/div/div/div[1]/div[2]/div/div[1]/div/div/div[2]/div[1]/div['+str(j)+']/div/div[2]/div[2]/div[1]/div/div/div[2]/div[3]/div/span[2]/span[2]').text.split('(')[0]\n",
    "        ratings.append(rating)\n",
    "    except NoSuchElementException:\n",
    "        ratings.append(\"null\")\n",
    "    try:\n",
    "        bus = driver.find_element('xpath','//*[@id=\"QA0Szd\"]/div/div/div[1]/div[2]/div/div[1]/div/div/div[2]/div[1]/div['+str(j)+']/div/div[2]/div[2]/div[1]/div/div/div[2]/div[4]/div[1]/span[1]/jsl/span[2]').text\n",
    "        business_category.append(bus)\n",
    "    except NoSuchElementException:\n",
    "        business_category.append(\"null\")\n",
    "    try:   \n",
    "        add=driver.find_element('xpath','//*[@id=\"QA0Szd\"]/div/div/div[1]/div[2]/div/div[1]/div/div/div[2]/div[1]/div['+str(j)+']/div/div[2]/div[2]/div[1]/div/div/div[2]/div[4]/div[1]/span[2]/jsl/span[2]').text\n",
    "        address.append(add)\n",
    "    except NoSuchElementException:\n",
    "        address.append(\"null\")\n",
    "    try:\n",
    "        ph = driver.find_element('xpath','//*[@id=\"QA0Szd\"]/div/div/div[1]/div[2]/div/div[1]/div/div/div[2]/div[1]/div['+str(j)+']/div/div[2]/div[2]/div[1]/div/div/div[2]/div[4]/div[2]/span[2]/jsl/span[2]').text\n",
    "        phone.append(ph)\n",
    "    except NoSuchElementException :\n",
    "        phone.append('null')\n",
    "        \n",
    "    try:\n",
    "        web= driver.find_element('xpath','//*[@id=\"QA0Szd\"]/div/div/div[1]/div[2]/div/div[1]/div/div/div[2]/div[1]/div['+str(j)+']/div/div[2]/div[2]/div[2]/div[1]/a').get_attribute('href')\n",
    "        website.append(web)\n",
    "    except NoSuchElementException :\n",
    "        website.append('null')\n",
    "        \n",
    "    try:\n",
    "        t_rat = driver.find_element('xpath','//*[@id=\"QA0Szd\"]/div/div/div[1]/div[2]/div/div[1]/div/div/div[2]/div[1]/div['+str(j)+']/div/div[2]/div[2]/div[1]/div/div/div[2]/div[3]/div/span[2]/span[2]').text.split('(')[-1]\n",
    "        total_ratings.append(t_rat)\n",
    "    except NoSuchElementException :\n",
    "        total_ratings.append(\"null\") "
   ]
  },
  {
   "cell_type": "code",
   "execution_count": 469,
   "id": "ad5e7ad4",
   "metadata": {},
   "outputs": [
    {
     "data": {
      "text/plain": [
       "504"
      ]
     },
     "execution_count": 469,
     "metadata": {},
     "output_type": "execute_result"
    }
   ],
   "source": [
    "len(full_name)"
   ]
  },
  {
   "cell_type": "code",
   "execution_count": 470,
   "id": "88081b84",
   "metadata": {},
   "outputs": [
    {
     "data": {
      "text/plain": [
       "504"
      ]
     },
     "execution_count": 470,
     "metadata": {},
     "output_type": "execute_result"
    }
   ],
   "source": [
    "len(website)"
   ]
  },
  {
   "cell_type": "code",
   "execution_count": 471,
   "id": "8b8ca759",
   "metadata": {},
   "outputs": [
    {
     "data": {
      "text/plain": [
       "504"
      ]
     },
     "execution_count": 471,
     "metadata": {},
     "output_type": "execute_result"
    }
   ],
   "source": [
    "len(phone)"
   ]
  },
  {
   "cell_type": "code",
   "execution_count": 472,
   "id": "ec32b3f1",
   "metadata": {},
   "outputs": [
    {
     "data": {
      "text/plain": [
       "504"
      ]
     },
     "execution_count": 472,
     "metadata": {},
     "output_type": "execute_result"
    }
   ],
   "source": [
    "len(address)"
   ]
  },
  {
   "cell_type": "code",
   "execution_count": 473,
   "id": "5b8fdcd2",
   "metadata": {},
   "outputs": [
    {
     "data": {
      "text/plain": [
       "504"
      ]
     },
     "execution_count": 473,
     "metadata": {},
     "output_type": "execute_result"
    }
   ],
   "source": [
    "len(business_category)"
   ]
  },
  {
   "cell_type": "code",
   "execution_count": 474,
   "id": "77eec814",
   "metadata": {},
   "outputs": [
    {
     "data": {
      "text/plain": [
       "504"
      ]
     },
     "execution_count": 474,
     "metadata": {},
     "output_type": "execute_result"
    }
   ],
   "source": [
    "len(ratings)"
   ]
  },
  {
   "cell_type": "code",
   "execution_count": 475,
   "id": "bdafffc3",
   "metadata": {},
   "outputs": [
    {
     "data": {
      "text/plain": [
       "504"
      ]
     },
     "execution_count": 475,
     "metadata": {},
     "output_type": "execute_result"
    }
   ],
   "source": [
    "len(total_ratings)"
   ]
  },
  {
   "cell_type": "code",
   "execution_count": 476,
   "id": "b1ce5923",
   "metadata": {},
   "outputs": [
    {
     "name": "stdout",
     "output_type": "stream",
     "text": [
      "last height: 666\n",
      "new height: 2715\n",
      "cont\n",
      "last height: 2715\n",
      "new height: 3761\n",
      "cont\n",
      "last height: 3761\n",
      "new height: 5157\n",
      "cont\n",
      "last height: 5157\n",
      "new height: 6464\n",
      "cont\n",
      "last height: 6464\n",
      "new height: 7489\n",
      "cont\n",
      "last height: 7489\n",
      "new height: 8805\n",
      "cont\n",
      "last height: 8805\n",
      "new height: 10100\n",
      "cont\n",
      "last height: 10100\n",
      "new height: 11057\n",
      "cont\n",
      "last height: 11057\n",
      "new height: 12277\n",
      "cont\n",
      "last height: 12277\n",
      "new height: 13540\n",
      "cont\n",
      "last height: 13540\n",
      "new height: 14685\n",
      "cont\n",
      "last height: 14685\n",
      "new height: 15825\n",
      "cont\n",
      "last height: 15825\n",
      "new height: 17100\n",
      "cont\n",
      "last height: 17100\n",
      "new height: 18201\n",
      "cont\n",
      "last height: 18201\n",
      "new height: 19423\n",
      "cont\n",
      "last height: 19423\n",
      "new height: 20618\n",
      "cont\n",
      "last height: 20618\n",
      "new height: 21694\n",
      "cont\n",
      "last height: 21694\n",
      "new height: 21694\n"
     ]
    }
   ],
   "source": [
    "starting_business = 'it company'\n",
    "city = 'ghoddod surat'\n",
    "url = 'https://www.google.com/maps/search/' + starting_business + ' ' + city\n",
    "\n",
    "# Opening the search URL. You'll notice a chrome window opening :\n",
    "driver.get(url)\n",
    "\n",
    "SCROLL_PAUSE_TIME = 3\n",
    "\n",
    "# Get scroll height\n",
    "last_height = driver.execute_script(\"return document.body.scrollHeight\")\n",
    "\n",
    "number = 0\n",
    "\n",
    "while True:\n",
    "    number = number+1\n",
    "\n",
    "    # Scroll down to bottom\n",
    "    \n",
    "    ele = driver.find_element('xpath','//*[@id=\"QA0Szd\"]/div/div/div[1]/div[2]/div/div[1]/div/div/div[2]/div[1]')\n",
    "    driver.execute_script('arguments[0].scrollBy(0, 50000);', ele)\n",
    "\n",
    "    # Wait to load page\n",
    "\n",
    "    time.sleep(SCROLL_PAUSE_TIME)\n",
    "\n",
    "    # Calculate new scroll height and compare with last scroll height\n",
    "    print(f'last height: {last_height}')\n",
    "\n",
    "    ele = driver.find_element('xpath','//*[@id=\"QA0Szd\"]/div/div/div[1]/div[2]/div/div[1]/div/div/div[2]/div[1]')\n",
    "\n",
    "    new_height = driver.execute_script(\"return arguments[0].scrollHeight\", ele)\n",
    "\n",
    "    print(f'new height: {new_height}')\n",
    "\n",
    "    if number == 25:\n",
    "        break\n",
    "\n",
    "    if new_height == last_height:\n",
    "        break\n",
    "\n",
    "    print('cont')\n",
    "    last_height = new_height"
   ]
  },
  {
   "cell_type": "code",
   "execution_count": 477,
   "id": "6036c95e",
   "metadata": {},
   "outputs": [],
   "source": [
    "for j in range(3,115,2):\n",
    "    try:                              \n",
    "        name= driver.find_element('xpath','//*[@id=\"QA0Szd\"]/div/div/div[1]/div[2]/div/div[1]/div/div/div[2]/div[1]/div['+str(j)+']/div/div[2]/div[2]/div[1]/div/div/div[2]/div[1]/div[2]/span').text\n",
    "        full_name.append(name)\n",
    "    except NoSuchElementException:\n",
    "        full_name.append('null')\n",
    "    try:\n",
    "        rating = driver.find_element('xpath','//*[@id=\"QA0Szd\"]/div/div/div[1]/div[2]/div/div[1]/div/div/div[2]/div[1]/div['+str(j)+']/div/div[2]/div[2]/div[1]/div/div/div[2]/div[3]/div/span[2]/span[2]').text.split('(')[0]\n",
    "        ratings.append(rating)\n",
    "    except NoSuchElementException:\n",
    "        ratings.append(\"null\")\n",
    "    try:\n",
    "        bus = driver.find_element('xpath','//*[@id=\"QA0Szd\"]/div/div/div[1]/div[2]/div/div[1]/div/div/div[2]/div[1]/div['+str(j)+']/div/div[2]/div[2]/div[1]/div/div/div[2]/div[4]/div[1]/span[1]/jsl/span[2]').text\n",
    "        business_category.append(bus)\n",
    "    except NoSuchElementException:\n",
    "        business_category.append(\"null\")\n",
    "    try:   \n",
    "        add=driver.find_element('xpath','//*[@id=\"QA0Szd\"]/div/div/div[1]/div[2]/div/div[1]/div/div/div[2]/div[1]/div['+str(j)+']/div/div[2]/div[2]/div[1]/div/div/div[2]/div[4]/div[1]/span[2]/jsl/span[2]').text\n",
    "        address.append(add)\n",
    "    except NoSuchElementException:\n",
    "        address.append(\"null\")\n",
    "    try:\n",
    "        ph = driver.find_element('xpath','//*[@id=\"QA0Szd\"]/div/div/div[1]/div[2]/div/div[1]/div/div/div[2]/div[1]/div['+str(j)+']/div/div[2]/div[2]/div[1]/div/div/div[2]/div[4]/div[2]/span[2]/jsl/span[2]').text\n",
    "        phone.append(ph)\n",
    "    except NoSuchElementException :\n",
    "        phone.append('null')\n",
    "        \n",
    "    try:\n",
    "        web= driver.find_element('xpath','//*[@id=\"QA0Szd\"]/div/div/div[1]/div[2]/div/div[1]/div/div/div[2]/div[1]/div['+str(j)+']/div/div[2]/div[2]/div[2]/div[1]/a').get_attribute('href')\n",
    "        website.append(web)\n",
    "    except NoSuchElementException :\n",
    "        website.append('null')\n",
    "        \n",
    "    try:\n",
    "        t_rat = driver.find_element('xpath','//*[@id=\"QA0Szd\"]/div/div/div[1]/div[2]/div/div[1]/div/div/div[2]/div[1]/div['+str(j)+']/div/div[2]/div[2]/div[1]/div/div/div[2]/div[3]/div/span[2]/span[2]').text.split('(')[-1]\n",
    "        total_ratings.append(t_rat)\n",
    "    except NoSuchElementException :\n",
    "        total_ratings.append(\"null\") "
   ]
  },
  {
   "cell_type": "code",
   "execution_count": 478,
   "id": "f103bbea",
   "metadata": {},
   "outputs": [
    {
     "data": {
      "text/plain": [
       "560"
      ]
     },
     "execution_count": 478,
     "metadata": {},
     "output_type": "execute_result"
    }
   ],
   "source": [
    "len(full_name)"
   ]
  },
  {
   "cell_type": "code",
   "execution_count": 479,
   "id": "5e51ea70",
   "metadata": {},
   "outputs": [
    {
     "data": {
      "text/plain": [
       "560"
      ]
     },
     "execution_count": 479,
     "metadata": {},
     "output_type": "execute_result"
    }
   ],
   "source": [
    "len(website)"
   ]
  },
  {
   "cell_type": "code",
   "execution_count": 480,
   "id": "9e46e721",
   "metadata": {},
   "outputs": [
    {
     "data": {
      "text/plain": [
       "560"
      ]
     },
     "execution_count": 480,
     "metadata": {},
     "output_type": "execute_result"
    }
   ],
   "source": [
    "len(phone)"
   ]
  },
  {
   "cell_type": "code",
   "execution_count": 481,
   "id": "878f9029",
   "metadata": {},
   "outputs": [
    {
     "data": {
      "text/plain": [
       "560"
      ]
     },
     "execution_count": 481,
     "metadata": {},
     "output_type": "execute_result"
    }
   ],
   "source": [
    "len(address)"
   ]
  },
  {
   "cell_type": "code",
   "execution_count": 482,
   "id": "66fa1322",
   "metadata": {},
   "outputs": [
    {
     "data": {
      "text/plain": [
       "560"
      ]
     },
     "execution_count": 482,
     "metadata": {},
     "output_type": "execute_result"
    }
   ],
   "source": [
    "len(business_category)"
   ]
  },
  {
   "cell_type": "code",
   "execution_count": 483,
   "id": "fb38503d",
   "metadata": {},
   "outputs": [
    {
     "data": {
      "text/plain": [
       "560"
      ]
     },
     "execution_count": 483,
     "metadata": {},
     "output_type": "execute_result"
    }
   ],
   "source": [
    "len(ratings)"
   ]
  },
  {
   "cell_type": "code",
   "execution_count": 484,
   "id": "ab4d7dfb",
   "metadata": {},
   "outputs": [
    {
     "data": {
      "text/plain": [
       "560"
      ]
     },
     "execution_count": 484,
     "metadata": {},
     "output_type": "execute_result"
    }
   ],
   "source": [
    "len(total_ratings)"
   ]
  },
  {
   "cell_type": "code",
   "execution_count": 485,
   "id": "3b048dc8",
   "metadata": {},
   "outputs": [
    {
     "name": "stdout",
     "output_type": "stream",
     "text": [
      "last height: 666\n",
      "new height: 3123\n",
      "cont\n",
      "last height: 3123\n",
      "new height: 4109\n",
      "cont\n",
      "last height: 4109\n",
      "new height: 5493\n",
      "cont\n",
      "last height: 5493\n",
      "new height: 6680\n",
      "cont\n",
      "last height: 6680\n",
      "new height: 7801\n",
      "cont\n",
      "last height: 7801\n",
      "new height: 9069\n",
      "cont\n",
      "last height: 9069\n",
      "new height: 10348\n",
      "cont\n",
      "last height: 10348\n",
      "new height: 11345\n",
      "cont\n",
      "last height: 11345\n",
      "new height: 12569\n",
      "cont\n",
      "last height: 12569\n",
      "new height: 13844\n",
      "cont\n",
      "last height: 13844\n",
      "new height: 14877\n",
      "cont\n",
      "last height: 14877\n",
      "new height: 16013\n",
      "cont\n",
      "last height: 16013\n",
      "new height: 16952\n",
      "cont\n",
      "last height: 16952\n",
      "new height: 18023\n",
      "cont\n",
      "last height: 18023\n",
      "new height: 19103\n",
      "cont\n",
      "last height: 19103\n",
      "new height: 20280\n",
      "cont\n",
      "last height: 20280\n",
      "new height: 21330\n",
      "cont\n",
      "last height: 21330\n",
      "new height: 21330\n"
     ]
    }
   ],
   "source": [
    "starting_business = 'it company'\n",
    "city = 'piplod surat'\n",
    "url = 'https://www.google.com/maps/search/' + starting_business + ' ' + city\n",
    "\n",
    "# Opening the search URL. You'll notice a chrome window opening :\n",
    "driver.get(url)\n",
    "\n",
    "SCROLL_PAUSE_TIME = 3\n",
    "\n",
    "# Get scroll height\n",
    "last_height = driver.execute_script(\"return document.body.scrollHeight\")\n",
    "\n",
    "number = 0\n",
    "\n",
    "while True:\n",
    "    number = number+1\n",
    "\n",
    "    # Scroll down to bottom\n",
    "    \n",
    "    ele = driver.find_element('xpath','//*[@id=\"QA0Szd\"]/div/div/div[1]/div[2]/div/div[1]/div/div/div[2]/div[1]')\n",
    "    driver.execute_script('arguments[0].scrollBy(0, 50000);', ele)\n",
    "\n",
    "    # Wait to load page\n",
    "\n",
    "    time.sleep(SCROLL_PAUSE_TIME)\n",
    "\n",
    "    # Calculate new scroll height and compare with last scroll height\n",
    "    print(f'last height: {last_height}')\n",
    "\n",
    "    ele = driver.find_element('xpath','//*[@id=\"QA0Szd\"]/div/div/div[1]/div[2]/div/div[1]/div/div/div[2]/div[1]')\n",
    "\n",
    "    new_height = driver.execute_script(\"return arguments[0].scrollHeight\", ele)\n",
    "\n",
    "    print(f'new height: {new_height}')\n",
    "\n",
    "    if number == 25:\n",
    "        break\n",
    "\n",
    "    if new_height == last_height:\n",
    "        break\n",
    "\n",
    "    print('cont')\n",
    "    last_height = new_height"
   ]
  },
  {
   "cell_type": "code",
   "execution_count": 486,
   "id": "9a7f13cf",
   "metadata": {},
   "outputs": [],
   "source": [
    "for j in range(3,115,2):\n",
    "    try:                              \n",
    "        name= driver.find_element('xpath','//*[@id=\"QA0Szd\"]/div/div/div[1]/div[2]/div/div[1]/div/div/div[2]/div[1]/div['+str(j)+']/div/div[2]/div[2]/div[1]/div/div/div[2]/div[1]/div[2]/span').text\n",
    "        full_name.append(name)\n",
    "    except NoSuchElementException:\n",
    "        full_name.append('null')\n",
    "    try:\n",
    "        rating = driver.find_element('xpath','//*[@id=\"QA0Szd\"]/div/div/div[1]/div[2]/div/div[1]/div/div/div[2]/div[1]/div['+str(j)+']/div/div[2]/div[2]/div[1]/div/div/div[2]/div[3]/div/span[2]/span[2]').text.split('(')[0]\n",
    "        ratings.append(rating)\n",
    "    except NoSuchElementException:\n",
    "        ratings.append(\"null\")\n",
    "    try:\n",
    "        bus = driver.find_element('xpath','//*[@id=\"QA0Szd\"]/div/div/div[1]/div[2]/div/div[1]/div/div/div[2]/div[1]/div['+str(j)+']/div/div[2]/div[2]/div[1]/div/div/div[2]/div[4]/div[1]/span[1]/jsl/span[2]').text\n",
    "        business_category.append(bus)\n",
    "    except NoSuchElementException:\n",
    "        business_category.append(\"null\")\n",
    "    try:   \n",
    "        add=driver.find_element('xpath','//*[@id=\"QA0Szd\"]/div/div/div[1]/div[2]/div/div[1]/div/div/div[2]/div[1]/div['+str(j)+']/div/div[2]/div[2]/div[1]/div/div/div[2]/div[4]/div[1]/span[2]/jsl/span[2]').text\n",
    "        address.append(add)\n",
    "    except NoSuchElementException:\n",
    "        address.append(\"null\")\n",
    "    try:\n",
    "        ph = driver.find_element('xpath','//*[@id=\"QA0Szd\"]/div/div/div[1]/div[2]/div/div[1]/div/div/div[2]/div[1]/div['+str(j)+']/div/div[2]/div[2]/div[1]/div/div/div[2]/div[4]/div[2]/span[2]/jsl/span[2]').text\n",
    "        phone.append(ph)\n",
    "    except NoSuchElementException :\n",
    "        phone.append('null')\n",
    "        \n",
    "    try:\n",
    "        web= driver.find_element('xpath','//*[@id=\"QA0Szd\"]/div/div/div[1]/div[2]/div/div[1]/div/div/div[2]/div[1]/div['+str(j)+']/div/div[2]/div[2]/div[2]/div[1]/a').get_attribute('href')\n",
    "        website.append(web)\n",
    "    except NoSuchElementException :\n",
    "        website.append('null')\n",
    "        \n",
    "    try:\n",
    "        t_rat = driver.find_element('xpath','//*[@id=\"QA0Szd\"]/div/div/div[1]/div[2]/div/div[1]/div/div/div[2]/div[1]/div['+str(j)+']/div/div[2]/div[2]/div[1]/div/div/div[2]/div[3]/div/span[2]/span[2]').text.split('(')[-1]\n",
    "        total_ratings.append(t_rat)\n",
    "    except NoSuchElementException :\n",
    "        total_ratings.append(\"null\") "
   ]
  },
  {
   "cell_type": "code",
   "execution_count": 487,
   "id": "a00ae304",
   "metadata": {},
   "outputs": [
    {
     "data": {
      "text/plain": [
       "616"
      ]
     },
     "execution_count": 487,
     "metadata": {},
     "output_type": "execute_result"
    }
   ],
   "source": [
    "len(full_name)"
   ]
  },
  {
   "cell_type": "code",
   "execution_count": 488,
   "id": "3f5176ba",
   "metadata": {},
   "outputs": [
    {
     "data": {
      "text/plain": [
       "616"
      ]
     },
     "execution_count": 488,
     "metadata": {},
     "output_type": "execute_result"
    }
   ],
   "source": [
    "len(website)"
   ]
  },
  {
   "cell_type": "code",
   "execution_count": 489,
   "id": "5dc45fb8",
   "metadata": {},
   "outputs": [
    {
     "data": {
      "text/plain": [
       "616"
      ]
     },
     "execution_count": 489,
     "metadata": {},
     "output_type": "execute_result"
    }
   ],
   "source": [
    "len(phone)"
   ]
  },
  {
   "cell_type": "code",
   "execution_count": 490,
   "id": "171d412f",
   "metadata": {},
   "outputs": [
    {
     "data": {
      "text/plain": [
       "616"
      ]
     },
     "execution_count": 490,
     "metadata": {},
     "output_type": "execute_result"
    }
   ],
   "source": [
    "len(address)"
   ]
  },
  {
   "cell_type": "code",
   "execution_count": 491,
   "id": "b835e9c0",
   "metadata": {},
   "outputs": [
    {
     "data": {
      "text/plain": [
       "616"
      ]
     },
     "execution_count": 491,
     "metadata": {},
     "output_type": "execute_result"
    }
   ],
   "source": [
    "len(business_category)"
   ]
  },
  {
   "cell_type": "code",
   "execution_count": 492,
   "id": "1f0425c1",
   "metadata": {},
   "outputs": [
    {
     "data": {
      "text/plain": [
       "616"
      ]
     },
     "execution_count": 492,
     "metadata": {},
     "output_type": "execute_result"
    }
   ],
   "source": [
    "len(ratings)"
   ]
  },
  {
   "cell_type": "code",
   "execution_count": 493,
   "id": "fda431b6",
   "metadata": {},
   "outputs": [
    {
     "data": {
      "text/plain": [
       "616"
      ]
     },
     "execution_count": 493,
     "metadata": {},
     "output_type": "execute_result"
    }
   ],
   "source": [
    "len(total_ratings)"
   ]
  },
  {
   "cell_type": "code",
   "execution_count": 494,
   "id": "21e1d211",
   "metadata": {},
   "outputs": [
    {
     "name": "stdout",
     "output_type": "stream",
     "text": [
      "last height: 666\n",
      "new height: 2819\n",
      "cont\n",
      "last height: 2819\n",
      "new height: 3617\n",
      "cont\n",
      "last height: 3617\n",
      "new height: 5009\n",
      "cont\n",
      "last height: 5009\n",
      "new height: 6304\n",
      "cont\n",
      "last height: 6304\n",
      "new height: 7199\n",
      "cont\n",
      "last height: 7199\n",
      "new height: 8335\n",
      "cont\n",
      "last height: 8335\n",
      "new height: 9348\n",
      "cont\n",
      "last height: 9348\n",
      "new height: 10429\n",
      "cont\n",
      "last height: 10429\n",
      "new height: 11625\n",
      "cont\n",
      "last height: 11625\n",
      "new height: 12776\n",
      "cont\n",
      "last height: 12776\n",
      "new height: 13869\n",
      "cont\n",
      "last height: 13869\n",
      "new height: 15121\n",
      "cont\n",
      "last height: 15121\n",
      "new height: 16416\n",
      "cont\n",
      "last height: 16416\n",
      "new height: 17361\n",
      "cont\n",
      "last height: 17361\n",
      "new height: 18421\n",
      "cont\n",
      "last height: 18421\n",
      "new height: 19658\n",
      "cont\n",
      "last height: 19658\n",
      "new height: 20610\n",
      "cont\n",
      "last height: 20610\n",
      "new height: 20610\n"
     ]
    }
   ],
   "source": [
    "starting_business = 'it company'\n",
    "city = 'City Light surat'\n",
    "url = 'https://www.google.com/maps/search/' + starting_business + ' ' + city\n",
    "\n",
    "# Opening the search URL. You'll notice a chrome window opening :\n",
    "driver.get(url)\n",
    "\n",
    "SCROLL_PAUSE_TIME = 3\n",
    "\n",
    "# Get scroll height\n",
    "last_height = driver.execute_script(\"return document.body.scrollHeight\")\n",
    "\n",
    "number = 0\n",
    "\n",
    "while True:\n",
    "    number = number+1\n",
    "\n",
    "    # Scroll down to bottom\n",
    "    \n",
    "    ele = driver.find_element('xpath','//*[@id=\"QA0Szd\"]/div/div/div[1]/div[2]/div/div[1]/div/div/div[2]/div[1]')\n",
    "    driver.execute_script('arguments[0].scrollBy(0, 50000);', ele)\n",
    "\n",
    "    # Wait to load page\n",
    "\n",
    "    time.sleep(SCROLL_PAUSE_TIME)\n",
    "\n",
    "    # Calculate new scroll height and compare with last scroll height\n",
    "    print(f'last height: {last_height}')\n",
    "\n",
    "    ele = driver.find_element('xpath','//*[@id=\"QA0Szd\"]/div/div/div[1]/div[2]/div/div[1]/div/div/div[2]/div[1]')\n",
    "\n",
    "    new_height = driver.execute_script(\"return arguments[0].scrollHeight\", ele)\n",
    "\n",
    "    print(f'new height: {new_height}')\n",
    "\n",
    "    if number == 25:\n",
    "        break\n",
    "\n",
    "    if new_height == last_height:\n",
    "        break\n",
    "\n",
    "    print('cont')\n",
    "    last_height = new_height"
   ]
  },
  {
   "cell_type": "code",
   "execution_count": 495,
   "id": "b1d79994",
   "metadata": {},
   "outputs": [],
   "source": [
    "for j in range(3,115,2):\n",
    "    try:                              \n",
    "        name= driver.find_element('xpath','//*[@id=\"QA0Szd\"]/div/div/div[1]/div[2]/div/div[1]/div/div/div[2]/div[1]/div['+str(j)+']/div/div[2]/div[2]/div[1]/div/div/div[2]/div[1]/div[2]/span').text\n",
    "        full_name.append(name)\n",
    "    except NoSuchElementException:\n",
    "        full_name.append('null')\n",
    "    try:\n",
    "        rating = driver.find_element('xpath','//*[@id=\"QA0Szd\"]/div/div/div[1]/div[2]/div/div[1]/div/div/div[2]/div[1]/div['+str(j)+']/div/div[2]/div[2]/div[1]/div/div/div[2]/div[3]/div/span[2]/span[2]').text.split('(')[0]\n",
    "        ratings.append(rating)\n",
    "    except NoSuchElementException:\n",
    "        ratings.append(\"null\")\n",
    "    try:\n",
    "        bus = driver.find_element('xpath','//*[@id=\"QA0Szd\"]/div/div/div[1]/div[2]/div/div[1]/div/div/div[2]/div[1]/div['+str(j)+']/div/div[2]/div[2]/div[1]/div/div/div[2]/div[4]/div[1]/span[1]/jsl/span[2]').text\n",
    "        business_category.append(bus)\n",
    "    except NoSuchElementException:\n",
    "        business_category.append(\"null\")\n",
    "    try:   \n",
    "        add=driver.find_element('xpath','//*[@id=\"QA0Szd\"]/div/div/div[1]/div[2]/div/div[1]/div/div/div[2]/div[1]/div['+str(j)+']/div/div[2]/div[2]/div[1]/div/div/div[2]/div[4]/div[1]/span[2]/jsl/span[2]').text\n",
    "        address.append(add)\n",
    "    except NoSuchElementException:\n",
    "        address.append(\"null\")\n",
    "    try:\n",
    "        ph = driver.find_element('xpath','//*[@id=\"QA0Szd\"]/div/div/div[1]/div[2]/div/div[1]/div/div/div[2]/div[1]/div['+str(j)+']/div/div[2]/div[2]/div[1]/div/div/div[2]/div[4]/div[2]/span[2]/jsl/span[2]').text\n",
    "        phone.append(ph)\n",
    "    except NoSuchElementException :\n",
    "        phone.append('null')\n",
    "        \n",
    "    try:\n",
    "        web= driver.find_element('xpath','//*[@id=\"QA0Szd\"]/div/div/div[1]/div[2]/div/div[1]/div/div/div[2]/div[1]/div['+str(j)+']/div/div[2]/div[2]/div[2]/div[1]/a').get_attribute('href')\n",
    "        website.append(web)\n",
    "    except NoSuchElementException :\n",
    "        website.append('null')\n",
    "        \n",
    "    try:\n",
    "        t_rat = driver.find_element('xpath','//*[@id=\"QA0Szd\"]/div/div/div[1]/div[2]/div/div[1]/div/div/div[2]/div[1]/div['+str(j)+']/div/div[2]/div[2]/div[1]/div/div/div[2]/div[3]/div/span[2]/span[2]').text.split('(')[-1]\n",
    "        total_ratings.append(t_rat)\n",
    "    except NoSuchElementException :\n",
    "        total_ratings.append(\"null\") "
   ]
  },
  {
   "cell_type": "code",
   "execution_count": 496,
   "id": "1a3a7093",
   "metadata": {},
   "outputs": [
    {
     "data": {
      "text/plain": [
       "672"
      ]
     },
     "execution_count": 496,
     "metadata": {},
     "output_type": "execute_result"
    }
   ],
   "source": [
    "len(full_name)"
   ]
  },
  {
   "cell_type": "code",
   "execution_count": 497,
   "id": "10498048",
   "metadata": {},
   "outputs": [
    {
     "data": {
      "text/plain": [
       "672"
      ]
     },
     "execution_count": 497,
     "metadata": {},
     "output_type": "execute_result"
    }
   ],
   "source": [
    "len(website)"
   ]
  },
  {
   "cell_type": "code",
   "execution_count": 498,
   "id": "728a1995",
   "metadata": {},
   "outputs": [
    {
     "data": {
      "text/plain": [
       "672"
      ]
     },
     "execution_count": 498,
     "metadata": {},
     "output_type": "execute_result"
    }
   ],
   "source": [
    "len(phone)"
   ]
  },
  {
   "cell_type": "code",
   "execution_count": 499,
   "id": "eb36da41",
   "metadata": {},
   "outputs": [
    {
     "data": {
      "text/plain": [
       "672"
      ]
     },
     "execution_count": 499,
     "metadata": {},
     "output_type": "execute_result"
    }
   ],
   "source": [
    "len(address)"
   ]
  },
  {
   "cell_type": "code",
   "execution_count": 500,
   "id": "dd16e7a5",
   "metadata": {},
   "outputs": [
    {
     "data": {
      "text/plain": [
       "672"
      ]
     },
     "execution_count": 500,
     "metadata": {},
     "output_type": "execute_result"
    }
   ],
   "source": [
    "len(business_category)"
   ]
  },
  {
   "cell_type": "code",
   "execution_count": 501,
   "id": "7c545ddf",
   "metadata": {},
   "outputs": [
    {
     "data": {
      "text/plain": [
       "672"
      ]
     },
     "execution_count": 501,
     "metadata": {},
     "output_type": "execute_result"
    }
   ],
   "source": [
    "len(ratings)"
   ]
  },
  {
   "cell_type": "code",
   "execution_count": 502,
   "id": "20384b6c",
   "metadata": {},
   "outputs": [
    {
     "data": {
      "text/plain": [
       "672"
      ]
     },
     "execution_count": 502,
     "metadata": {},
     "output_type": "execute_result"
    }
   ],
   "source": [
    "len(total_ratings)"
   ]
  },
  {
   "cell_type": "code",
   "execution_count": 503,
   "id": "aa4e3f9a",
   "metadata": {},
   "outputs": [
    {
     "name": "stdout",
     "output_type": "stream",
     "text": [
      "last height: 666\n",
      "new height: 2487\n",
      "cont\n",
      "last height: 2487\n",
      "new height: 3229\n",
      "cont\n",
      "last height: 3229\n",
      "new height: 4465\n",
      "cont\n",
      "last height: 4465\n",
      "new height: 5688\n",
      "cont\n",
      "last height: 5688\n",
      "new height: 6641\n",
      "cont\n",
      "last height: 6641\n",
      "new height: 7817\n",
      "cont\n",
      "last height: 7817\n",
      "new height: 9092\n",
      "cont\n",
      "last height: 9092\n",
      "new height: 10125\n",
      "cont\n",
      "last height: 10125\n",
      "new height: 11187\n",
      "cont\n",
      "last height: 11187\n",
      "new height: 12254\n",
      "cont\n",
      "last height: 12254\n",
      "new height: 13171\n",
      "cont\n",
      "last height: 13171\n",
      "new height: 14367\n",
      "cont\n",
      "last height: 14367\n",
      "new height: 15474\n",
      "cont\n",
      "last height: 15474\n",
      "new height: 16583\n",
      "cont\n",
      "last height: 16583\n",
      "new height: 17759\n",
      "cont\n",
      "last height: 17759\n",
      "new height: 18772\n",
      "cont\n",
      "last height: 18772\n",
      "new height: 19596\n",
      "cont\n",
      "last height: 19596\n",
      "new height: 19596\n"
     ]
    }
   ],
   "source": [
    "starting_business = 'it company'\n",
    "city = 'Sarthana jakatnaka surat'\n",
    "url = 'https://www.google.com/maps/search/' + starting_business + ' ' + city\n",
    "\n",
    "# Opening the search URL. You'll notice a chrome window opening :\n",
    "driver.get(url)\n",
    "\n",
    "SCROLL_PAUSE_TIME = 3\n",
    "\n",
    "# Get scroll height\n",
    "last_height = driver.execute_script(\"return document.body.scrollHeight\")\n",
    "\n",
    "number = 0\n",
    "\n",
    "while True:\n",
    "    number = number+1\n",
    "\n",
    "    # Scroll down to bottom\n",
    "    \n",
    "    ele = driver.find_element('xpath','//*[@id=\"QA0Szd\"]/div/div/div[1]/div[2]/div/div[1]/div/div/div[2]/div[1]')\n",
    "    driver.execute_script('arguments[0].scrollBy(0, 50000);', ele)\n",
    "\n",
    "    # Wait to load page\n",
    "\n",
    "    time.sleep(SCROLL_PAUSE_TIME)\n",
    "\n",
    "    # Calculate new scroll height and compare with last scroll height\n",
    "    print(f'last height: {last_height}')\n",
    "\n",
    "    ele = driver.find_element('xpath','//*[@id=\"QA0Szd\"]/div/div/div[1]/div[2]/div/div[1]/div/div/div[2]/div[1]')\n",
    "\n",
    "    new_height = driver.execute_script(\"return arguments[0].scrollHeight\", ele)\n",
    "\n",
    "    print(f'new height: {new_height}')\n",
    "\n",
    "    if number == 25:\n",
    "        break\n",
    "\n",
    "    if new_height == last_height:\n",
    "        break\n",
    "\n",
    "    print('cont')\n",
    "    last_height = new_height"
   ]
  },
  {
   "cell_type": "code",
   "execution_count": 504,
   "id": "d9a27401",
   "metadata": {},
   "outputs": [],
   "source": [
    "for j in range(3,115,2):\n",
    "    try:                              \n",
    "        name= driver.find_element('xpath','//*[@id=\"QA0Szd\"]/div/div/div[1]/div[2]/div/div[1]/div/div/div[2]/div[1]/div['+str(j)+']/div/div[2]/div[2]/div[1]/div/div/div[2]/div[1]/div[2]/span').text\n",
    "        full_name.append(name)\n",
    "    except NoSuchElementException:\n",
    "        full_name.append('null')\n",
    "    try:\n",
    "        rating = driver.find_element('xpath','//*[@id=\"QA0Szd\"]/div/div/div[1]/div[2]/div/div[1]/div/div/div[2]/div[1]/div['+str(j)+']/div/div[2]/div[2]/div[1]/div/div/div[2]/div[3]/div/span[2]/span[2]').text.split('(')[0]\n",
    "        ratings.append(rating)\n",
    "    except NoSuchElementException:\n",
    "        ratings.append(\"null\")\n",
    "    try:\n",
    "        bus = driver.find_element('xpath','//*[@id=\"QA0Szd\"]/div/div/div[1]/div[2]/div/div[1]/div/div/div[2]/div[1]/div['+str(j)+']/div/div[2]/div[2]/div[1]/div/div/div[2]/div[4]/div[1]/span[1]/jsl/span[2]').text\n",
    "        business_category.append(bus)\n",
    "    except NoSuchElementException:\n",
    "        business_category.append(\"null\")\n",
    "    try:   \n",
    "        add=driver.find_element('xpath','//*[@id=\"QA0Szd\"]/div/div/div[1]/div[2]/div/div[1]/div/div/div[2]/div[1]/div['+str(j)+']/div/div[2]/div[2]/div[1]/div/div/div[2]/div[4]/div[1]/span[2]/jsl/span[2]').text\n",
    "        address.append(add)\n",
    "    except NoSuchElementException:\n",
    "        address.append(\"null\")\n",
    "    try:\n",
    "        ph = driver.find_element('xpath','//*[@id=\"QA0Szd\"]/div/div/div[1]/div[2]/div/div[1]/div/div/div[2]/div[1]/div['+str(j)+']/div/div[2]/div[2]/div[1]/div/div/div[2]/div[4]/div[2]/span[2]/jsl/span[2]').text\n",
    "        phone.append(ph)\n",
    "    except NoSuchElementException :\n",
    "        phone.append('null')\n",
    "        \n",
    "    try:\n",
    "        web= driver.find_element('xpath','//*[@id=\"QA0Szd\"]/div/div/div[1]/div[2]/div/div[1]/div/div/div[2]/div[1]/div['+str(j)+']/div/div[2]/div[2]/div[2]/div[1]/a').get_attribute('href')\n",
    "        website.append(web)\n",
    "    except NoSuchElementException :\n",
    "        website.append('null')\n",
    "        \n",
    "    try:\n",
    "        t_rat = driver.find_element('xpath','//*[@id=\"QA0Szd\"]/div/div/div[1]/div[2]/div/div[1]/div/div/div[2]/div[1]/div['+str(j)+']/div/div[2]/div[2]/div[1]/div/div/div[2]/div[3]/div/span[2]/span[2]').text.split('(')[-1]\n",
    "        total_ratings.append(t_rat)\n",
    "    except NoSuchElementException :\n",
    "        total_ratings.append(\"null\") "
   ]
  },
  {
   "cell_type": "code",
   "execution_count": 505,
   "id": "bb474b85",
   "metadata": {},
   "outputs": [
    {
     "data": {
      "text/plain": [
       "728"
      ]
     },
     "execution_count": 505,
     "metadata": {},
     "output_type": "execute_result"
    }
   ],
   "source": [
    "len(full_name)"
   ]
  },
  {
   "cell_type": "code",
   "execution_count": 506,
   "id": "044991d3",
   "metadata": {},
   "outputs": [
    {
     "data": {
      "text/plain": [
       "728"
      ]
     },
     "execution_count": 506,
     "metadata": {},
     "output_type": "execute_result"
    }
   ],
   "source": [
    "len(website)"
   ]
  },
  {
   "cell_type": "code",
   "execution_count": 507,
   "id": "60206f55",
   "metadata": {},
   "outputs": [
    {
     "data": {
      "text/plain": [
       "728"
      ]
     },
     "execution_count": 507,
     "metadata": {},
     "output_type": "execute_result"
    }
   ],
   "source": [
    "len(phone)"
   ]
  },
  {
   "cell_type": "code",
   "execution_count": 508,
   "id": "68c35f50",
   "metadata": {},
   "outputs": [
    {
     "data": {
      "text/plain": [
       "728"
      ]
     },
     "execution_count": 508,
     "metadata": {},
     "output_type": "execute_result"
    }
   ],
   "source": [
    "len(address)"
   ]
  },
  {
   "cell_type": "code",
   "execution_count": 509,
   "id": "225c6cf8",
   "metadata": {},
   "outputs": [
    {
     "data": {
      "text/plain": [
       "728"
      ]
     },
     "execution_count": 509,
     "metadata": {},
     "output_type": "execute_result"
    }
   ],
   "source": [
    "len(business_category)"
   ]
  },
  {
   "cell_type": "code",
   "execution_count": 510,
   "id": "a294ab62",
   "metadata": {},
   "outputs": [
    {
     "data": {
      "text/plain": [
       "728"
      ]
     },
     "execution_count": 510,
     "metadata": {},
     "output_type": "execute_result"
    }
   ],
   "source": [
    "len(ratings)"
   ]
  },
  {
   "cell_type": "code",
   "execution_count": 511,
   "id": "91144ec7",
   "metadata": {},
   "outputs": [
    {
     "data": {
      "text/plain": [
       "728"
      ]
     },
     "execution_count": 511,
     "metadata": {},
     "output_type": "execute_result"
    }
   ],
   "source": [
    "len(total_ratings)"
   ]
  },
  {
   "cell_type": "code",
   "execution_count": 512,
   "id": "f43914aa",
   "metadata": {},
   "outputs": [
    {
     "name": "stdout",
     "output_type": "stream",
     "text": [
      "last height: 666\n",
      "new height: 2731\n",
      "cont\n",
      "last height: 2731\n",
      "new height: 3463\n",
      "cont\n",
      "last height: 3463\n",
      "new height: 4525\n",
      "cont\n",
      "last height: 4525\n",
      "new height: 5592\n",
      "cont\n",
      "last height: 5592\n",
      "new height: 6633\n",
      "cont\n",
      "last height: 6633\n",
      "new height: 7633\n",
      "cont\n",
      "last height: 7633\n",
      "new height: 8676\n",
      "cont\n",
      "last height: 8676\n",
      "new height: 9597\n",
      "cont\n",
      "last height: 9597\n",
      "new height: 10933\n",
      "cont\n",
      "last height: 10933\n",
      "new height: 12080\n",
      "cont\n",
      "last height: 12080\n",
      "new height: 12991\n",
      "cont\n",
      "last height: 12991\n",
      "new height: 14191\n",
      "cont\n",
      "last height: 14191\n",
      "new height: 15242\n",
      "cont\n",
      "last height: 15242\n",
      "new height: 16165\n",
      "cont\n",
      "last height: 16165\n",
      "new height: 17269\n",
      "cont\n",
      "last height: 17269\n",
      "new height: 18192\n",
      "cont\n",
      "last height: 18192\n",
      "new height: 19184\n",
      "cont\n",
      "last height: 19184\n",
      "new height: 19184\n"
     ]
    }
   ],
   "source": [
    "starting_business = 'it company'\n",
    "city = 'kamrej surat'\n",
    "url = 'https://www.google.com/maps/search/' + starting_business + ' ' + city\n",
    "\n",
    "# Opening the search URL. You'll notice a chrome window opening :\n",
    "driver.get(url)\n",
    "\n",
    "SCROLL_PAUSE_TIME = 3\n",
    "\n",
    "# Get scroll height\n",
    "last_height = driver.execute_script(\"return document.body.scrollHeight\")\n",
    "\n",
    "number = 0\n",
    "\n",
    "while True:\n",
    "    number = number+1\n",
    "\n",
    "    # Scroll down to bottom\n",
    "    \n",
    "    ele = driver.find_element('xpath','//*[@id=\"QA0Szd\"]/div/div/div[1]/div[2]/div/div[1]/div/div/div[2]/div[1]')\n",
    "    driver.execute_script('arguments[0].scrollBy(0, 50000);', ele)\n",
    "\n",
    "    # Wait to load page\n",
    "\n",
    "    time.sleep(SCROLL_PAUSE_TIME)\n",
    "\n",
    "    # Calculate new scroll height and compare with last scroll height\n",
    "    print(f'last height: {last_height}')\n",
    "\n",
    "    ele = driver.find_element('xpath','//*[@id=\"QA0Szd\"]/div/div/div[1]/div[2]/div/div[1]/div/div/div[2]/div[1]')\n",
    "\n",
    "    new_height = driver.execute_script(\"return arguments[0].scrollHeight\", ele)\n",
    "\n",
    "    print(f'new height: {new_height}')\n",
    "\n",
    "    if number == 25:\n",
    "        break\n",
    "\n",
    "    if new_height == last_height:\n",
    "        break\n",
    "\n",
    "    print('cont')\n",
    "    last_height = new_height"
   ]
  },
  {
   "cell_type": "code",
   "execution_count": 513,
   "id": "6116a988",
   "metadata": {},
   "outputs": [],
   "source": [
    "for j in range(3,115,2):\n",
    "    try:                              \n",
    "        name= driver.find_element('xpath','//*[@id=\"QA0Szd\"]/div/div/div[1]/div[2]/div/div[1]/div/div/div[2]/div[1]/div['+str(j)+']/div/div[2]/div[2]/div[1]/div/div/div[2]/div[1]/div[2]/span').text\n",
    "        full_name.append(name)\n",
    "    except NoSuchElementException:\n",
    "        full_name.append('null')\n",
    "    try:\n",
    "        rating = driver.find_element('xpath','//*[@id=\"QA0Szd\"]/div/div/div[1]/div[2]/div/div[1]/div/div/div[2]/div[1]/div['+str(j)+']/div/div[2]/div[2]/div[1]/div/div/div[2]/div[3]/div/span[2]/span[2]').text.split('(')[0]\n",
    "        ratings.append(rating)\n",
    "    except NoSuchElementException:\n",
    "        ratings.append(\"null\")\n",
    "    try:\n",
    "        bus = driver.find_element('xpath','//*[@id=\"QA0Szd\"]/div/div/div[1]/div[2]/div/div[1]/div/div/div[2]/div[1]/div['+str(j)+']/div/div[2]/div[2]/div[1]/div/div/div[2]/div[4]/div[1]/span[1]/jsl/span[2]').text\n",
    "        business_category.append(bus)\n",
    "    except NoSuchElementException:\n",
    "        business_category.append(\"null\")\n",
    "    try:   \n",
    "        add=driver.find_element('xpath','//*[@id=\"QA0Szd\"]/div/div/div[1]/div[2]/div/div[1]/div/div/div[2]/div[1]/div['+str(j)+']/div/div[2]/div[2]/div[1]/div/div/div[2]/div[4]/div[1]/span[2]/jsl/span[2]').text\n",
    "        address.append(add)\n",
    "    except NoSuchElementException:\n",
    "        address.append(\"null\")\n",
    "    try:\n",
    "        ph = driver.find_element('xpath','//*[@id=\"QA0Szd\"]/div/div/div[1]/div[2]/div/div[1]/div/div/div[2]/div[1]/div['+str(j)+']/div/div[2]/div[2]/div[1]/div/div/div[2]/div[4]/div[2]/span[2]/jsl/span[2]').text\n",
    "        phone.append(ph)\n",
    "    except NoSuchElementException :\n",
    "        phone.append('null')\n",
    "        \n",
    "    try:\n",
    "        web= driver.find_element('xpath','//*[@id=\"QA0Szd\"]/div/div/div[1]/div[2]/div/div[1]/div/div/div[2]/div[1]/div['+str(j)+']/div/div[2]/div[2]/div[2]/div[1]/a').get_attribute('href')\n",
    "        website.append(web)\n",
    "    except NoSuchElementException :\n",
    "        website.append('null')\n",
    "        \n",
    "    try:\n",
    "        t_rat = driver.find_element('xpath','//*[@id=\"QA0Szd\"]/div/div/div[1]/div[2]/div/div[1]/div/div/div[2]/div[1]/div['+str(j)+']/div/div[2]/div[2]/div[1]/div/div/div[2]/div[3]/div/span[2]/span[2]').text.split('(')[-1]\n",
    "        total_ratings.append(t_rat)\n",
    "    except NoSuchElementException :\n",
    "        total_ratings.append(\"null\")"
   ]
  },
  {
   "cell_type": "code",
   "execution_count": 514,
   "id": "1262f569",
   "metadata": {},
   "outputs": [
    {
     "data": {
      "text/plain": [
       "784"
      ]
     },
     "execution_count": 514,
     "metadata": {},
     "output_type": "execute_result"
    }
   ],
   "source": [
    "len(full_name)"
   ]
  },
  {
   "cell_type": "code",
   "execution_count": 515,
   "id": "aac852ad",
   "metadata": {},
   "outputs": [
    {
     "data": {
      "text/plain": [
       "784"
      ]
     },
     "execution_count": 515,
     "metadata": {},
     "output_type": "execute_result"
    }
   ],
   "source": [
    "len(website)"
   ]
  },
  {
   "cell_type": "code",
   "execution_count": 516,
   "id": "72d3f74c",
   "metadata": {},
   "outputs": [
    {
     "data": {
      "text/plain": [
       "784"
      ]
     },
     "execution_count": 516,
     "metadata": {},
     "output_type": "execute_result"
    }
   ],
   "source": [
    "len(phone)"
   ]
  },
  {
   "cell_type": "code",
   "execution_count": 517,
   "id": "446a0be1",
   "metadata": {},
   "outputs": [
    {
     "data": {
      "text/plain": [
       "784"
      ]
     },
     "execution_count": 517,
     "metadata": {},
     "output_type": "execute_result"
    }
   ],
   "source": [
    "len(address)"
   ]
  },
  {
   "cell_type": "code",
   "execution_count": 518,
   "id": "9a9c7453",
   "metadata": {},
   "outputs": [
    {
     "data": {
      "text/plain": [
       "784"
      ]
     },
     "execution_count": 518,
     "metadata": {},
     "output_type": "execute_result"
    }
   ],
   "source": [
    "len(business_category)"
   ]
  },
  {
   "cell_type": "code",
   "execution_count": 519,
   "id": "0cf0db60",
   "metadata": {},
   "outputs": [
    {
     "data": {
      "text/plain": [
       "784"
      ]
     },
     "execution_count": 519,
     "metadata": {},
     "output_type": "execute_result"
    }
   ],
   "source": [
    "len(ratings)"
   ]
  },
  {
   "cell_type": "code",
   "execution_count": 520,
   "id": "dae6d1c9",
   "metadata": {},
   "outputs": [
    {
     "data": {
      "text/plain": [
       "784"
      ]
     },
     "execution_count": 520,
     "metadata": {},
     "output_type": "execute_result"
    }
   ],
   "source": [
    "len(total_ratings)"
   ]
  },
  {
   "cell_type": "code",
   "execution_count": 521,
   "id": "0d657334",
   "metadata": {},
   "outputs": [
    {
     "name": "stdout",
     "output_type": "stream",
     "text": [
      "last height: 666\n",
      "new height: 2251\n",
      "cont\n",
      "last height: 2251\n",
      "new height: 3031\n",
      "cont\n",
      "last height: 3031\n",
      "new height: 4161\n",
      "cont\n",
      "last height: 4161\n",
      "new height: 5310\n",
      "cont\n",
      "last height: 5310\n",
      "new height: 6223\n",
      "cont\n",
      "last height: 6223\n",
      "new height: 7535\n",
      "cont\n",
      "last height: 7535\n",
      "new height: 8738\n",
      "cont\n",
      "last height: 8738\n",
      "new height: 9759\n",
      "cont\n",
      "last height: 9759\n",
      "new height: 11103\n",
      "cont\n",
      "last height: 11103\n",
      "new height: 12346\n",
      "cont\n",
      "last height: 12346\n",
      "new height: 13313\n",
      "cont\n",
      "last height: 13313\n",
      "new height: 14473\n",
      "cont\n",
      "last height: 14473\n",
      "new height: 15768\n",
      "cont\n",
      "last height: 15768\n",
      "new height: 16707\n",
      "cont\n",
      "last height: 16707\n",
      "new height: 17775\n",
      "cont\n",
      "last height: 17775\n",
      "new height: 18874\n",
      "cont\n",
      "last height: 18874\n",
      "new height: 19556\n",
      "cont\n",
      "last height: 19556\n",
      "new height: 19556\n"
     ]
    }
   ],
   "source": [
    "starting_business = 'it company'\n",
    "city = 'amroli surat'\n",
    "url = 'https://www.google.com/maps/search/' + starting_business + ' ' + city\n",
    "\n",
    "# Opening the search URL. You'll notice a chrome window opening :\n",
    "driver.get(url)\n",
    "\n",
    "SCROLL_PAUSE_TIME = 3\n",
    "\n",
    "# Get scroll height\n",
    "last_height = driver.execute_script(\"return document.body.scrollHeight\")\n",
    "\n",
    "number = 0\n",
    "\n",
    "while True:\n",
    "    number = number+1\n",
    "\n",
    "    # Scroll down to bottom\n",
    "    \n",
    "    ele = driver.find_element('xpath','//*[@id=\"QA0Szd\"]/div/div/div[1]/div[2]/div/div[1]/div/div/div[2]/div[1]')\n",
    "    driver.execute_script('arguments[0].scrollBy(0, 50000);', ele)\n",
    "\n",
    "    # Wait to load page\n",
    "\n",
    "    time.sleep(SCROLL_PAUSE_TIME)\n",
    "\n",
    "    # Calculate new scroll height and compare with last scroll height\n",
    "    print(f'last height: {last_height}')\n",
    "\n",
    "    ele = driver.find_element('xpath','//*[@id=\"QA0Szd\"]/div/div/div[1]/div[2]/div/div[1]/div/div/div[2]/div[1]')\n",
    "\n",
    "    new_height = driver.execute_script(\"return arguments[0].scrollHeight\", ele)\n",
    "\n",
    "    print(f'new height: {new_height}')\n",
    "\n",
    "    if number == 25:\n",
    "        break\n",
    "\n",
    "    if new_height == last_height:\n",
    "        break\n",
    "\n",
    "    print('cont')\n",
    "    last_height = new_height"
   ]
  },
  {
   "cell_type": "code",
   "execution_count": 522,
   "id": "c208084c",
   "metadata": {},
   "outputs": [],
   "source": [
    "for j in range(3,115,2):\n",
    "    try:                              \n",
    "        name= driver.find_element('xpath','//*[@id=\"QA0Szd\"]/div/div/div[1]/div[2]/div/div[1]/div/div/div[2]/div[1]/div['+str(j)+']/div/div[2]/div[2]/div[1]/div/div/div[2]/div[1]/div[2]/span').text\n",
    "        full_name.append(name)\n",
    "    except NoSuchElementException:\n",
    "        full_name.append('null')\n",
    "    try:\n",
    "        rating = driver.find_element('xpath','//*[@id=\"QA0Szd\"]/div/div/div[1]/div[2]/div/div[1]/div/div/div[2]/div[1]/div['+str(j)+']/div/div[2]/div[2]/div[1]/div/div/div[2]/div[3]/div/span[2]/span[2]').text.split('(')[0]\n",
    "        ratings.append(rating)\n",
    "    except NoSuchElementException:\n",
    "        ratings.append(\"null\")\n",
    "    try:\n",
    "        bus = driver.find_element('xpath','//*[@id=\"QA0Szd\"]/div/div/div[1]/div[2]/div/div[1]/div/div/div[2]/div[1]/div['+str(j)+']/div/div[2]/div[2]/div[1]/div/div/div[2]/div[4]/div[1]/span[1]/jsl/span[2]').text\n",
    "        business_category.append(bus)\n",
    "    except NoSuchElementException:\n",
    "        business_category.append(\"null\")\n",
    "    try:   \n",
    "        add=driver.find_element('xpath','//*[@id=\"QA0Szd\"]/div/div/div[1]/div[2]/div/div[1]/div/div/div[2]/div[1]/div['+str(j)+']/div/div[2]/div[2]/div[1]/div/div/div[2]/div[4]/div[1]/span[2]/jsl/span[2]').text\n",
    "        address.append(add)\n",
    "    except NoSuchElementException:\n",
    "        address.append(\"null\")\n",
    "    try:\n",
    "        ph = driver.find_element('xpath','//*[@id=\"QA0Szd\"]/div/div/div[1]/div[2]/div/div[1]/div/div/div[2]/div[1]/div['+str(j)+']/div/div[2]/div[2]/div[1]/div/div/div[2]/div[4]/div[2]/span[2]/jsl/span[2]').text\n",
    "        phone.append(ph)\n",
    "    except NoSuchElementException :\n",
    "        phone.append('null')\n",
    "        \n",
    "    try:\n",
    "        web= driver.find_element('xpath','//*[@id=\"QA0Szd\"]/div/div/div[1]/div[2]/div/div[1]/div/div/div[2]/div[1]/div['+str(j)+']/div/div[2]/div[2]/div[2]/div[1]/a').get_attribute('href')\n",
    "        website.append(web)\n",
    "    except NoSuchElementException :\n",
    "        website.append('null')\n",
    "        \n",
    "    try:\n",
    "        t_rat = driver.find_element('xpath','//*[@id=\"QA0Szd\"]/div/div/div[1]/div[2]/div/div[1]/div/div/div[2]/div[1]/div['+str(j)+']/div/div[2]/div[2]/div[1]/div/div/div[2]/div[3]/div/span[2]/span[2]').text.split('(')[-1]\n",
    "        total_ratings.append(t_rat)\n",
    "    except NoSuchElementException :\n",
    "        total_ratings.append(\"null\")"
   ]
  },
  {
   "cell_type": "code",
   "execution_count": 523,
   "id": "b4b48e25",
   "metadata": {},
   "outputs": [
    {
     "data": {
      "text/plain": [
       "840"
      ]
     },
     "execution_count": 523,
     "metadata": {},
     "output_type": "execute_result"
    }
   ],
   "source": [
    "len(full_name)"
   ]
  },
  {
   "cell_type": "code",
   "execution_count": 524,
   "id": "d4528376",
   "metadata": {},
   "outputs": [
    {
     "data": {
      "text/plain": [
       "840"
      ]
     },
     "execution_count": 524,
     "metadata": {},
     "output_type": "execute_result"
    }
   ],
   "source": [
    "len(website)"
   ]
  },
  {
   "cell_type": "code",
   "execution_count": 525,
   "id": "b20dc951",
   "metadata": {},
   "outputs": [
    {
     "data": {
      "text/plain": [
       "840"
      ]
     },
     "execution_count": 525,
     "metadata": {},
     "output_type": "execute_result"
    }
   ],
   "source": [
    "len(phone)"
   ]
  },
  {
   "cell_type": "code",
   "execution_count": 526,
   "id": "26369319",
   "metadata": {},
   "outputs": [
    {
     "data": {
      "text/plain": [
       "840"
      ]
     },
     "execution_count": 526,
     "metadata": {},
     "output_type": "execute_result"
    }
   ],
   "source": [
    "len(address)"
   ]
  },
  {
   "cell_type": "code",
   "execution_count": 527,
   "id": "6fd2cea4",
   "metadata": {},
   "outputs": [
    {
     "data": {
      "text/plain": [
       "840"
      ]
     },
     "execution_count": 527,
     "metadata": {},
     "output_type": "execute_result"
    }
   ],
   "source": [
    "len(business_category)"
   ]
  },
  {
   "cell_type": "code",
   "execution_count": 528,
   "id": "c8a3cac9",
   "metadata": {},
   "outputs": [
    {
     "data": {
      "text/plain": [
       "840"
      ]
     },
     "execution_count": 528,
     "metadata": {},
     "output_type": "execute_result"
    }
   ],
   "source": [
    "len(ratings)"
   ]
  },
  {
   "cell_type": "code",
   "execution_count": 529,
   "id": "eadd4ed3",
   "metadata": {},
   "outputs": [
    {
     "data": {
      "text/plain": [
       "840"
      ]
     },
     "execution_count": 529,
     "metadata": {},
     "output_type": "execute_result"
    }
   ],
   "source": [
    "len(total_ratings)"
   ]
  },
  {
   "cell_type": "code",
   "execution_count": 530,
   "id": "bf8f92bb",
   "metadata": {},
   "outputs": [
    {
     "name": "stdout",
     "output_type": "stream",
     "text": [
      "last height: 666\n",
      "new height: 2704\n",
      "cont\n",
      "last height: 2704\n",
      "new height: 3514\n",
      "cont\n",
      "last height: 3514\n",
      "new height: 4822\n",
      "cont\n",
      "last height: 4822\n",
      "new height: 5791\n",
      "cont\n",
      "last height: 5791\n",
      "new height: 6724\n",
      "cont\n",
      "last height: 6724\n",
      "new height: 7696\n",
      "cont\n",
      "last height: 7696\n",
      "new height: 8817\n",
      "cont\n",
      "last height: 8817\n",
      "new height: 9772\n",
      "cont\n",
      "last height: 9772\n",
      "new height: 10764\n",
      "cont\n",
      "last height: 10764\n",
      "new height: 11813\n",
      "cont\n",
      "last height: 11813\n",
      "new height: 12746\n",
      "cont\n",
      "last height: 12746\n",
      "new height: 13904\n",
      "cont\n",
      "last height: 13904\n",
      "new height: 14953\n",
      "cont\n",
      "last height: 14953\n",
      "new height: 15872\n",
      "cont\n",
      "last height: 15872\n",
      "new height: 16838\n",
      "cont\n",
      "last height: 16838\n",
      "new height: 17781\n",
      "cont\n",
      "last height: 17781\n",
      "new height: 18725\n",
      "cont\n",
      "last height: 18725\n",
      "new height: 18725\n"
     ]
    }
   ],
   "source": [
    "starting_business = 'it company'\n",
    "city = 'jhangirpura surat'\n",
    "url = 'https://www.google.com/maps/search/' + starting_business + ' ' + city\n",
    "\n",
    "# Opening the search URL. You'll notice a chrome window opening :\n",
    "driver.get(url)\n",
    "\n",
    "SCROLL_PAUSE_TIME = 3\n",
    "\n",
    "# Get scroll height\n",
    "last_height = driver.execute_script(\"return document.body.scrollHeight\")\n",
    "\n",
    "number = 0\n",
    "\n",
    "while True:\n",
    "    number = number+1\n",
    "\n",
    "    # Scroll down to bottom\n",
    "    \n",
    "    ele = driver.find_element('xpath','//*[@id=\"QA0Szd\"]/div/div/div[1]/div[2]/div/div[1]/div/div/div[2]/div[1]')\n",
    "    driver.execute_script('arguments[0].scrollBy(0, 50000);', ele)\n",
    "\n",
    "    # Wait to load page\n",
    "\n",
    "    time.sleep(SCROLL_PAUSE_TIME)\n",
    "\n",
    "    # Calculate new scroll height and compare with last scroll height\n",
    "    print(f'last height: {last_height}')\n",
    "\n",
    "    ele = driver.find_element('xpath','//*[@id=\"QA0Szd\"]/div/div/div[1]/div[2]/div/div[1]/div/div/div[2]/div[1]')\n",
    "\n",
    "    new_height = driver.execute_script(\"return arguments[0].scrollHeight\", ele)\n",
    "\n",
    "    print(f'new height: {new_height}')\n",
    "\n",
    "    if number == 25:\n",
    "        break\n",
    "\n",
    "    if new_height == last_height:\n",
    "        break\n",
    "\n",
    "    print('cont')\n",
    "    last_height = new_height"
   ]
  },
  {
   "cell_type": "code",
   "execution_count": 531,
   "id": "be95173e",
   "metadata": {},
   "outputs": [],
   "source": [
    "for j in range(3,115,2):\n",
    "    try:                              \n",
    "        name= driver.find_element('xpath','//*[@id=\"QA0Szd\"]/div/div/div[1]/div[2]/div/div[1]/div/div/div[2]/div[1]/div['+str(j)+']/div/div[2]/div[2]/div[1]/div/div/div[2]/div[1]/div[2]/span').text\n",
    "        full_name.append(name)\n",
    "    except NoSuchElementException:\n",
    "        full_name.append('null')\n",
    "    try:\n",
    "        rating = driver.find_element('xpath','//*[@id=\"QA0Szd\"]/div/div/div[1]/div[2]/div/div[1]/div/div/div[2]/div[1]/div['+str(j)+']/div/div[2]/div[2]/div[1]/div/div/div[2]/div[3]/div/span[2]/span[2]').text.split('(')[0]\n",
    "        ratings.append(rating)\n",
    "    except NoSuchElementException:\n",
    "        ratings.append(\"null\")\n",
    "    try:\n",
    "        bus = driver.find_element('xpath','//*[@id=\"QA0Szd\"]/div/div/div[1]/div[2]/div/div[1]/div/div/div[2]/div[1]/div['+str(j)+']/div/div[2]/div[2]/div[1]/div/div/div[2]/div[4]/div[1]/span[1]/jsl/span[2]').text\n",
    "        business_category.append(bus)\n",
    "    except NoSuchElementException:\n",
    "        business_category.append(\"null\")\n",
    "    try:   \n",
    "        add=driver.find_element('xpath','//*[@id=\"QA0Szd\"]/div/div/div[1]/div[2]/div/div[1]/div/div/div[2]/div[1]/div['+str(j)+']/div/div[2]/div[2]/div[1]/div/div/div[2]/div[4]/div[1]/span[2]/jsl/span[2]').text\n",
    "        address.append(add)\n",
    "    except NoSuchElementException:\n",
    "        address.append(\"null\")\n",
    "    try:\n",
    "        ph = driver.find_element('xpath','//*[@id=\"QA0Szd\"]/div/div/div[1]/div[2]/div/div[1]/div/div/div[2]/div[1]/div['+str(j)+']/div/div[2]/div[2]/div[1]/div/div/div[2]/div[4]/div[2]/span[2]/jsl/span[2]').text\n",
    "        phone.append(ph)\n",
    "    except NoSuchElementException :\n",
    "        phone.append('null')\n",
    "        \n",
    "    try:\n",
    "        web= driver.find_element('xpath','//*[@id=\"QA0Szd\"]/div/div/div[1]/div[2]/div/div[1]/div/div/div[2]/div[1]/div['+str(j)+']/div/div[2]/div[2]/div[2]/div[1]/a').get_attribute('href')\n",
    "        website.append(web)\n",
    "    except NoSuchElementException :\n",
    "        website.append('null')\n",
    "        \n",
    "    try:\n",
    "        t_rat = driver.find_element('xpath','//*[@id=\"QA0Szd\"]/div/div/div[1]/div[2]/div/div[1]/div/div/div[2]/div[1]/div['+str(j)+']/div/div[2]/div[2]/div[1]/div/div/div[2]/div[3]/div/span[2]/span[2]').text.split('(')[-1]\n",
    "        total_ratings.append(t_rat)\n",
    "    except NoSuchElementException :\n",
    "        total_ratings.append(\"null\")"
   ]
  },
  {
   "cell_type": "code",
   "execution_count": 532,
   "id": "2c737b78",
   "metadata": {},
   "outputs": [
    {
     "data": {
      "text/plain": [
       "896"
      ]
     },
     "execution_count": 532,
     "metadata": {},
     "output_type": "execute_result"
    }
   ],
   "source": [
    "len(full_name)"
   ]
  },
  {
   "cell_type": "code",
   "execution_count": 533,
   "id": "24ec8544",
   "metadata": {},
   "outputs": [
    {
     "data": {
      "text/plain": [
       "896"
      ]
     },
     "execution_count": 533,
     "metadata": {},
     "output_type": "execute_result"
    }
   ],
   "source": [
    "len(website)"
   ]
  },
  {
   "cell_type": "code",
   "execution_count": 534,
   "id": "a81ce6a1",
   "metadata": {},
   "outputs": [
    {
     "data": {
      "text/plain": [
       "896"
      ]
     },
     "execution_count": 534,
     "metadata": {},
     "output_type": "execute_result"
    }
   ],
   "source": [
    "len(phone)"
   ]
  },
  {
   "cell_type": "code",
   "execution_count": 535,
   "id": "f0df6f37",
   "metadata": {},
   "outputs": [
    {
     "data": {
      "text/plain": [
       "896"
      ]
     },
     "execution_count": 535,
     "metadata": {},
     "output_type": "execute_result"
    }
   ],
   "source": [
    "len(address)"
   ]
  },
  {
   "cell_type": "code",
   "execution_count": 536,
   "id": "2d485d22",
   "metadata": {},
   "outputs": [
    {
     "data": {
      "text/plain": [
       "896"
      ]
     },
     "execution_count": 536,
     "metadata": {},
     "output_type": "execute_result"
    }
   ],
   "source": [
    "len(business_category)"
   ]
  },
  {
   "cell_type": "code",
   "execution_count": 537,
   "id": "e9946009",
   "metadata": {},
   "outputs": [
    {
     "data": {
      "text/plain": [
       "896"
      ]
     },
     "execution_count": 537,
     "metadata": {},
     "output_type": "execute_result"
    }
   ],
   "source": [
    "len(ratings)"
   ]
  },
  {
   "cell_type": "code",
   "execution_count": 538,
   "id": "d7e4bc54",
   "metadata": {},
   "outputs": [
    {
     "data": {
      "text/plain": [
       "896"
      ]
     },
     "execution_count": 538,
     "metadata": {},
     "output_type": "execute_result"
    }
   ],
   "source": [
    "len(total_ratings)"
   ]
  },
  {
   "cell_type": "code",
   "execution_count": 545,
   "id": "460d852f",
   "metadata": {},
   "outputs": [],
   "source": [
    "PS = pd.DataFrame(data={'full_name':full_name[0:840], 'rating':ratings[0:840], 'total_ratings':total_ratings[0:840], 'business_category':business_category[0:840], 'address':address[0:840], 'phone':phone[0:840], 'website':website[0:840]})"
   ]
  },
  {
   "cell_type": "code",
   "execution_count": 546,
   "id": "744811bc",
   "metadata": {},
   "outputs": [
    {
     "data": {
      "text/html": [
       "<div>\n",
       "<style scoped>\n",
       "    .dataframe tbody tr th:only-of-type {\n",
       "        vertical-align: middle;\n",
       "    }\n",
       "\n",
       "    .dataframe tbody tr th {\n",
       "        vertical-align: top;\n",
       "    }\n",
       "\n",
       "    .dataframe thead th {\n",
       "        text-align: right;\n",
       "    }\n",
       "</style>\n",
       "<table border=\"1\" class=\"dataframe\">\n",
       "  <thead>\n",
       "    <tr style=\"text-align: right;\">\n",
       "      <th></th>\n",
       "      <th>full_name</th>\n",
       "      <th>rating</th>\n",
       "      <th>total_ratings</th>\n",
       "      <th>business_category</th>\n",
       "      <th>address</th>\n",
       "      <th>phone</th>\n",
       "      <th>website</th>\n",
       "    </tr>\n",
       "  </thead>\n",
       "  <tbody>\n",
       "    <tr>\n",
       "      <th>0</th>\n",
       "      <td>Lane 4 Solution</td>\n",
       "      <td>5.0</td>\n",
       "      <td>28)</td>\n",
       "      <td>Software company</td>\n",
       "      <td>B-415, Monarch, Pragati Marg, near Lemon Grass...</td>\n",
       "      <td>null</td>\n",
       "      <td>http://www.lane4solution.com/</td>\n",
       "    </tr>\n",
       "    <tr>\n",
       "      <th>1</th>\n",
       "      <td>Neotech Solutions</td>\n",
       "      <td>4.9</td>\n",
       "      <td>19)</td>\n",
       "      <td>Software company</td>\n",
       "      <td>214 Raj Victoria, Opp Raj Arcade</td>\n",
       "      <td>063573 99944</td>\n",
       "      <td>http://neotechit.in/</td>\n",
       "    </tr>\n",
       "    <tr>\n",
       "      <th>2</th>\n",
       "      <td>KamalDhari Infotech - IT Company in Surat</td>\n",
       "      <td>4.5</td>\n",
       "      <td>107)</td>\n",
       "      <td>Software company</td>\n",
       "      <td>305, Western Arena, Near, Trinity Business Hub...</td>\n",
       "      <td>063528 12123</td>\n",
       "      <td>https://kamaldhari.com/</td>\n",
       "    </tr>\n",
       "    <tr>\n",
       "      <th>3</th>\n",
       "      <td>Trimantra Software Solution LLP</td>\n",
       "      <td>4.2</td>\n",
       "      <td>80)</td>\n",
       "      <td>Software company</td>\n",
       "      <td>401-402, 4th Floor, \"STAR WORLD\", Near Green C...</td>\n",
       "      <td>096247 71699</td>\n",
       "      <td>http://www.trimantra.com/</td>\n",
       "    </tr>\n",
       "    <tr>\n",
       "      <th>4</th>\n",
       "      <td>PIXML Solutions</td>\n",
       "      <td>5.0</td>\n",
       "      <td>6)</td>\n",
       "      <td>Software company</td>\n",
       "      <td>418, Raj Victoria, New Pal Lake Rd</td>\n",
       "      <td>099091 60070</td>\n",
       "      <td>https://www.pixml.in/</td>\n",
       "    </tr>\n",
       "    <tr>\n",
       "      <th>...</th>\n",
       "      <td>...</td>\n",
       "      <td>...</td>\n",
       "      <td>...</td>\n",
       "      <td>...</td>\n",
       "      <td>...</td>\n",
       "      <td>...</td>\n",
       "      <td>...</td>\n",
       "    </tr>\n",
       "    <tr>\n",
       "      <th>835</th>\n",
       "      <td>JS ENGINEERING CLASSES</td>\n",
       "      <td>4.9</td>\n",
       "      <td>21)</td>\n",
       "      <td>Education center</td>\n",
       "      <td>B-1203, Ashirwad Heights, Amroli - Kosad Rd, o...</td>\n",
       "      <td>090339 50546</td>\n",
       "      <td>https://www.facebook.com/jbshah1992</td>\n",
       "    </tr>\n",
       "    <tr>\n",
       "      <th>836</th>\n",
       "      <td>Shreedama Technologies</td>\n",
       "      <td>4.6</td>\n",
       "      <td>17)</td>\n",
       "      <td>Software company</td>\n",
       "      <td>407, Sunshine Complex, Opp CNG Station, Mota V...</td>\n",
       "      <td>072028 88072</td>\n",
       "      <td>http://www.shreedama.com/</td>\n",
       "    </tr>\n",
       "    <tr>\n",
       "      <th>837</th>\n",
       "      <td>Rajodiya Infotech</td>\n",
       "      <td>4.3</td>\n",
       "      <td>12)</td>\n",
       "      <td>Software company</td>\n",
       "      <td>2003, Silver Business Point, VIP Cir</td>\n",
       "      <td>null</td>\n",
       "      <td>http://www.rajodiya.com/</td>\n",
       "    </tr>\n",
       "    <tr>\n",
       "      <th>838</th>\n",
       "      <td>Kmphitech LLP</td>\n",
       "      <td>4.8</td>\n",
       "      <td>36)</td>\n",
       "      <td>Software company</td>\n",
       "      <td>D-39, Sumeru City Mall, Opp. Krishna Township,...</td>\n",
       "      <td>090813 60241</td>\n",
       "      <td>https://www.kmphitech.com/</td>\n",
       "    </tr>\n",
       "    <tr>\n",
       "      <th>839</th>\n",
       "      <td>Websarjan</td>\n",
       "      <td>5.0</td>\n",
       "      <td>46)</td>\n",
       "      <td>Software company</td>\n",
       "      <td>308, Golden Square, Besides D-Mart</td>\n",
       "      <td>090164 92587</td>\n",
       "      <td>https://www.websarjan.com/</td>\n",
       "    </tr>\n",
       "  </tbody>\n",
       "</table>\n",
       "<p>840 rows × 7 columns</p>\n",
       "</div>"
      ],
      "text/plain": [
       "                                     full_name rating total_ratings  \\\n",
       "0                              Lane 4 Solution    5.0           28)   \n",
       "1                            Neotech Solutions    4.9           19)   \n",
       "2    KamalDhari Infotech - IT Company in Surat    4.5          107)   \n",
       "3              Trimantra Software Solution LLP    4.2           80)   \n",
       "4                              PIXML Solutions    5.0            6)   \n",
       "..                                         ...    ...           ...   \n",
       "835                     JS ENGINEERING CLASSES    4.9           21)   \n",
       "836                     Shreedama Technologies    4.6           17)   \n",
       "837                          Rajodiya Infotech    4.3           12)   \n",
       "838                              Kmphitech LLP    4.8           36)   \n",
       "839                                  Websarjan    5.0           46)   \n",
       "\n",
       "    business_category                                            address  \\\n",
       "0    Software company  B-415, Monarch, Pragati Marg, near Lemon Grass...   \n",
       "1    Software company                   214 Raj Victoria, Opp Raj Arcade   \n",
       "2    Software company  305, Western Arena, Near, Trinity Business Hub...   \n",
       "3    Software company  401-402, 4th Floor, \"STAR WORLD\", Near Green C...   \n",
       "4    Software company                 418, Raj Victoria, New Pal Lake Rd   \n",
       "..                ...                                                ...   \n",
       "835  Education center  B-1203, Ashirwad Heights, Amroli - Kosad Rd, o...   \n",
       "836  Software company  407, Sunshine Complex, Opp CNG Station, Mota V...   \n",
       "837  Software company               2003, Silver Business Point, VIP Cir   \n",
       "838  Software company  D-39, Sumeru City Mall, Opp. Krishna Township,...   \n",
       "839  Software company                 308, Golden Square, Besides D-Mart   \n",
       "\n",
       "            phone                              website  \n",
       "0            null        http://www.lane4solution.com/  \n",
       "1    063573 99944                 http://neotechit.in/  \n",
       "2    063528 12123              https://kamaldhari.com/  \n",
       "3    096247 71699            http://www.trimantra.com/  \n",
       "4    099091 60070                https://www.pixml.in/  \n",
       "..            ...                                  ...  \n",
       "835  090339 50546  https://www.facebook.com/jbshah1992  \n",
       "836  072028 88072            http://www.shreedama.com/  \n",
       "837          null             http://www.rajodiya.com/  \n",
       "838  090813 60241           https://www.kmphitech.com/  \n",
       "839  090164 92587           https://www.websarjan.com/  \n",
       "\n",
       "[840 rows x 7 columns]"
      ]
     },
     "execution_count": 546,
     "metadata": {},
     "output_type": "execute_result"
    }
   ],
   "source": [
    "PS"
   ]
  },
  {
   "cell_type": "code",
   "execution_count": 547,
   "id": "64351c15",
   "metadata": {},
   "outputs": [
    {
     "name": "stdout",
     "output_type": "stream",
     "text": [
      "['Lane 4 Solution', 'Neotech Solutions', 'KamalDhari Infotech - IT Company in Surat', 'Trimantra Software Solution LLP', 'PIXML Solutions', 'Onus Infotech', 'TT Infotech', 'UniQual iTech - Top IT Company in Surat, India', 'Treta Infotech', 'NetSofters LLP', 'Website Development , IT Solutions in Surat - KsItHub', 'TechStaunch Software Solutions Pvt. Ltd.', 'NatRIX Software Private Limited', 'VSI Infotech LLP - Web Application Development and Payment gateway Development Company', 'DAYDREAMSOFT INFOTECH LLP', 'Jemistry Info Solutions LLP®', 'Alita Infotech Pvt. Ltd.', 'i3 Corporation Digital Agency in Surat', 'Triveni Global Software Services LLP', 'Ark Incorporation', 'Software, Website Devloping and Designing', 'Shiv Technologies - Web Development, SEO, mobile app development', 'BroaderAI', 'Potenza Global Solutions', 'NXS Infotech PVT LTD', 'Falcon Solutions', 'Tech Developers', 'OmTec Web', 'Trivia Info IT', 'Pistalix Software Solutions | GST ERP | Web, Android, iOS Development Service Provider', 'Code Wryters', 'Good Old Geek - IT Services', 'Riseonic solution', 'Sky White Infotech Pvt. Ltd. - Website Development & Digital Marketing Company', 'Digifficient Solutions Pvt. Ltd', 'Princhet Infotech', 'Weingenious Technocrats', 'QUIXOM TECHNOLOGY - Surat', 'Premware Services India LLP - AMC, Hardware, Software, Tally Solutions - IT Company in Surat', 'Thomas Software Solutions Pvt. Ltd.', 'V-Link Life Solutions', 'Trinity Software', 'SEO Company in Surat', 'PALSOFT India', 'CodeMax Media', 'Jyoti Technosoft LLP', 'Solippsgroup', 'Pixaloop Solution', 'Kinet Solutions - A Software Development Company', 'The Coding Studio', 'Gujarat IT Solution', 'A-One Computer Classes', 'Shreepad World', 'Techmines Technologies LLP', 'Lariox Technologies', 'Software Developer', 'CoderBabu Infotech', 'HG IT COMPANY', 'Xpert IT Group', 'Varni IT Solutions', 'CodeInfluencer IT Solution', 'Kalindi Softwares', 'Vasundhara Infotech', 'PlanetX Technologies', 'ELaunch Solution Pvt. Ltd. - Website, Mobile App and Software Development Company in Surat', 'Tecksky Technologies', 'Lead Infosoft', 'OptimumBrew Technology LLP', 'Synodica Solutions Pvt. Ltd.', 'DRC INFOTECH', 'KP Mobitech', 'SerialCom InfoTech', 'Optimum Technologies', 'Weenggs Technology', 'Susamp Infotech', 'Raj Infotech', 'Right Way Infotech', 'Optimum Technologies', 'CrawlApps Technologies - Mobile App & Website Development Company in Surat', 'Ecreate Infotech', 'InFicial Infotech Pvt. Ltd.', 'Technozer Solution', 'NETRA TECHNOSYS®', 'Aerocube Technologies', 'apptopper', 'Canopas', 'Pixasoft Infotech™', 'Techlogic Software Services Pvt Ltd', 'Devkrushna Infotech Pvt. Ltd.', 'Brainwaves', 'Keypulse Infotech', 'Cears Infotech', 'Orange Infotech', 'Kriit Technologies Pvt. Ltd.', 'Sysworld Infotech', 'e-Tech Lab', 'eFontos Technology', 'Zeonlabs', 'itabtech infosys', 'ACTOSOFT', 'UpHold Solution | Website Development | Mobile App Development | UI/UX Designs', 'OmRees Technologies', 'CorePixel Technology', 'Hexotix', 'Samp Technologies LLP', 'Athh Technologies LLP', 'WebbyCrown Solutions', 'Cirkle Studio Pvt. Ltd.', 'Astha Technology Solutions Pvt Ltd', 'NH Infosoft- Website Design | Mobile App Development | Digital Marketing', 'LogicGo Infotech LLP', 'Identixweb Pvt Ltd', 'Infrowser Technologies /IT Company In Surat', 'Amreli Tech Pvt Ltd', 'Gujarat IT Solution', 'Sancity Soft Touch Pvt. Ltd.', 'Technonic', 'Spectrum Solutions And Technologies Pvt Ltd', 'Webmasters InfoTech', 'Jipsaan Solution Opc Pvt Ltd', 'WeClocks Technology Pvt. Ltd.', 'Galaxy Infotech', 'Radiiant Technologies', 'GAPSOFT - Android | iOS | Web | SEO | Digital Marketing Service Provider | Internship Training', 'Tekblink Technology', 'VISIONORE', 'Tripta Innovations Private Limited', 'Sassy Infotech Pvt. Ltd', 'Finlogic Technologies India Pvt. Ltd.', 'Vaital Infotech', 'Lansar Business Solutions', 'Infolab Solution', 'Ensure Support Services India Limited', 'GalaxyERP Software Solution', 'Shushraj Technologies', 'Solver solutions GST ERP software company', 'Logitech Service Center', 'X3 Technologies', 'Votiko Solutions PVT. LTD.', 'Shree sai computer world | udhna', 'Punmaram Mobile', 'Digital World Surat (Udhana)', 'Visual Software & Multimedia', 'Surat Social Fly', 'Drives Solution And Automation', 'Corporate Solutions', 'Inoweave / Dijitex', 'SLS Research Private Limited', 'NJ India Invest Private Limited', 'Virnit Automation', 'Viishnu Lohar - The Designer', 'UNICO Trading Company', 'Cosmic Energy and Engineering', 'Bada Business Dhiraj singh ibc', 'Perfect Naukari', 'S.P. Engineering', 'EnviroChem Services (OPC) Pvt. Ltd.', 'Alert Security Guard Service - Security Company/Security Service For Industries/Security Service/Top Security Agency in Surat', 'Divine Spring Company', 'SURATi iLAB', 'Alidhra Weavetech Group', 'Dakshin Gujrat Vij Company Udhana - 1 Sdn', 'OCEAN ELEVATORS |LIFT MANUFACTURER COMPANY | LIFT MAINTENANCE COMPANY IN SURAT |', 'OCTA FAB WORLD', 'Akshar Automobile', 'StartingStar Solutions', 'Icc Bldg', 'Surat Training', 'KamalDhari Infotech - IT Company in Surat', 'VPN INFOTECH - Top Rated IT Company in Surat India', 'Narola Infotech', 'SNK IT Solutions', 'Website Development , IT Solutions in Surat - KsItHub', 'iRoid Solutions - Best IT company in India | Android & iOS App Development', 'UniQual iTech - Top IT Company in Surat, India', 'Unity Technology - Business IT Solutions', 'Solwin Infotech', 'Casepoint Pvt. Ltd.', 'Crest Infosystems Pvt. Ltd.', 'Narayan Infotech', 'Forefront Infotech', 'Netizens Technologies', 'Sarvadhi Solutions Private Limited', 'Digifficient Solutions Pvt. Ltd', 'EÓON Tech', 'Ebizz Infotech', 'Tecocraft - Software development company | Android & iOS App Development', 'Techomark Pvt. Ltd.', 'EÓON Tech', 'DecodeUp', 'Techomark Pvt. Ltd.', 'Android Developer', 'TRooTech Business Solutions Pvt. Ltd. - Surat', 'Pistalix Software Solutions | GST ERP | Web, Android, iOS Development Service Provider', 'MacyMind', 'Ebizz Infotech', 'Differenz System India', 'Jaimini Software', 'Rang Infotech', 'Avinashi Computer', 'Logix Built Infotech', 'QUIXOM TECHNOLOGY - Surat', 'Cloudpixel Infotech - Web Design, SEO, Mobile Apps Development', 'VBinfotech - Web designing, Web development, Mobile app development, training center', 'Vivid Web Solutions', 'OmTec Web', 'Syncji Technology', 'Galaxy technologies', 'Zluck Solutions', 'Appalon Web Zone', 'Loopbots Technology', 'Trinity Software', 'Softech Marketing', 'Leocan Technologies', 'Khushroo (Software Solutions)', 'Catch Craft Technologies Pvt Ltd', 'Micro Computer', 'Varshaa Weblabs', 'Codewinz Technology Pvt Ltd', 'SEO Company in Surat', 'Liopix Pvt. Ltd.', 'Smegenys', 'Thomas Software Solutions Pvt. Ltd.', 'XSQUADS Tech Private Limited', 'Comptech', 'IT Quick Solution', 'Websarjan', 'Dotmagic Infotech', 'pointer it solution', 'Ashray infotech', 'Rise On Technologies', 'Sicilia Infosoft', 'Prime Technosoft', 'Webito Infotech - Application, Website and Software Development Company', 'Android App Development Company surat', 'Exomoon Infotech', 'Carbondots - App development & digital marketing company', 'D&K Group', 'Buildup Infotech', 'Xitij Infotech', 'Mahadev Software Labs', 'Sahajanand Infotech', 'Mahardhi Technologies', 'Shreedama Technologies', 'Zenex Solutions', 'WEB11', 'Sarvadhi Solutions Private Limited', 'Opula Software', 'Exomoon Infotech', 'Cuota Infotech', 'Hiolty Infotech', 'Herryz Infotech', 'Mahadev Software Labs', 'CretWeb Infotech', 'ByteFum', 'Webunity Infotech', 'Shreedama Technologies', 'Tagadiya Infotech | Web and App Development Company | Custom Software Development Company | Digital Marketing Services', 'information technology', 'Brainbinary Infotech - Mobile App & Website Development Company in Surat', 'AppByte Group', 'Rain Infotech Private Limited | Web & App Development', 'Webmigrates Technologies', 'Skyllect Private Limited', 'Omeecron Solutions', 'Keylogic Infotech Private Limited', 'Aarvi Technology', 'Spirit Infotech', 'Wobble Technologies', 'Softices Consultancy Pvt Ltd', 'Revonta Infotech', 'HMR Technologies', 'Crayon solution', 'Cipherhex Technology', 'D2 WEBTECH', 'Ethnic Infotech', 'Equipo technologies', 'vaghasiya infotech', 'OOZEE Technologies', 'Wearscode', 'Nsb It Solution', 'Smart Nenotech - Software Developer Surat, Gujarat, India.', 'GLOBAL SHAKTI IT INDIA PRIVATE LIMITED.', 'GATISOFTTECH', 'M iT Solutions', 'AheBiya IT Solutions', 'Fenil IT Solutions', 'Ebizzinfotech', 'Silicon Leaf Corporation', 'Coral Infosystems', 'Pulse Solutions - Surat', 'CoderKube Technologies', 'Parghi Infotech', 'MTZINFOTECH', 'Digitattva Technolabs Surat ODC', 'WOOBICSS IT SOLUTIONS', 'Chanakya Accounting Software', 'The Ocean Studios - Website Developer company in Surat', 'Digital Dream Technosys', 'Elite Infoway', 'I2TE [Institute of Information Technology And Education]', 'Elite Technocrats', 'Varee Infotech', 'Veer Infotech', 'VALUE Software', 'Yew Technologies', 'Adaptable Services', 'SoftWebPOS', 'Mascot Technology Solutions', 'Sun Technologies', 'TECH NEMJI', 'CPS Technologies Nanpura', 'Website Developers in Surat - SEO Company in Surat - Digital Marketing Company in Surat - ICED Infotech', 'Arihant Infoware Private Limited', 'ForEachNext - Website Development, Digital Media, UI/UX Design, Digital Solutions', 'CodeX Lancers', 'Surat Hub', 'Fraxinus IT Solutions', 'Rigel Networks Pvt Ltd', 'Prism I.T. Systems - Web Development | App Development | Web Designing', 'Shree Infosystem A Google Cloud Partner', 'Quantum Corporation - Computer / Laptop Shop', 'Innovative Telecom & Softwares Private Limited', 'Amity Infosoft Pvt Ltd', 'Shreeji Computer Consultancy', 'Blue Chip Technologies', 'Labdhi Infocom', 'KamalDhari Infotech - IT Company in Surat', 'MIPS INFOSYS', 'Computronix Infotech Private Limited', 'Hashtag Infosystem', 'We Care IT & Web Solutions', 'Trion IT Solutions', 'Robostash pvt.ltd', 'I T Wala Technologies', 'Maxim Solution', 'TechVizor - Leading IT Company In Surat', 'Graphionic Infotech', 'Vetron Consultancy Services', 'Daddys Code', 'Brighten Solutions Pvt Ltd', 'Dominant Infotech', 'Key Concepts', 'Ray Tech - Trading ERP & Manufacturing ERP', 'EnactOn Technologies Private Limited', 'Ducem Technologies Pvt. Ltd. - HR Payroll Software | Software Solution', 'Premware Services India LLP - AMC, Hardware, Software, Tally Solutions - IT Company in Surat', 'Inkey IT Solutions Pvt. Ltd.', 'Synkrama Technologies', 'Smarty Pants Technologies', 'Zillion Infotech', 'Pixaloop Solution', 'Technotech India', 'WebTact Solutions', 'Foogle Tech Software', 'MrgroupTech', 'Foogle Tech Software', 'MrgroupTech', 'VC ERP Consulting Pvt. Ltd. - Surat 2', 'TekGrid Consulting Services Pvt. Ltd.', 'Tryon InfoSoft', 'MindGears Technologies', 'Logical Loop', 'SONAMBIKA AUTOCHEMIT SERVICE PRIVATE LIMITED', 'Bytesun Softwares Pvt Ltd', 'ATISHAE Web Private Limited', 'Propelius Technologies', 'Smartboard™', 'Otobit Private Limited', 'Swoovi innovations Pvt Ltd', 'August Infotech', 'TechQSoft', 'Classy Technosoft', 'GoUp Technologies', 'LOTUS ECOMMERCE PVT. LTD.', 'Elemensis Softech LLP', 'ananya it solution', 'Helsy Infotech Private Limited', 'Pure iPOS', 'ITficial - Website Developer & App Developer.', 'Codes Technology - Best Software Development Company in Surat - Top IT Companies in Surat', 'EfficPro Consulting & M L Shah & Co. Chartered Accountants', 'Biz-Insights IT Solutions', 'Creative Digital Marketing Agency in Surat - CodePanda Technologies', 'Technowebster IT Solutions', 'Dreamgenix IT Solutions', 'Suratwale.com |Google Digital Marketing SEO Agency Company in Surat|', 'WebPerform | A Digital Marketing Company In Surat', 'Decent Technologies', '🏆 Kyoro Digital Tech Pvt. Ltd. - #1 Website Designer in Surat | E-commerce Website Expert', 'coreangle website development and application development surat', 'Codeshelf Technology', 'Hashcrypt Technologies Pvt. Ltd. - IT Company Surat', 'vnbtechnologies', 'Coruscate IT Solution', 'Yami it solutions Pvt Ltd', 'Software company', 'Spyhunter IT Solution', 'Keypress IT Services', 'JN Softech', 'Microcode Infotech', 'Alphapix Infotech', 'Sailwin Software Solutions', 'Frontlink Technology', 'Minimal Solution', 'CodeSpect solution', 'ITCoders', 'SCC INFOTECH LLP', 'Vatrada Infotech', 'KG Krunch Solutions', 'Krunal Savaliya', 'Mobile Apps Development Company - Kartum Infotech', 'SCC INFOTECH LLP', 'Globalia Soft LLP', 'Hit Infotech LLP', 'KG Krunch Solutions', 'Highsense Infotech', 'Mobile Apps Development Company - Kartum Infotech', 'Iframe Infotech | Website Design And Website Development Company in Surat', 'DigiCorp Technologies', 'Marquee Solution', 'Dreamleo Business Solutions', 'TeamOpine Solutions', 'WebXpress - Logistics Software Company', 'Whyphy Infotech', 'Beyond Digitate', 'MicraSol LLP', 'Syphnosys Technology Private Limited', 'Morpich Design LLP & Institute', 'Origininfotech', 'laxicon solution', 'ZeroneSys', 'Raksh Group', 'Braincord Solution', 'Creative Web Infotech', 'Brighthecs Infotech', 'Appretive', 'Creative Solution LLC', 'Simba Infotech', 'ZION ENTERPRISE', 'iTechCloud Solution Pvt Ltd', 'Delémont Studio', 'Tagadiya Infotech | Web and App Development Company | Custom Software Development Company | Digital Marketing Services', 'Asteam Techno Solutions Pvt. Ltd.', 'Supro Info Solutions Pvt Ltd', 'Clever Infotech', 'Websarjan', 'Vocsy Infotech', 'VSTechno Infosys', 'MP IT SPACE', 'Wooper Infotech | IT Company & Training Institute | Android & Web Development Company In Yogi-Chowk Varachha', 'DigiCorp Technologies', 'SLB IT SOLUTIONS PRIVATE LIMITED', 'Kartum Infotech', 'Webs Developer India', 'Varnitech Infosoft Private Limited', 'Shreethemes - IT Company in Surat', 'Dreamvision Infotech', 'Blackbird', 'Rainloops Technolabs', 'Highsense Infotech', 'INFO', 'Awesomedream Infotech PVT. LTD', 'Hit Infotech LLP', 'Beyond Digitate', 'Syphnosys Technology Private Limited', 'Chiyon Technology', 'KD Web Solution', 'SSVL Technologies', 'Soft-Navigator', 'Armani Software', 'mrwebzone infotech', 'Kurm Infotech', 'Invints Infotech LLP', 'Maruti InfoSoft', 'Codeline Infotech', 'InfoZen Technologies', 'Corlogix Infotech', 'Cipher Infotech', 'Trivia Solution -The First EMI based web development company in India', 'MicraSol LLP', 'Empiric Infotech LLP', 'Raksh Group', 'ZeroneSys', 'Globalia Soft LLP', 'Einfach Infotech', 'xyz infotech', 'Creative Web Infotech', 'Dreamleo Business Solutions', 'laxicon solution', 'Skylax Infotech', 'Jakobin Technologies', 'ELITECORE WEB SOLUTION', 'Qsek Solutions', 'Webvolty It Solution', 'Vopify Solutions', 'It Service And Soluction in Surat', 'UPSWING Web Solution', 'Webscal Technologies Pvt Ltd', 'Nilkanth technology', 'JUHI INFOTECH - IT COMPANY | ANDROID DEVELOPMENT SERVICES', 'Developer Infotech', 'Eratech Solutions', 'Luxoft Infotech', 'WebCrypto It Solution', 'NexCod Infotech - Web Development , Android & iOS App Development Company in Surat', 'Atologist Infotech', 'Opus Technologies Surat', 'Web Informatic Software Solution.', 'Aurro Tech', 'Wings On Cloud Technology', 'Pearl Solutions', 'Website Development , IT Solutions in Surat - KsItHub', 'Codes Technology - Best Software Development Company in Surat - Top IT Companies in Surat', 'Corona Infotech LLP - IT Company in Surat', 'Gujarat IT Solution', 'HP World', 'CloudZSoft IT Solutions', 'SEO, Web Design & Development Company Surat, India (Fraction Solutions)', 'VSI Infotech LLP - Web Application Development and Payment gateway Development Company', 'Smart Nenotech - Software Developer Surat, Gujarat, India.', 'Infrowser Technologies /IT Company In Surat', 'Webjolt soft infotech', 'Go Digital Technology / Google Map Street View Trusted / 360 Virtual Tour', 'Infrowser Technologies /IT Company In Surat', 'Webjolt soft infotech', 'Pistalix Software Solutions | GST ERP | Web, Android, iOS Development Service Provider', 'Codewinz Technology Pvt Ltd', 'Gurukul Training and Consultancy', 'Website Developers in Surat - SEO Company in Surat - Digital Marketing Company in Surat - ICED Infotech', 'ForEachNext - Website Development, Digital Media, UI/UX Design, Digital Solutions', 'Roar Group Hospitality', 'Next & Co | Web Development company | Digital Marketing Agency In Surat | IT Company Surat', 'Foxscode Infotech:Seo,Digital Marketing,Web Design,It Company In Surat', 'CloudZSoft IT Solutions', 'Modi Software Solutions Pvt. Ltd.', 'Codonnier Solutions - Expert in Website and Mobile app development', 'Softlomo Software Solutions', 'SEO Company in Surat', 'Cloudprovidder IT Solutions', 'Socialistaa - Social Media Marketing Agency', 'Getspace - Domain | Web Hosting | Web Design | Social Media Management - Best in Surat', 'Shiv Technologies - Web Development, SEO, mobile app development', 'Android Developer', 'Ddeveloper', 'Wooper Infotech | IT Company & Training Institute | Android & Web Development Company In Yogi-Chowk Varachha', 'Acodesoft Technologies', 'Webiots Technologies', 'Software, Website Devloping and Designing', 'Bcube Solutions', 'TechQSoft', 'Apex Software House surat', 'TAXFILE INVOSOFT PVT LTD', 'Codigo IT solution', 'Helixwebi Web Designing Company', 'Codelytical - Ecommerce Website Development, Social Media Marketing Services', 'Wearobee Infotech - Digital Marketing Services, SEO Services Company, Surat, India', 'Android App Development Company in Katargam | Web2tech Solutions', 'Qodors Technologies', 'Website design company in surat | website development gujarat', 'Aistro IT Solution', 'Codes Technology - Best Software Development Company in Surat - Top IT Companies in Surat', 'Insightsoftware', 'WebbyGenius Infotech Pvt. Ltd.', 'EnactOn Technologies Private Limited', 'Doc2Doors Technologies Private Limited', 'Codebrain Infotech', 'Ciphernutz IT Services', 'SoftSense Technologies Pvt. Ltd.', 'JSbot.io', 'Logicwind', 'Freelance Web Designer, Surat - Priyank Shah', 'SailFin Technologies Pvt. Ltd ( Surat )', 'Embtel Solutions', 'Premware Services India LLP - AMC, Hardware, Software, Tally Solutions - IT Company in Surat', 'Pixaloop Solution', 'TechVizor - Leading IT Company In Surat', 'KamalDhari Infotech - IT Company in Surat', 'CPS Technologies Piplod Surat | Buy Laptop/Computer/Printer & Repairing Center.', 'Pinetco India', 'Pinetco India', 'Globelink Techservices OPC Pvt. Ltd.', 'Mphere | E-commerce service and website designer & development company in surat.', 'R. Vaghasia Management Pvt. Ltd.', 'Clegonic International | Digital Marketing Agency & Website Designing Company in Surat', 'TechQSoft', 'Decorence Ltd.', 'Ghalib And Company', 'Longswitch Software Solutions Private Limited', 'Ethics Group of Companies', 'Netsol IT Solutions Pvt. Ltd.', 'Corona Infotech LLP - IT Company in Surat', 'Codebit Technology', 'Next & Co | Web Development company | Digital Marketing Agency In Surat | IT Company Surat', 'Birju Chandravadan Patel', 'TechStaunch Software Solutions Pvt. Ltd.', 'Team 360 Turnkey Projects LLP', 'Codonnier Solutions - Expert in Website and Mobile app development', 'Gradeazy', 'ITficial - Website Developer & App Developer.', 'Foxscode Infotech:Seo,Digital Marketing,Web Design,It Company In Surat', 'Pistalix Software Solutions | GST ERP | Web, Android, iOS Development Service Provider', 'Ionics Web Solutions', 'Smart Nenotech - Software Developer Surat, Gujarat, India.', 'Infrowser Technologies /IT Company In Surat', 'IIDGR', 'Whitelion | Smart Switches In India, Gujarat', 'Solippsgroup', 'InnovSeed - DiaBot - Manufacturer of Automation Technology for Processing Rough Diamonds', 'INPL', 'Gujarat IT Solution', 'Lenovo Exclusive Store - CPS Technologies', 'SOCH Business Mentors LLP', 'ELaunch Solution Pvt. Ltd. - Website, Mobile App and Software Development Company in Surat', 'NeeaSoft IT Services Pvt.Ltd', 'ICON BUSINESS HUB', 'Bluesoft IT Solution', 'Nexus Infotechno Inc', 'ATS Software Solution', 'The Hyper Tech', 'IT Codes', 'Convants™ : Software Company In Surat.', 'Web Ashlar', 'Future Vision Computer instutute - citylight', 'Nitesh Khawani- Entrepreneur at Business at Rise Infotech', 'KONCEPT CLOUD PVT. LTD.', 'Logo Design', 'Dhruv Solutions -Best Digital Marketing company in Surat -Advertising agency in Surat', 'ARENA ANIMATION', 'Jmmweb-India', 'sairam computers', 'TechVizor - Leading IT Company In Surat', 'Maxiple', 'The digital crazy', 'BRANDAGE MEDIA CO.', 'Citylight Complex', 'iSolution®', 'Ascon City', 'Digital Marketing Surat', 'APPLE MOBILE SOLUTION', 'Raghuvir Developers & Builders', 'The santa clothes', 'HDFC Life', 'V CORPORATE SERVICES', 'BYTE COMPUTERS BCA TUITION CLASSES ( BSCIT / BSCCS / DIPLOMA / PROJECT FOR FINAL SEMESTER)', 'Absolute Sound', 'NATUROPROTECT', 'Tata Capital', 'Swastik Heights', 'The Zoroastrain Co-Operative Bank Limited - Athwa', 'City Light Town', 'Lenskart.com at City Light, Surat', 'Meghsarman Apartment', 'City Light Shopping Center', 'Zudio - Surat, New City Light', 'Padma Kruti Apartment', 'MBA CHAI WALA SURAT', 'Om Terrace', 'Arjav Apartment - આર્જવ એપાર્ટમેન્ટ', 'c 1201 KPM RESIDENCY opp. Chandan park society( city light )', 'THE MAGNATE PROJECTS', 'Jaquar Orientation Centre', 'deseorg services pvt.ltd.(IELTS,TOEFL,STUDENT VISA ,BUSINESS VISA ,GERMAN LANGUAGE TRAINING,VISA CONSULTANT,FRANCE,UK,CANADA)', 'Trishiv Cafe & Resto (Citylight)', 'The Textile Co-Oprative Bank Of Surat Limited', 'Ashirwad Park', 'Amidhara Apartment - અમીધારા એપાર્ટમેન્ટ', 'Devkrupa Apartments', 'Surya Complex', 'The Surat Peoples Co Operative Bank Limited - City Light Branch', 'Votiko Solutions PVT. LTD.', 'HDFC Home Loans - SURAT (CITY LIGHT)', 'Coruscate IT Solution', 'Hashcrypt Technologies Pvt. Ltd. - IT Company Surat', 'Frontlink Technology', 'Yami it solutions Pvt Ltd', 'Themes Brand - IT Company in Surat', 'Delegate Solution', 'Riseup Infotech', 'ColdFusion Infotech', 'InfoWeb Software', 'Syncwell Software Technology Pvt. Ltd.', 'TeamOpine Solutions', 'Sovereign Infotech', 'SCC INFOTECH LLP', 'ITCoders', 'Thritive Infotech', 'Kisna Infotech', 'Software company', 'Arrik Tech Team', 'RamaniSoft Solutions PVT.LTD.', 'WebXpress - Logistics Software Company', 'Creative Solution LLC', 'KG Krunch Solutions', 'Minimal Solution', 'Appretive', 'Albetrios', 'Spacehash', 'Secure Techno Web', 'Vocsy Infotech', 'Brighthecs Infotech', 'Simba Infotech', 'The Webismart', 'JSP DEVELOPERS PVT LTD', 'Morpich Design LLP & Institute', 'Sourcenet IT Service Provider (P) LTD.', 'Delémont Studio', 'SARTHANA BUSINESS HUB', 'Planics Dev', 'Clever Infotech', 'Princess', 'Simba', 'WinApp Technologies', 'Satvbiz Academy', 'HP World', 'Red & White Multimedia Education - Sarthana', 'Sourcenet IT Service Provider (P) LTD', 'Krivi Infotech', 'PATEL COMPUTER', 'Lenovo Exclusive Store - I T Wala Technologies', 'Dell Exclusive Store - Varachcha Main Road, Surat', 'Maya Mediaworks', 'A N Jayani CA & Co.', 'Millennium Business Hub', 'Nilkanth Associates & Co.', 'Madhav Enterprise ( Solution Spark Energy) Corporate Office 🏢', 'The Braket B', 'Trikal Solar Energy Pvt', 'Keypress IT Services', 'Origininfotech', 'Niqox', 'Whyphy Infotech', 'MineArt Solution', 'SpecScale', 'WhiteCore Technology LLP', 'Cuelix', 'Hashcrypt Technologies Pvt. Ltd. - IT Company Surat', 'Kisna Infotech', 'Bitbitz Code LLP', 'JUHI INFOTECH - IT COMPANY | ANDROID DEVELOPMENT SERVICES', 'Stripe Technologies', 'Luminous Technologies', 'Web Designer', 'Frontlink Technology', 'Cyberworld', 'Narola Infotech', 'Metronics Technical Hub', 'Software company', 'LB Techno', 'Android App Development Company surat', 'SEAL Technologies (SUPERSAFE)', 'Mee infotech', 'Rtel Internet Services Pvt Ltd.', 'CrgTj Computer & CCTV Solutions', 'RK CCTV Camera and Computer Center', 'Shree Hari Web & Graphics', 'Aim Technologies', 'ORA Techno labs and Institute', 'Green Leaf Industries', 'Equipo technologies', 'PATEL COMPUTER', 'world class electronics', 'Gajeradiz.com', 'Swaminarayan Green City', 'Surat Transformer', 'Khodal Drives and Automation', 'Dev Care', 'Delta Hedging', 'GTPL KAMREJ', 'it_hub_4', 'Aim Technologies', 'Portim Consumer Product Pvt. Ltd', 'Orien Technology', 'Ved International Company', 'COMPUTEX IT SOLUTION', 'Bluestone Infotech', 'Software Company', 'Shivdhara Group', 'BSNL Telephone Exchange & Aadhar seva Kendra', 'VD Exporter - Best Exporter Company in india', 'LIMBASIYA EXIM PRIVATE LIMITED', 'Treasure of food', 'LG Best Shop-Maruti sales & marketing', 'Amba Luxuria', 'Sumras IT Solutions', 'GULF SERVICES -IT', 'The PIN IT solutions pvt. ltd.', 'Apollo Tech Solution', 'Amex Technologies', 'TechOcean', 'Teqnum solution', 'Ambaliya Infotech', 'Savani IT Services', 'AlphaVed', 'Identify Technosys', 'DG Techsol Ltd. | Web-Developer', 'Shakti Websolution', 'TweakDesigns', 'TeqGenius', 'Data Doctor IT Consultancy', 'Across Infotech', 'As a developer', 'VISION WELL SECURITY SYSTEM CCTV & COMPUTER', 'P. C. Jain & Company', 'Lathiya Web Solutions', 'Bluewingz - DMS - Automobile Software - Surat', 'VISION WELL SECURITY SYSTEM CCTV & COMPUTER', 'Swandeal', 'Pharmochi', 'Sarvam IT Solution', 'IT-Hardware & Networking Soultions', 'SoftStorm Technosys Pvt. Ltd.', 'rising earning', '3 Desire Networks & Solutions India Pvt. Ltd.', 'Alcance Design', 'Dignizant Technologies LLP', 'Brijesh Tarpara Web Designer', 'Rudra IT Technology', 'MG SOLUTIONS', 'GLOBAL INFOCARE', 'VELOCIS COMPUTER & SPOKEN ENGLISH IN AMROLI', 'Think Info Services', 'Rahul Computers', 'PC Point Computer & CCTV', 'itabtech infosys', '3ni infotech', 'DATANOMIA PRIVATE LIMITED', 'The Owl Media - Digital Marketing Services', 'Hexotix', 'TechMates Solutions', 'StackApp Infotech', 'OmRees Technologies', 'Universe Computer Sales N Service', 'D&K Group', 'Gruham Empire', 'JS ENGINEERING CLASSES', 'Shreedama Technologies', 'Rajodiya Infotech', 'Kmphitech LLP', 'Websarjan', 'null', 'null', 'null', 'null', 'null', 'null', 'null', 'null', 'null', 'null', 'null', 'null', 'null', 'null', 'null', 'null', 'null', 'null', 'null', 'null', 'null', 'null', 'null', 'null', 'null', 'null', 'null', 'null', 'null', 'null', 'null', 'null', 'null', 'null', 'null', 'null', 'null', 'null', 'null', 'null', 'null', 'null', 'null', 'null', 'null', 'null', 'null', 'null', 'null', 'null', 'null', 'null', 'null', 'null', 'null', 'null']\n"
     ]
    }
   ],
   "source": [
    "print(full_name)"
   ]
  },
  {
   "cell_type": "code",
   "execution_count": 548,
   "id": "0cb10e94",
   "metadata": {},
   "outputs": [
    {
     "name": "stdout",
     "output_type": "stream",
     "text": [
      "['5.0', '4.9', '4.5', '4.2', '5.0', '4.9', '5.0', '5.0', '5.0', '5.0', '4.7', '4.9', '4.8', '4.6', '4.7', '4.9', '4.9', '4.8', '4.6', '4.8', '4.0', 'null', '4.8', '4.0', '5.0', '4.7', '5.0', '5.0', '4.9', '4.2', '5.0', '5.0', '5.0', '4.9', 'null', '5.0', '4.9', 'null', '4.9', 'null', '5.0', '5.0', '5.0', '4.8', '4.7', '4.8', '5.0', '5.0', 'null', '4.4', 'null', '4.9', 'null', '4.6', '5.0', '5.0', '5.0', 'null', '4.0', '4.4', '5.0', '4.5', '4.6', '4.2', '4.4', '4.6', '4.3', '4.5', '5.0', '4.1', '4.6', '4.7', '5.0', '4.6', '4.9', '5.0', '5.0', '5.0', '4.8', '4.8', '5.0', '4.3', '4.4', '5.0', '3.0', '4.9', '4.6', '5.0', '4.5', '4.6', '5.0', '3.7', 'null', '4.9', '4.3', '5.0', '5.0', '5.0', '5.0', '5.0', '4.7', '5.0', '5.0', '4.9', '5.0', '5.0', '5.0', '4.6', '4.8', '4.7', '4.8', '4.8', '5.0', '4.5', 'null', '3.5', '5.0', '4.4', '4.6', '3.8', '4.9', '4.8', '4.1', '5.0', '4.7', 'null', '4.8', '4.4', '4.3', '4.6', '4.6', '4.6', '3.4', 'null', '5.0', 'null', '3.9', '4.7', '4.8', '4.9', '3.3', '4.0', '4.5', '5.0', '4.1', 'null', '4.8', '4.9', '4.2', '4.9', '4.8', '3.8', '4.4', 'null', '3.0', '4.9', '4.7', '4.0', 'null', '4.6', '4.5', '1.8', '4.2', '4.0', '4.6', '4.2', '5.0', '4.9', '4.5', '4.6', '4.3', '4.6', '4.7', '4.9', '5.0', '5.0', '4.2', '4.5', '4.6', '4.8', '4.5', '4.7', '4.8', 'null', '5.0', '4.4', '4.8', '5.0', '5.0', '4.7', '5.0', '4.0', '5.0', '4.2', '5.0', '4.4', '4.5', '4.3', '4.8', '1.0', '4.8', 'null', '5.0', '4.7', '3.8', '5.0', '5.0', '3.1', '4.9', '5.0', '4.7', '5.0', 'null', '4.8', '4.0', '4.5', '5.0', '3.7', 'null', '5.0', '4.2', '5.0', 'null', '4.8', '4.9', '5.0', '5.0', '5.0', '4.8', '5.0', '5.0', '4.0', '4.8', '4.9', '4.8', '4.8', '', '4.2', '5.0', '4.8', '4.1', '5.0', '4.1', '4.6', '5.0', '4.6', '4.4', '4.2', '4.8', '', '', '5.0', '4.1', '5.0', '5.0', '4.5', '4.6', '4.8', '', '5.0', '', '4.8', '4.4', '5.0', '4.3', '4.9', '4.8', '5.0', '5.0', '4.9', '5.0', '5.0', '4.6', '4.8', '5.0', '5.0', '5.0', '', '4.4', '', '4.6', '4.0', '', '4.4', '4.9', '5.0', '', '', '4.5', '5.0', '4.4', '4.6', '3.8', '5.0', '4.1', '', '3.8', '4.9', '5.0', '5.0', '4.8', '4.6', '', '3.4', '4.4', '4.9', '4.8', '5.0', '4.4', '4.9', '5.0', '4.3', '4.9', '4.8', '5.0', '5.0', '3.3', '', '5.0', '5.0', '4.9', '4.9', '4.2', '4.6', '4.2', '5.0', '3.8', '4.5', '4.2', '4.7', '3.5', '', '', '', '4.9', '4.9', '4.8', '4.6', '4.9', '4.4', '4.8', '4.1', '4.2', '4.8', '5.0', '4.6', '4.9', '4.4', '5.0', '5.0', '', '5.0', '4.3', '5.0', '5.0', '4.7', '5.0', '4.7', '', '5.0', '4.9', '5.0', '4.9', '', '3.8', '5.0', '5.0', '', '5.0', '', '4.5', '5.0', '4.6', '4.9', '', '5.0', '3.5', '4.9', '', '4.9', '5.0', '5.0', '5.0', '4.9', '5.0', '5.0', '4.9', '4.9', '4.8', '4.6', '5.0', '', '', '5.0', '5.0', '4.7', '', '5.0', '4.7', '5.0', '5.0', '5.0', '5.0', '4.9', '5.0', '5.0', '5.0', '4.7', '5.0', '5.0', '5.0', '5.0', '4.7', '4.3', '5.0', '5.0', '4.9', '5.0', '5.0', '4.8', '5.0', '5.0', '5.0', '4.5', '4.5', '4.6', '4.7', '4.4', '4.4', '5.0', '5.0', '4.7', '4.8', '5.0', '4.2', '5.0', '4.9', '4.9', '4.6', '5.0', '4.9', '5.0', '4.8', '5.0', '3.0', '4.6', '5.0', '5.0', '4.9', '', '5.0', '4.8', '5.0', '4.7', '', '4.7', '5.0', '4.5', '', '3.0', '4.9', '', '5.0', '5.0', '4.6', '4.4', '', '5.0', '4.8', '', '', '5.0', '5.0', '4.8', '5.0', '4.9', '5.0', '', '3.7', '5.0', '4.7', '5.0', '4.8', '4.7', '4.3', '5.0', '', '4.2', '5.0', '5.0', '4.6', '', '4.8', '4.9', '5.0', '5.0', '', '5.0', '5.0', '4.9', '5.0', '4.2', '5.0', '', '5.0', '4.8', '4.4', '4.5', '5.0', '5.0', '4.1', '5.0', '4.7', '5.0', '4.8', '', '4.6', '5.0', '5.0', '4.6', '4.0', '5.0', '5.0', '4.6', '5.0', '5.0', '4.2', '', '4.5', '4.9', '5.0', '5.0', '', '', '5.0', '5.0', '5.0', '5.0', '5.0', '5.0', '4.7', '4.8', '', '4.0', '5.0', '5.0', '4.6', '4.3', '4.0', '4.7', '5.0', '4.8', '5.0', '', '4.1', '5.0', '4.7', '', '4.9', '', '4.3', '5.0', '4.2', '4.1', '5.0', '5.0', '4.8', '5.0', '5.0', '4.8', '4.6', '4.0', '4.6', '4.3', '4.9', '5.0', '4.8', '4.5', '4.3', '5.0', '5.0', '4.5', '5.0', '5.0', '4.9', '5.0', '', '4.2', '5.0', '5.0', '4.4', '4.8', '5.0', '', '5.0', '4.9', '4.8', '5.0', '4.8', '4.9', '', '4.2', '4.1', '4.0', '5.0', '4.6', '4.9', '5.0', '3.4', '5.0', '', '4.8', '4.4', '4.4', '4.6', '4.5', '5.0', '4.5', '5.0', '5.0', '4.8', '4.5', '3.9', '4.8', '4.4', '4.7', '4.7', '5.0', '4.9', '', '3.0', '4.8', '4.9', '4.9', '5.0', '3.8', '4.2', '3.9', '4.0', '4.8', '4.6', '5.0', '4.1', '4.6', '4.9', '5.0', '4.9', '5.0', '', '', '', '4.7', '4.2', '3.9', '4.2', '4.3', '4.1', '5.0', '4.1', '4.2', '4.7', '4.2', '5.0', '3.6', '3.7', '4.3', '3.9', '4.0', '4.1', '4.6', '4.8', '3.4', '5.0', '', '4.9', '4.7', '4.8', '4.0', '4.3', '5.0', '', '5.0', '5.0', '5.0', '4.7', '5.0', '5.0', '5.0', '', '5.0', '5.0', '4.5', '4.9', '5.0', '5.0', '4.9', '5.0', '5.0', '5.0', '5.0', '5.0', '4.6', '5.0', '', '4.4', '5.0', '5.0', '5.0', '', '4.6', '', '5.0', '4.9', '4.9', '4.8', '4.8', '', '5.0', '5.0', '4.9', '4.5', '4.9', '5.0', '4.9', '5.0', '4.9', '', '4.9', '4.7', '5.0', '5.0', '4.5', '', '4.7', '5.0', '', '', '5.0', '', '5.0', '', '', '', '4.9', '5.0', '4.3', '4.5', '', '', '4.8', '2.0', '', '4.0', '', '4.6', '5.0', '', '4.9', '5.0', '5.0', '5.0', '4.4', '4.0', '4.2', '4.8', '', '4.8', '5.0', '2.3', '', '', '4.9', '', '4.7', '4.5', '5.0', '', '4.7', '4.0', '5.0', '5.0', '5.0', '4.4', '4.8', '4.6', '', '5.0', '', '5.0', '5.0', '', '5.0', '4.6', '5.0', '5.0', '5.0', '4.9', '5.0', '5.0', '4.5', '4.9', '', '5.0', '', '4.6', '5.0', '5.0', '', '', '', '5.0', '4.8', '', '4.2', '5.0', '4.7', '4.8', '5.0', '5.0', '5.0', '4.6', '5.0', '5.0', '4.0', '5.0', '4.7', '5.0', '5.0', '4.9', '4.9', '4.9', '5.0', '5.0', '4.2', '4.4', '4.9', '4.6', '4.3', '4.8', '5.0', 'null', 'null', 'null', 'null', 'null', 'null', 'null', 'null', 'null', 'null', 'null', 'null', 'null', 'null', 'null', 'null', 'null', 'null', 'null', 'null', 'null', 'null', 'null', 'null', 'null', 'null', 'null', 'null', 'null', 'null', 'null', 'null', 'null', 'null', 'null', 'null', 'null', 'null', 'null', 'null', 'null', 'null', 'null', 'null', 'null', 'null', 'null', 'null', 'null', 'null', 'null', 'null', 'null', 'null', 'null', 'null']\n"
     ]
    }
   ],
   "source": [
    "print(ratings)"
   ]
  },
  {
   "cell_type": "code",
   "execution_count": 549,
   "id": "7e0e3bb9",
   "metadata": {},
   "outputs": [],
   "source": [
    "PS.to_csv('it_company_surat1.csv')"
   ]
  },
  {
   "cell_type": "code",
   "execution_count": null,
   "id": "22f43235",
   "metadata": {},
   "outputs": [],
   "source": []
  },
  {
   "cell_type": "code",
   "execution_count": null,
   "id": "ed5377cd",
   "metadata": {},
   "outputs": [],
   "source": []
  },
  {
   "cell_type": "code",
   "execution_count": null,
   "id": "ca5de329",
   "metadata": {},
   "outputs": [],
   "source": []
  }
 ],
 "metadata": {
  "kernelspec": {
   "display_name": "Python 3 (ipykernel)",
   "language": "python",
   "name": "python3"
  },
  "language_info": {
   "codemirror_mode": {
    "name": "ipython",
    "version": 3
   },
   "file_extension": ".py",
   "mimetype": "text/x-python",
   "name": "python",
   "nbconvert_exporter": "python",
   "pygments_lexer": "ipython3",
   "version": "3.9.7"
  }
 },
 "nbformat": 4,
 "nbformat_minor": 5
}
